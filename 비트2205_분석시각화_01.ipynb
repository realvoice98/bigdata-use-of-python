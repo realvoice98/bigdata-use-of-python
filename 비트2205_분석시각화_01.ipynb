{
  "nbformat": 4,
  "nbformat_minor": 0,
  "metadata": {
    "colab": {
      "name": "비트2205_분석시각화_01",
      "provenance": [],
      "collapsed_sections": [
        "Tmnb_e9Ij3LM",
        "vjLgKeisoaoc",
        "9-6Ne1Dopdcc"
      ],
      "include_colab_link": true
    },
    "kernelspec": {
      "name": "python3",
      "display_name": "Python 3"
    },
    "language_info": {
      "name": "python"
    }
  },
  "cells": [
    {
      "cell_type": "markdown",
      "metadata": {
        "id": "view-in-github",
        "colab_type": "text"
      },
      "source": [
        "<a href=\"https://colab.research.google.com/github/realvoice98/bigdata-use-of-python/blob/main/%EB%B9%84%ED%8A%B82205_%EB%B6%84%EC%84%9D%EC%8B%9C%EA%B0%81%ED%99%94_01.ipynb\" target=\"_parent\"><img src=\"https://colab.research.google.com/assets/colab-badge.svg\" alt=\"Open In Colab\"/></a>"
      ]
    },
    {
      "cell_type": "code",
      "source": [
        "tu = 2,3\n",
        "print(type(tu))"
      ],
      "metadata": {
        "colab": {
          "base_uri": "https://localhost:8080/"
        },
        "id": "Kl2R5gY1eKRv",
        "outputId": "a10e3df8-5767-4372-9fe1-b7e1b53fe4f9"
      },
      "execution_count": null,
      "outputs": [
        {
          "output_type": "stream",
          "name": "stdout",
          "text": [
            "<class 'tuple'>\n"
          ]
        }
      ]
    },
    {
      "cell_type": "code",
      "source": [
        "def get_sum_aver(data):\n",
        "  s = 0\n",
        "  for e in data : \n",
        "    s+=e\n",
        "  return s,s/len(data)"
      ],
      "metadata": {
        "id": "lZoZzAn5ejet"
      },
      "execution_count": null,
      "outputs": []
    },
    {
      "cell_type": "code",
      "source": [
        "re = get_sum_aver([1,4,5,32,5])\n",
        "print(type(re))"
      ],
      "metadata": {
        "colab": {
          "base_uri": "https://localhost:8080/"
        },
        "id": "8ysIJD2be1Pj",
        "outputId": "aaac8872-07b4-427f-d173-09441239aafa"
      },
      "execution_count": null,
      "outputs": [
        {
          "output_type": "stream",
          "name": "stdout",
          "text": [
            "<class 'tuple'>\n"
          ]
        }
      ]
    },
    {
      "cell_type": "code",
      "source": [
        "a,b = re\n",
        "print(a,b)"
      ],
      "metadata": {
        "colab": {
          "base_uri": "https://localhost:8080/"
        },
        "id": "mmNDuM6ye7Wx",
        "outputId": "099e2ddb-0497-4aac-e95b-8eb9071e203a"
      },
      "execution_count": null,
      "outputs": [
        {
          "output_type": "stream",
          "name": "stdout",
          "text": [
            "47 9.4\n"
          ]
        }
      ]
    },
    {
      "cell_type": "code",
      "source": [
        "s,a = get_sum_aver([1,4,5,32,5])\n",
        "print(f\"합계 :{s} 평균 :{a:.2f}\")"
      ],
      "metadata": {
        "colab": {
          "base_uri": "https://localhost:8080/"
        },
        "id": "Xaj_coP8e_Px",
        "outputId": "aa17ed39-6366-4aea-b82e-68c1472da45e"
      },
      "execution_count": null,
      "outputs": [
        {
          "output_type": "stream",
          "name": "stdout",
          "text": [
            "합계 :47 평균 :9.40\n"
          ]
        }
      ]
    },
    {
      "cell_type": "markdown",
      "source": [
        "# 리스트"
      ],
      "metadata": {
        "id": "x5ePiVIRgwej"
      }
    },
    {
      "cell_type": "markdown",
      "source": [
        ""
      ],
      "metadata": {
        "id": "0Jv5Mi9igsSM"
      }
    },
    {
      "cell_type": "code",
      "source": [
        "la = [2,3,4]\n",
        "lb = [4,2,1]\n",
        "lc = la+lb\n",
        "print(lc)\n"
      ],
      "metadata": {
        "colab": {
          "base_uri": "https://localhost:8080/"
        },
        "id": "h0ImMj2Zgx-p",
        "outputId": "c9fcb30d-f154-46cb-ded6-59fb31ca8d54"
      },
      "execution_count": 102,
      "outputs": [
        {
          "output_type": "stream",
          "name": "stdout",
          "text": [
            "[2, 3, 4, 4, 2, 1]\n"
          ]
        }
      ]
    },
    {
      "cell_type": "markdown",
      "source": [
        "# 왜 numpy냐?\n",
        "행렬 계산등을 쉽게"
      ],
      "metadata": {
        "id": "kFEah8nWhNil"
      }
    },
    {
      "cell_type": "code",
      "source": [
        "import numpy as np"
      ],
      "metadata": {
        "id": "vHAqnVdvhRTB"
      },
      "execution_count": 100,
      "outputs": []
    },
    {
      "cell_type": "code",
      "source": [
        "na = np.array([1,2,3])\n",
        "nb = np.array([2,5,2])\n",
        "nc = na+nb\n",
        "print(nc)"
      ],
      "metadata": {
        "colab": {
          "base_uri": "https://localhost:8080/"
        },
        "id": "kQmuvQXqhUrm",
        "outputId": "1e601459-4764-4d36-fc7a-7bff7bbc2062"
      },
      "execution_count": 101,
      "outputs": [
        {
          "output_type": "stream",
          "name": "stdout",
          "text": [
            "[3 7 5]\n"
          ]
        }
      ]
    },
    {
      "cell_type": "markdown",
      "source": [
        ""
      ],
      "metadata": {
        "id": "sR-i4IytJ98S"
      }
    },
    {
      "cell_type": "markdown",
      "source": [
        "# 리스트 컴프리핸션"
      ],
      "metadata": {
        "id": "TOhpN7jxiOlK"
      }
    },
    {
      "cell_type": "code",
      "source": [
        "a = [ x for x in range(10)]\n",
        "print(a)"
      ],
      "metadata": {
        "colab": {
          "base_uri": "https://localhost:8080/"
        },
        "id": "1yoDG63iiQrR",
        "outputId": "3ed4c621-637f-4227-e82c-eac1c39147ff"
      },
      "execution_count": 93,
      "outputs": [
        {
          "output_type": "stream",
          "name": "stdout",
          "text": [
            "[0, 1, 2, 3, 4, 5, 6, 7, 8, 9]\n"
          ]
        }
      ]
    },
    {
      "cell_type": "code",
      "source": [
        "a = []\n",
        "for x in range(10):\n",
        "  a.append(x)\n",
        "print(a)"
      ],
      "metadata": {
        "colab": {
          "base_uri": "https://localhost:8080/"
        },
        "id": "g3ptD8OsieRB",
        "outputId": "d3510765-7976-4581-c0a2-eb4ffa4936fa"
      },
      "execution_count": 94,
      "outputs": [
        {
          "output_type": "stream",
          "name": "stdout",
          "text": [
            "[0, 1, 2, 3, 4, 5, 6, 7, 8, 9]\n"
          ]
        }
      ]
    },
    {
      "cell_type": "code",
      "source": [
        ""
      ],
      "metadata": {
        "id": "u02UWcvTii5b"
      },
      "execution_count": 94,
      "outputs": []
    },
    {
      "cell_type": "markdown",
      "source": [
        "# 데이터 수집 - 1. 웹크롤링"
      ],
      "metadata": {
        "id": "Tmnb_e9Ij3LM"
      }
    },
    {
      "cell_type": "code",
      "source": [
        "import urllib.request"
      ],
      "metadata": {
        "id": "6BBufOGFj6GA"
      },
      "execution_count": 95,
      "outputs": []
    },
    {
      "cell_type": "code",
      "source": [
        "reponse = urllib.request.urlopen('http://ehpub.co.kr')\n",
        "print(reponse)"
      ],
      "metadata": {
        "colab": {
          "base_uri": "https://localhost:8080/"
        },
        "id": "QQHDwRRCj9P7",
        "outputId": "680c07b1-c5ed-4473-d09d-4fbf3f847f98"
      },
      "execution_count": 96,
      "outputs": [
        {
          "output_type": "stream",
          "name": "stdout",
          "text": [
            "<http.client.HTTPResponse object at 0x7f3e72bd5390>\n"
          ]
        }
      ]
    },
    {
      "cell_type": "code",
      "source": [
        "if reponse.getcode() !=200:\n",
        "  print(\"허걱!!!\")\n",
        "else : \n",
        "  print(\"웹 크롤링 성공\")"
      ],
      "metadata": {
        "colab": {
          "base_uri": "https://localhost:8080/"
        },
        "id": "2BeQZnghkT61",
        "outputId": "44934914-4163-4eea-8270-74d40802f5f4"
      },
      "execution_count": 97,
      "outputs": [
        {
          "output_type": "stream",
          "name": "stdout",
          "text": [
            "웹 크롤링 성공\n"
          ]
        }
      ]
    },
    {
      "cell_type": "code",
      "source": [
        "result = reponse.read().decode('utf-8')\n",
        "print(result)"
      ],
      "metadata": {
        "colab": {
          "base_uri": "https://localhost:8080/"
        },
        "id": "27iLhpWZkuYy",
        "outputId": "149a9db7-39f4-4af0-dc57-12355cf6f510"
      },
      "execution_count": 98,
      "outputs": [
        {
          "output_type": "stream",
          "name": "stdout",
          "text": [
            "<!DOCTYPE html>\n",
            "<html lang=\"ko-KR\">\n",
            "<head>\n",
            "\t<title>언제나 휴일 &#8211; 언제나 휴일 프로그래머</title>\n",
            "<meta name='robots' content='max-image-preview:large' />\n",
            "<meta charset=\"UTF-8\" />\n",
            "<meta name=\"viewport\" content=\"width=device-width, initial-scale=1\" />\n",
            "<meta name=\"template\" content=\"Ignite 1.80\" />\n",
            "<link rel='dns-prefetch' href='//fonts.googleapis.com' />\n",
            "<link rel='dns-prefetch' href='//s.w.org' />\n",
            "<link rel=\"alternate\" type=\"application/rss+xml\" title=\"언제나 휴일 &raquo; 피드\" href=\"http://ehpub.co.kr/feed/\" />\n",
            "<link rel=\"alternate\" type=\"application/rss+xml\" title=\"언제나 휴일 &raquo; 댓글 피드\" href=\"http://ehpub.co.kr/comments/feed/\" />\n",
            "<script type=\"text/javascript\">\n",
            "window._wpemojiSettings = {\"baseUrl\":\"https:\\/\\/s.w.org\\/images\\/core\\/emoji\\/13.1.0\\/72x72\\/\",\"ext\":\".png\",\"svgUrl\":\"https:\\/\\/s.w.org\\/images\\/core\\/emoji\\/13.1.0\\/svg\\/\",\"svgExt\":\".svg\",\"source\":{\"concatemoji\":\"http:\\/\\/ehpub.co.kr\\/wp-includes\\/js\\/wp-emoji-release.min.js?ver=5.9.3\"}};\n",
            "/*! This file is auto-generated */\n",
            "!function(e,a,t){var n,r,o,i=a.createElement(\"canvas\"),p=i.getContext&&i.getContext(\"2d\");function s(e,t){var a=String.fromCharCode;p.clearRect(0,0,i.width,i.height),p.fillText(a.apply(this,e),0,0);e=i.toDataURL();return p.clearRect(0,0,i.width,i.height),p.fillText(a.apply(this,t),0,0),e===i.toDataURL()}function c(e){var t=a.createElement(\"script\");t.src=e,t.defer=t.type=\"text/javascript\",a.getElementsByTagName(\"head\")[0].appendChild(t)}for(o=Array(\"flag\",\"emoji\"),t.supports={everything:!0,everythingExceptFlag:!0},r=0;r<o.length;r++)t.supports[o[r]]=function(e){if(!p||!p.fillText)return!1;switch(p.textBaseline=\"top\",p.font=\"600 32px Arial\",e){case\"flag\":return s([127987,65039,8205,9895,65039],[127987,65039,8203,9895,65039])?!1:!s([55356,56826,55356,56819],[55356,56826,8203,55356,56819])&&!s([55356,57332,56128,56423,56128,56418,56128,56421,56128,56430,56128,56423,56128,56447],[55356,57332,8203,56128,56423,8203,56128,56418,8203,56128,56421,8203,56128,56430,8203,56128,56423,8203,56128,56447]);case\"emoji\":return!s([10084,65039,8205,55357,56613],[10084,65039,8203,55357,56613])}return!1}(o[r]),t.supports.everything=t.supports.everything&&t.supports[o[r]],\"flag\"!==o[r]&&(t.supports.everythingExceptFlag=t.supports.everythingExceptFlag&&t.supports[o[r]]);t.supports.everythingExceptFlag=t.supports.everythingExceptFlag&&!t.supports.flag,t.DOMReady=!1,t.readyCallback=function(){t.DOMReady=!0},t.supports.everything||(n=function(){t.readyCallback()},a.addEventListener?(a.addEventListener(\"DOMContentLoaded\",n,!1),e.addEventListener(\"load\",n,!1)):(e.attachEvent(\"onload\",n),a.attachEvent(\"onreadystatechange\",function(){\"complete\"===a.readyState&&t.readyCallback()})),(n=t.source||{}).concatemoji?c(n.concatemoji):n.wpemoji&&n.twemoji&&(c(n.twemoji),c(n.wpemoji)))}(window,document,window._wpemojiSettings);\n",
            "</script>\n",
            "<style type=\"text/css\">\n",
            "img.wp-smiley,\n",
            "img.emoji {\n",
            "\tdisplay: inline !important;\n",
            "\tborder: none !important;\n",
            "\tbox-shadow: none !important;\n",
            "\theight: 1em !important;\n",
            "\twidth: 1em !important;\n",
            "\tmargin: 0 0.07em !important;\n",
            "\tvertical-align: -0.1em !important;\n",
            "\tbackground: none !important;\n",
            "\tpadding: 0 !important;\n",
            "}\n",
            "</style>\n",
            "\t<link rel='stylesheet' id='wp-block-library-css'  href='http://ehpub.co.kr/wp-includes/css/dist/block-library/style.min.css?ver=5.9.3' type='text/css' media='all' />\n",
            "<style id='global-styles-inline-css' type='text/css'>\n",
            "body{--wp--preset--color--black: #000000;--wp--preset--color--cyan-bluish-gray: #abb8c3;--wp--preset--color--white: #ffffff;--wp--preset--color--pale-pink: #f78da7;--wp--preset--color--vivid-red: #cf2e2e;--wp--preset--color--luminous-vivid-orange: #ff6900;--wp--preset--color--luminous-vivid-amber: #fcb900;--wp--preset--color--light-green-cyan: #7bdcb5;--wp--preset--color--vivid-green-cyan: #00d084;--wp--preset--color--pale-cyan-blue: #8ed1fc;--wp--preset--color--vivid-cyan-blue: #0693e3;--wp--preset--color--vivid-purple: #9b51e0;--wp--preset--gradient--vivid-cyan-blue-to-vivid-purple: linear-gradient(135deg,rgba(6,147,227,1) 0%,rgb(155,81,224) 100%);--wp--preset--gradient--light-green-cyan-to-vivid-green-cyan: linear-gradient(135deg,rgb(122,220,180) 0%,rgb(0,208,130) 100%);--wp--preset--gradient--luminous-vivid-amber-to-luminous-vivid-orange: linear-gradient(135deg,rgba(252,185,0,1) 0%,rgba(255,105,0,1) 100%);--wp--preset--gradient--luminous-vivid-orange-to-vivid-red: linear-gradient(135deg,rgba(255,105,0,1) 0%,rgb(207,46,46) 100%);--wp--preset--gradient--very-light-gray-to-cyan-bluish-gray: linear-gradient(135deg,rgb(238,238,238) 0%,rgb(169,184,195) 100%);--wp--preset--gradient--cool-to-warm-spectrum: linear-gradient(135deg,rgb(74,234,220) 0%,rgb(151,120,209) 20%,rgb(207,42,186) 40%,rgb(238,44,130) 60%,rgb(251,105,98) 80%,rgb(254,248,76) 100%);--wp--preset--gradient--blush-light-purple: linear-gradient(135deg,rgb(255,206,236) 0%,rgb(152,150,240) 100%);--wp--preset--gradient--blush-bordeaux: linear-gradient(135deg,rgb(254,205,165) 0%,rgb(254,45,45) 50%,rgb(107,0,62) 100%);--wp--preset--gradient--luminous-dusk: linear-gradient(135deg,rgb(255,203,112) 0%,rgb(199,81,192) 50%,rgb(65,88,208) 100%);--wp--preset--gradient--pale-ocean: linear-gradient(135deg,rgb(255,245,203) 0%,rgb(182,227,212) 50%,rgb(51,167,181) 100%);--wp--preset--gradient--electric-grass: linear-gradient(135deg,rgb(202,248,128) 0%,rgb(113,206,126) 100%);--wp--preset--gradient--midnight: linear-gradient(135deg,rgb(2,3,129) 0%,rgb(40,116,252) 100%);--wp--preset--duotone--dark-grayscale: url('#wp-duotone-dark-grayscale');--wp--preset--duotone--grayscale: url('#wp-duotone-grayscale');--wp--preset--duotone--purple-yellow: url('#wp-duotone-purple-yellow');--wp--preset--duotone--blue-red: url('#wp-duotone-blue-red');--wp--preset--duotone--midnight: url('#wp-duotone-midnight');--wp--preset--duotone--magenta-yellow: url('#wp-duotone-magenta-yellow');--wp--preset--duotone--purple-green: url('#wp-duotone-purple-green');--wp--preset--duotone--blue-orange: url('#wp-duotone-blue-orange');--wp--preset--font-size--small: 13px;--wp--preset--font-size--medium: 20px;--wp--preset--font-size--large: 21px;--wp--preset--font-size--x-large: 42px;--wp--preset--font-size--regular: 16px;--wp--preset--font-size--larger: 36px;}.has-black-color{color: var(--wp--preset--color--black) !important;}.has-cyan-bluish-gray-color{color: var(--wp--preset--color--cyan-bluish-gray) !important;}.has-white-color{color: var(--wp--preset--color--white) !important;}.has-pale-pink-color{color: var(--wp--preset--color--pale-pink) !important;}.has-vivid-red-color{color: var(--wp--preset--color--vivid-red) !important;}.has-luminous-vivid-orange-color{color: var(--wp--preset--color--luminous-vivid-orange) !important;}.has-luminous-vivid-amber-color{color: var(--wp--preset--color--luminous-vivid-amber) !important;}.has-light-green-cyan-color{color: var(--wp--preset--color--light-green-cyan) !important;}.has-vivid-green-cyan-color{color: var(--wp--preset--color--vivid-green-cyan) !important;}.has-pale-cyan-blue-color{color: var(--wp--preset--color--pale-cyan-blue) !important;}.has-vivid-cyan-blue-color{color: var(--wp--preset--color--vivid-cyan-blue) !important;}.has-vivid-purple-color{color: var(--wp--preset--color--vivid-purple) !important;}.has-black-background-color{background-color: var(--wp--preset--color--black) !important;}.has-cyan-bluish-gray-background-color{background-color: var(--wp--preset--color--cyan-bluish-gray) !important;}.has-white-background-color{background-color: var(--wp--preset--color--white) !important;}.has-pale-pink-background-color{background-color: var(--wp--preset--color--pale-pink) !important;}.has-vivid-red-background-color{background-color: var(--wp--preset--color--vivid-red) !important;}.has-luminous-vivid-orange-background-color{background-color: var(--wp--preset--color--luminous-vivid-orange) !important;}.has-luminous-vivid-amber-background-color{background-color: var(--wp--preset--color--luminous-vivid-amber) !important;}.has-light-green-cyan-background-color{background-color: var(--wp--preset--color--light-green-cyan) !important;}.has-vivid-green-cyan-background-color{background-color: var(--wp--preset--color--vivid-green-cyan) !important;}.has-pale-cyan-blue-background-color{background-color: var(--wp--preset--color--pale-cyan-blue) !important;}.has-vivid-cyan-blue-background-color{background-color: var(--wp--preset--color--vivid-cyan-blue) !important;}.has-vivid-purple-background-color{background-color: var(--wp--preset--color--vivid-purple) !important;}.has-black-border-color{border-color: var(--wp--preset--color--black) !important;}.has-cyan-bluish-gray-border-color{border-color: var(--wp--preset--color--cyan-bluish-gray) !important;}.has-white-border-color{border-color: var(--wp--preset--color--white) !important;}.has-pale-pink-border-color{border-color: var(--wp--preset--color--pale-pink) !important;}.has-vivid-red-border-color{border-color: var(--wp--preset--color--vivid-red) !important;}.has-luminous-vivid-orange-border-color{border-color: var(--wp--preset--color--luminous-vivid-orange) !important;}.has-luminous-vivid-amber-border-color{border-color: var(--wp--preset--color--luminous-vivid-amber) !important;}.has-light-green-cyan-border-color{border-color: var(--wp--preset--color--light-green-cyan) !important;}.has-vivid-green-cyan-border-color{border-color: var(--wp--preset--color--vivid-green-cyan) !important;}.has-pale-cyan-blue-border-color{border-color: var(--wp--preset--color--pale-cyan-blue) !important;}.has-vivid-cyan-blue-border-color{border-color: var(--wp--preset--color--vivid-cyan-blue) !important;}.has-vivid-purple-border-color{border-color: var(--wp--preset--color--vivid-purple) !important;}.has-vivid-cyan-blue-to-vivid-purple-gradient-background{background: var(--wp--preset--gradient--vivid-cyan-blue-to-vivid-purple) !important;}.has-light-green-cyan-to-vivid-green-cyan-gradient-background{background: var(--wp--preset--gradient--light-green-cyan-to-vivid-green-cyan) !important;}.has-luminous-vivid-amber-to-luminous-vivid-orange-gradient-background{background: var(--wp--preset--gradient--luminous-vivid-amber-to-luminous-vivid-orange) !important;}.has-luminous-vivid-orange-to-vivid-red-gradient-background{background: var(--wp--preset--gradient--luminous-vivid-orange-to-vivid-red) !important;}.has-very-light-gray-to-cyan-bluish-gray-gradient-background{background: var(--wp--preset--gradient--very-light-gray-to-cyan-bluish-gray) !important;}.has-cool-to-warm-spectrum-gradient-background{background: var(--wp--preset--gradient--cool-to-warm-spectrum) !important;}.has-blush-light-purple-gradient-background{background: var(--wp--preset--gradient--blush-light-purple) !important;}.has-blush-bordeaux-gradient-background{background: var(--wp--preset--gradient--blush-bordeaux) !important;}.has-luminous-dusk-gradient-background{background: var(--wp--preset--gradient--luminous-dusk) !important;}.has-pale-ocean-gradient-background{background: var(--wp--preset--gradient--pale-ocean) !important;}.has-electric-grass-gradient-background{background: var(--wp--preset--gradient--electric-grass) !important;}.has-midnight-gradient-background{background: var(--wp--preset--gradient--midnight) !important;}.has-small-font-size{font-size: var(--wp--preset--font-size--small) !important;}.has-medium-font-size{font-size: var(--wp--preset--font-size--medium) !important;}.has-large-font-size{font-size: var(--wp--preset--font-size--large) !important;}.has-x-large-font-size{font-size: var(--wp--preset--font-size--x-large) !important;}\n",
            "</style>\n",
            "<link rel='stylesheet' id='ct-ignite-google-fonts-css'  href='//fonts.googleapis.com/css?family=Lato%3AThin%2CThin+Italic%2CLight%2CLight+Italic%2CRegular%2CItalic%2CBold%2CBold+Italic%2CUltra-Bold%2CUltra-Bold+Italic&#038;subset=latin%2Clatin-ext&#038;ver=5.9.3' type='text/css' media='all' />\n",
            "<link rel='stylesheet' id='ct-ignite-font-awesome-css'  href='http://ehpub.co.kr/wp-content/themes/ignite/assets/font-awesome/css/all.min.css?ver=5.9.3' type='text/css' media='all' />\n",
            "<link rel='stylesheet' id='ct-ignite-style-css'  href='http://ehpub.co.kr/wp-content/themes/ignite/style.css?ver=5.9.3' type='text/css' media='all' />\n",
            "<style id='ct-ignite-style-inline-css' type='text/css'>\n",
            "\n",
            "            body, h1, h2, h3, h4, h5, h6, input:not([type='checkbox']):not([type='radio']):not([type='submit']):not([type='file']), input[type='submit'], textarea {\n",
            "                font-family: Lato;\n",
            "                font-style: normal;\n",
            "                font-weight: 400;\n",
            "            }\n",
            "        \n",
            "\n",
            "            .overflow-container {\n",
            "                background: ;\n",
            "            }\n",
            "            .main, .sidebar-primary-container, .breadcrumb-trail {\n",
            "                background: none;\n",
            "            }\n",
            "        \n",
            "</style>\n",
            "<link rel='stylesheet' id='__EPYT__style-css'  href='http://ehpub.co.kr/wp-content/plugins/youtube-embed-plus/styles/ytprefs.min.css?ver=14.1' type='text/css' media='all' />\n",
            "<style id='__EPYT__style-inline-css' type='text/css'>\n",
            "\r\n",
            "                .epyt-gallery-thumb {\r\n",
            "                        width: 33.333%;\r\n",
            "                }\r\n",
            "                \n",
            "</style>\n",
            "<script type='text/javascript' src='http://ehpub.co.kr/wp-includes/js/jquery/jquery.min.js?ver=3.6.0' id='jquery-core-js'></script>\n",
            "<script type='text/javascript' src='http://ehpub.co.kr/wp-includes/js/jquery/jquery-migrate.min.js?ver=3.3.2' id='jquery-migrate-js'></script>\n",
            "<script type='text/javascript' id='__ytprefs__-js-extra'>\n",
            "/* <![CDATA[ */\n",
            "var _EPYT_ = {\"ajaxurl\":\"http:\\/\\/ehpub.co.kr\\/wp-admin\\/admin-ajax.php\",\"security\":\"8868268f4b\",\"gallery_scrolloffset\":\"20\",\"eppathtoscripts\":\"http:\\/\\/ehpub.co.kr\\/wp-content\\/plugins\\/youtube-embed-plus\\/scripts\\/\",\"eppath\":\"http:\\/\\/ehpub.co.kr\\/wp-content\\/plugins\\/youtube-embed-plus\\/\",\"epresponsiveselector\":\"[\\\"iframe.__youtube_prefs_widget__\\\"]\",\"epdovol\":\"1\",\"version\":\"14.1\",\"evselector\":\"iframe.__youtube_prefs__[src], iframe[src*=\\\"youtube.com\\/embed\\/\\\"], iframe[src*=\\\"youtube-nocookie.com\\/embed\\/\\\"]\",\"ajax_compat\":\"\",\"ytapi_load\":\"light\",\"pause_others\":\"\",\"stopMobileBuffer\":\"1\",\"not_live_on_channel\":\"\",\"vi_active\":\"\",\"vi_js_posttypes\":[]};\n",
            "/* ]]> */\n",
            "</script>\n",
            "<script type='text/javascript' src='http://ehpub.co.kr/wp-content/plugins/youtube-embed-plus/scripts/ytprefs.min.js?ver=14.1' id='__ytprefs__-js'></script>\n",
            "<link rel=\"https://api.w.org/\" href=\"http://ehpub.co.kr/wp-json/\" /><link rel=\"alternate\" type=\"application/json\" href=\"http://ehpub.co.kr/wp-json/wp/v2/pages/1523\" /><link rel=\"EditURI\" type=\"application/rsd+xml\" title=\"RSD\" href=\"http://ehpub.co.kr/xmlrpc.php?rsd\" />\n",
            "<link rel=\"wlwmanifest\" type=\"application/wlwmanifest+xml\" href=\"http://ehpub.co.kr/wp-includes/wlwmanifest.xml\" /> \n",
            "<meta name=\"generator\" content=\"WordPress 5.9.3\" />\n",
            "<link rel=\"canonical\" href=\"http://ehpub.co.kr/\" />\n",
            "<link rel='shortlink' href='http://ehpub.co.kr/' />\n",
            "<link rel=\"alternate\" type=\"application/json+oembed\" href=\"http://ehpub.co.kr/wp-json/oembed/1.0/embed?url=http%3A%2F%2Fehpub.co.kr%2F\" />\n",
            "<link rel=\"alternate\" type=\"text/xml+oembed\" href=\"http://ehpub.co.kr/wp-json/oembed/1.0/embed?url=http%3A%2F%2Fehpub.co.kr%2F&#038;format=xml\" />\n",
            "                <!-- auto ad code generated with Easy Google AdSense plugin v1.0.4 -->\r\n",
            "                <script async src=\"https://pagead2.googlesyndication.com/pagead/js/adsbygoogle.js?client=ca-pub-7491702915541503\" crossorigin=\"anonymous\"></script>      \r\n",
            "                <!-- / Easy Google AdSense plugin -->\n",
            "<!-- Goolytics - Simple Google Analytics Begin -->\n",
            "<script async src=\"//www.googletagmanager.com/gtag/js?id=UA-78763610-1\"></script>\n",
            "<script>window.dataLayer = window.dataLayer || [];\n",
            "function gtag(){dataLayer.push(arguments);}\n",
            "gtag('js', new Date());\n",
            "\n",
            "gtag('config', 'UA-78763610-1');\n",
            "</script>\n",
            "<!-- Goolytics - Simple Google Analytics End -->\n",
            "\n",
            "<!-- Analytics by WP-Statistics v13.2.1 - https://wp-statistics.com/ -->\n",
            "<link rel=\"icon\" href=\"http://ehpub.co.kr/wp-content/uploads/2022/04/cropped-siteicon-32x32.png\" sizes=\"32x32\" />\n",
            "<link rel=\"icon\" href=\"http://ehpub.co.kr/wp-content/uploads/2022/04/cropped-siteicon-192x192.png\" sizes=\"192x192\" />\n",
            "<link rel=\"apple-touch-icon\" href=\"http://ehpub.co.kr/wp-content/uploads/2022/04/cropped-siteicon-180x180.png\" />\n",
            "<meta name=\"msapplication-TileImage\" content=\"http://ehpub.co.kr/wp-content/uploads/2022/04/cropped-siteicon-270x270.png\" />\n",
            "<link rel=\"alternate\" type=\"application/rss+xml\" title=\"RSS\" href=\"http://ehpub.co.kr/rsslatest.xml\" />        <meta name=\"naver-site-verification\" content=\"6f4ed8a07844154e42be4de3982dc627e201840f\" />\n",
            "        <!-- Global site tag (gtag.js) - Google Analytics -->\n",
            "        <script async src=\"https://www.googletagmanager.com/gtag/js?id=UA-78763610-1\"></script>\n",
            "        <script>\n",
            "              window.dataLayer = window.dataLayer || [];\n",
            "              function gtag(){dataLayer.push(arguments);}\n",
            "                 gtag('js', new Date());\n",
            "\n",
            "                 gtag('config', 'UA-78763610-1');\n",
            "         </script>\n",
            "        <!-- Global site tag (gtag.js) - Google Analytics -->\n",
            "        <script async src=\"https://www.googletagmanager.com/gtag/js?id=G-N4M3VC623V\"></script>\n",
            "        <script>\n",
            "              window.dataLayer = window.dataLayer || [];\n",
            "              function gtag(){dataLayer.push(arguments);}\n",
            "                 gtag('js', new Date());\n",
            "\n",
            "                 gtag('config', 'G-N4M3VC623V');\n",
            "         </script>\n",
            "</head>\n",
            "<body id=\"ignite\" class=\"home page-template-default page page-id-1523 parent-icons singular singular-page singular-page-1523\">\n",
            "\t<svg xmlns=\"http://www.w3.org/2000/svg\" viewBox=\"0 0 0 0\" width=\"0\" height=\"0\" focusable=\"false\" role=\"none\" style=\"visibility: hidden; position: absolute; left: -9999px; overflow: hidden;\" ><defs><filter id=\"wp-duotone-dark-grayscale\"><feColorMatrix color-interpolation-filters=\"sRGB\" type=\"matrix\" values=\" .299 .587 .114 0 0 .299 .587 .114 0 0 .299 .587 .114 0 0 .299 .587 .114 0 0 \" /><feComponentTransfer color-interpolation-filters=\"sRGB\" ><feFuncR type=\"table\" tableValues=\"0 0.49803921568627\" /><feFuncG type=\"table\" tableValues=\"0 0.49803921568627\" /><feFuncB type=\"table\" tableValues=\"0 0.49803921568627\" /><feFuncA type=\"table\" tableValues=\"1 1\" /></feComponentTransfer><feComposite in2=\"SourceGraphic\" operator=\"in\" /></filter></defs></svg><svg xmlns=\"http://www.w3.org/2000/svg\" viewBox=\"0 0 0 0\" width=\"0\" height=\"0\" focusable=\"false\" role=\"none\" style=\"visibility: hidden; position: absolute; left: -9999px; overflow: hidden;\" ><defs><filter id=\"wp-duotone-grayscale\"><feColorMatrix color-interpolation-filters=\"sRGB\" type=\"matrix\" values=\" .299 .587 .114 0 0 .299 .587 .114 0 0 .299 .587 .114 0 0 .299 .587 .114 0 0 \" /><feComponentTransfer color-interpolation-filters=\"sRGB\" ><feFuncR type=\"table\" tableValues=\"0 1\" /><feFuncG type=\"table\" tableValues=\"0 1\" /><feFuncB type=\"table\" tableValues=\"0 1\" /><feFuncA type=\"table\" tableValues=\"1 1\" /></feComponentTransfer><feComposite in2=\"SourceGraphic\" operator=\"in\" /></filter></defs></svg><svg xmlns=\"http://www.w3.org/2000/svg\" viewBox=\"0 0 0 0\" width=\"0\" height=\"0\" focusable=\"false\" role=\"none\" style=\"visibility: hidden; position: absolute; left: -9999px; overflow: hidden;\" ><defs><filter id=\"wp-duotone-purple-yellow\"><feColorMatrix color-interpolation-filters=\"sRGB\" type=\"matrix\" values=\" .299 .587 .114 0 0 .299 .587 .114 0 0 .299 .587 .114 0 0 .299 .587 .114 0 0 \" /><feComponentTransfer color-interpolation-filters=\"sRGB\" ><feFuncR type=\"table\" tableValues=\"0.54901960784314 0.98823529411765\" /><feFuncG type=\"table\" tableValues=\"0 1\" /><feFuncB type=\"table\" tableValues=\"0.71764705882353 0.25490196078431\" /><feFuncA type=\"table\" tableValues=\"1 1\" /></feComponentTransfer><feComposite in2=\"SourceGraphic\" operator=\"in\" /></filter></defs></svg><svg xmlns=\"http://www.w3.org/2000/svg\" viewBox=\"0 0 0 0\" width=\"0\" height=\"0\" focusable=\"false\" role=\"none\" style=\"visibility: hidden; position: absolute; left: -9999px; overflow: hidden;\" ><defs><filter id=\"wp-duotone-blue-red\"><feColorMatrix color-interpolation-filters=\"sRGB\" type=\"matrix\" values=\" .299 .587 .114 0 0 .299 .587 .114 0 0 .299 .587 .114 0 0 .299 .587 .114 0 0 \" /><feComponentTransfer color-interpolation-filters=\"sRGB\" ><feFuncR type=\"table\" tableValues=\"0 1\" /><feFuncG type=\"table\" tableValues=\"0 0.27843137254902\" /><feFuncB type=\"table\" tableValues=\"0.5921568627451 0.27843137254902\" /><feFuncA type=\"table\" tableValues=\"1 1\" /></feComponentTransfer><feComposite in2=\"SourceGraphic\" operator=\"in\" /></filter></defs></svg><svg xmlns=\"http://www.w3.org/2000/svg\" viewBox=\"0 0 0 0\" width=\"0\" height=\"0\" focusable=\"false\" role=\"none\" style=\"visibility: hidden; position: absolute; left: -9999px; overflow: hidden;\" ><defs><filter id=\"wp-duotone-midnight\"><feColorMatrix color-interpolation-filters=\"sRGB\" type=\"matrix\" values=\" .299 .587 .114 0 0 .299 .587 .114 0 0 .299 .587 .114 0 0 .299 .587 .114 0 0 \" /><feComponentTransfer color-interpolation-filters=\"sRGB\" ><feFuncR type=\"table\" tableValues=\"0 0\" /><feFuncG type=\"table\" tableValues=\"0 0.64705882352941\" /><feFuncB type=\"table\" tableValues=\"0 1\" /><feFuncA type=\"table\" tableValues=\"1 1\" /></feComponentTransfer><feComposite in2=\"SourceGraphic\" operator=\"in\" /></filter></defs></svg><svg xmlns=\"http://www.w3.org/2000/svg\" viewBox=\"0 0 0 0\" width=\"0\" height=\"0\" focusable=\"false\" role=\"none\" style=\"visibility: hidden; position: absolute; left: -9999px; overflow: hidden;\" ><defs><filter id=\"wp-duotone-magenta-yellow\"><feColorMatrix color-interpolation-filters=\"sRGB\" type=\"matrix\" values=\" .299 .587 .114 0 0 .299 .587 .114 0 0 .299 .587 .114 0 0 .299 .587 .114 0 0 \" /><feComponentTransfer color-interpolation-filters=\"sRGB\" ><feFuncR type=\"table\" tableValues=\"0.78039215686275 1\" /><feFuncG type=\"table\" tableValues=\"0 0.94901960784314\" /><feFuncB type=\"table\" tableValues=\"0.35294117647059 0.47058823529412\" /><feFuncA type=\"table\" tableValues=\"1 1\" /></feComponentTransfer><feComposite in2=\"SourceGraphic\" operator=\"in\" /></filter></defs></svg><svg xmlns=\"http://www.w3.org/2000/svg\" viewBox=\"0 0 0 0\" width=\"0\" height=\"0\" focusable=\"false\" role=\"none\" style=\"visibility: hidden; position: absolute; left: -9999px; overflow: hidden;\" ><defs><filter id=\"wp-duotone-purple-green\"><feColorMatrix color-interpolation-filters=\"sRGB\" type=\"matrix\" values=\" .299 .587 .114 0 0 .299 .587 .114 0 0 .299 .587 .114 0 0 .299 .587 .114 0 0 \" /><feComponentTransfer color-interpolation-filters=\"sRGB\" ><feFuncR type=\"table\" tableValues=\"0.65098039215686 0.40392156862745\" /><feFuncG type=\"table\" tableValues=\"0 1\" /><feFuncB type=\"table\" tableValues=\"0.44705882352941 0.4\" /><feFuncA type=\"table\" tableValues=\"1 1\" /></feComponentTransfer><feComposite in2=\"SourceGraphic\" operator=\"in\" /></filter></defs></svg><svg xmlns=\"http://www.w3.org/2000/svg\" viewBox=\"0 0 0 0\" width=\"0\" height=\"0\" focusable=\"false\" role=\"none\" style=\"visibility: hidden; position: absolute; left: -9999px; overflow: hidden;\" ><defs><filter id=\"wp-duotone-blue-orange\"><feColorMatrix color-interpolation-filters=\"sRGB\" type=\"matrix\" values=\" .299 .587 .114 0 0 .299 .587 .114 0 0 .299 .587 .114 0 0 .299 .587 .114 0 0 \" /><feComponentTransfer color-interpolation-filters=\"sRGB\" ><feFuncR type=\"table\" tableValues=\"0.098039215686275 1\" /><feFuncG type=\"table\" tableValues=\"0 0.66274509803922\" /><feFuncB type=\"table\" tableValues=\"0.84705882352941 0.41960784313725\" /><feFuncA type=\"table\" tableValues=\"1 1\" /></feComponentTransfer><feComposite in2=\"SourceGraphic\" operator=\"in\" /></filter></defs></svg>\t<a class=\"skip-content\" href=\"#main\">Skip to content</a>\n",
            "\t\t<header class=\"site-header\" id=\"site-header\" role=\"banner\">\n",
            "\t\t<div id=\"title-info\" class=\"title-info\">\n",
            "\t\t\t<div class=\"site-title\"><a href='http://ehpub.co.kr'><span class='screen-reader-text'>언제나 휴일</span><img id='logo' class='logo' src='http://ehpub.co.kr/wp-content/uploads/2022/04/ehpub-로고-1.png' alt='언제나휴일' /></a></div>\t\t</div>\n",
            "\t\t<button id=\"toggle-navigation\" class=\"toggle-navigation\"><i class=\"fas fa-bars\"></i></button>\n",
            "<div class=\"menu-container menu-primary\" id=\"menu-primary\" role=\"navigation\">\n",
            "\t<p id=\"site-description\" class=\"tagline\">언제나 휴일 프로그래머</p><ul id=\"menu-primary-items\" class=\"menu-primary-items\"><li id=\"menu-item-1528\" class=\"menu-item menu-item-type-custom menu-item-object-custom menu-item-has-children menu-item-1528\"><a href=\"http://ehpub.co.kr/c-introduce/\">C언어</a>\n",
            "<ul class=\"sub-menu\">\n",
            "\t<li id=\"menu-item-1519\" class=\"menu-item menu-item-type-custom menu-item-object-custom menu-item-1519\"><a href=\"http://ehpub.co.kr/c-introduce/\">디딤돌 C언어</a></li>\n",
            "\t<li id=\"menu-item-4952\" class=\"menu-item menu-item-type-custom menu-item-object-custom menu-item-4952\"><a href=\"http://ehpub.co.kr/%ec%96%b8%ec%a0%9c%eb%82%98-c%ec%96%b8%ec%96%b4-%ec%8b%9c%ec%9e%91%ed%95%a9%eb%8b%88%eb%8b%a4/\">언제나 C언어</a></li>\n",
            "\t<li id=\"menu-item-429\" class=\"menu-item menu-item-type-taxonomy menu-item-object-category menu-item-429\"><a href=\"http://ehpub.co.kr/category/c%ec%96%b8%ec%96%b4-%ec%86%8c%ec%8a%a4/\">C언어 소스</a></li>\n",
            "\t<li id=\"menu-item-1521\" class=\"menu-item menu-item-type-custom menu-item-object-custom menu-item-1521\"><a href=\"http://ehpub.co.kr/c%ec%96%b8%ec%96%b4-%ed%91%9c%ec%a4%80%ea%b3%bc-%ec%b1%85%ec%9d%98-%ea%b8%b0%ec%88%a0-%eb%b2%94%ec%9c%84/\">C언어 표준 라이브러리 함수</a></li>\n",
            "\t<li id=\"menu-item-1522\" class=\"menu-item menu-item-type-custom menu-item-object-custom menu-item-1522\"><a href=\"http://ehpub.co.kr/%ec%95%8c%ea%b3%a0%eb%a6%ac%ec%a6%98-c%ec%96%b8%ec%96%b4-1-%eb%8b%a4%eb%a3%a8%eb%8a%94-%eb%82%b4%ec%9a%a9/\">C언어 알고리즘</a></li>\n",
            "\t<li id=\"menu-item-3046\" class=\"menu-item menu-item-type-custom menu-item-object-custom menu-item-3046\"><a href=\"http://ehpub.co.kr/1-%eb%8b%a4%eb%a3%a8%eb%8a%94-%eb%82%b4%ec%9a%a9/\">자료구조와 알고리즘</a></li>\n",
            "\t<li id=\"menu-item-2975\" class=\"menu-item menu-item-type-custom menu-item-object-custom menu-item-2975\"><a href=\"http://ehpub.co.kr/c-%ed%94%84%eb%a1%9c%ec%a0%9d%ed%8a%b8-%ed%8c%a8%ed%82%b7-%eb%b6%84%ec%84%9d%ea%b8%b0-part-1-%ed%94%84%eb%a1%9c%ec%a0%9d%ed%8a%b8-%ec%86%8c%ea%b0%9c-%eb%b0%8f-%ed%8f%ac%ec%9d%b8%ed%84%b0-%ea%b0%80/\">패킷 분석 프로그램 [프로젝트]</a></li>\n",
            "</ul>\n",
            "</li>\n",
            "<li id=\"menu-item-1532\" class=\"menu-item menu-item-type-custom menu-item-object-custom menu-item-has-children menu-item-1532\"><a href=\"http://ehpub.co.kr/%eb%94%94%eb%94%a4%eb%8f%8c-c-1-%eb%93%a4%ec%96%b4%ea%b0%80%ea%b8%b0%ec%97%90-%ec%95%9e%ec%84%9c/\">C++</a>\n",
            "<ul class=\"sub-menu\">\n",
            "\t<li id=\"menu-item-1533\" class=\"menu-item menu-item-type-custom menu-item-object-custom menu-item-1533\"><a href=\"http://ehpub.co.kr/%eb%94%94%eb%94%a4%eb%8f%8c-c-1-%eb%93%a4%ec%96%b4%ea%b0%80%ea%b8%b0%ec%97%90-%ec%95%9e%ec%84%9c/\">디딤돌 C++</a></li>\n",
            "\t<li id=\"menu-item-1806\" class=\"menu-item menu-item-type-custom menu-item-object-custom menu-item-1806\"><a href=\"http://ehpub.co.kr/complex-class-capsulation-cpp/\">C++ 실습</a></li>\n",
            "\t<li id=\"menu-item-1835\" class=\"menu-item menu-item-type-custom menu-item-object-custom menu-item-1835\"><a href=\"http://ehpub.co.kr/1-%ec%86%8c%ea%b0%9c-%ec%9e%90%eb%a3%8c%ea%b5%ac%ec%a1%b0%ec%99%80-%ec%95%8c%ea%b3%a0%eb%a6%ac%ec%a6%98-with-c/\">자료구조/알고리즘 C++</a></li>\n",
            "\t<li id=\"menu-item-5633\" class=\"menu-item menu-item-type-custom menu-item-object-custom menu-item-5633\"><a href=\"http://ehpub.co.kr/1-windows-api-%ec%86%8c%ea%b0%9c/\">Windows API</a></li>\n",
            "\t<li id=\"menu-item-5417\" class=\"menu-item menu-item-type-custom menu-item-object-custom menu-item-5417\"><a href=\"http://ehpub.co.kr/1-tcp-ip-%eb%84%a4%ed%8a%b8%ec%9b%8c%ed%81%ac-%ec%86%8c%ea%b0%9c-tcp-ip-%ec%86%8c%ec%bc%93-%ed%94%84%eb%a1%9c%ea%b7%b8%eb%9e%98%eb%b0%8d-with-%ec%9c%88%eb%8f%84%ec%9a%b0%ec%a6%88/\">TCP/IP 소켓 프로그래밍 with 윈도우즈</a></li>\n",
            "</ul>\n",
            "</li>\n",
            "<li id=\"menu-item-1529\" class=\"menu-item menu-item-type-custom menu-item-object-custom menu-item-has-children menu-item-1529\"><a href=\"http://ehpub.co.kr/c-1-c-%ec%86%8c%ea%b0%9c/\">C#과 .NET</a>\n",
            "<ul class=\"sub-menu\">\n",
            "\t<li id=\"menu-item-1520\" class=\"menu-item menu-item-type-custom menu-item-object-custom menu-item-1520\"><a href=\"http://ehpub.co.kr/c-1-c-%ec%86%8c%ea%b0%9c/\">Escort C#</a></li>\n",
            "\t<li id=\"menu-item-2176\" class=\"menu-item menu-item-type-custom menu-item-object-custom menu-item-2176\"><a href=\"http://ehpub.co.kr/%ec%8b%a4%ec%8a%b5%ec%9c%bc%eb%a1%9c-%eb%8b%a4%ec%a7%80%eb%8a%94-c-1-%eb%ac%b8%ec%9e%90%ec%97%b4-%ec%b6%9c%eb%a0%a5-%ed%8f%ac%eb%a9%a7/\">C# 실습</a></li>\n",
            "\t<li id=\"menu-item-3469\" class=\"menu-item menu-item-type-custom menu-item-object-custom menu-item-3469\"><a href=\"http://ehpub.co.kr/%ec%86%8c%ed%94%84%ed%8a%b8%ec%9b%a8%ec%96%b4-%ec%84%a4%ea%b3%84-c-1%eb%b6%80-%ec%83%9d%ec%84%b1-%ed%8c%a8%ed%84%b4%eb%93%a4/\">소프트웨어 설계 패턴</a></li>\n",
            "\t<li id=\"menu-item-2297\" class=\"menu-item menu-item-type-custom menu-item-object-custom menu-item-2297\"><a href=\"http://ehpub.co.kr/windows-forms-cs-start/\">Windows Forms</a></li>\n",
            "\t<li id=\"menu-item-6667\" class=\"menu-item menu-item-type-custom menu-item-object-custom menu-item-6667\"><a href=\"http://ehpub.co.kr/windows-forms-%ec%9d%91%ec%9a%a9-with-c-1-form/\">Windows Forms 앱</a></li>\n",
            "\t<li id=\"menu-item-3294\" class=\"menu-item menu-item-type-custom menu-item-object-custom menu-item-3294\"><a href=\"http://ehpub.co.kr/wpf-start/\">WPF</a></li>\n",
            "\t<li id=\"menu-item-3349\" class=\"menu-item menu-item-type-custom menu-item-object-custom menu-item-3349\"><a href=\"http://ehpub.co.kr/tcp-echo-server-client-network-programming-cs/\">소켓 통신</a></li>\n",
            "\t<li id=\"menu-item-3718\" class=\"menu-item menu-item-type-custom menu-item-object-custom menu-item-3718\"><a href=\"http://ehpub.co.kr/1-%ec%86%8c%ed%94%84%ed%8a%b8%ec%9b%a8%ec%96%b4-%ec%a0%91%ea%b7%bc%ec%84%b1-%ea%b0%9c%ec%9a%94-%eb%b0%8f-%ea%b0%80%ec%9d%b4%eb%93%9c%eb%9d%bc%ec%9d%b8/\">SW 접근성 기술 UI 자동화</a></li>\n",
            "\t<li id=\"menu-item-4668\" class=\"menu-item menu-item-type-custom menu-item-object-custom menu-item-4668\"><a href=\"http://ehpub.co.kr/xml-net-1-xml-%ec%86%8c%ea%b0%9c/\">XML.NET</a></li>\n",
            "\t<li id=\"menu-item-4779\" class=\"menu-item menu-item-type-custom menu-item-object-custom menu-item-4779\"><a href=\"http://ehpub.co.kr/1-sql-%ea%b0%9c%ec%9a%94/\">MSSQL과 ADO.NET</a></li>\n",
            "</ul>\n",
            "</li>\n",
            "<li id=\"menu-item-3470\" class=\"menu-item menu-item-type-custom menu-item-object-custom menu-item-has-children menu-item-3470\"><a href=\"http://ehpub.co.kr/c-%ed%94%84%eb%a1%9c%ec%a0%9d%ed%8a%b8-%ed%85%8c%ed%8a%b8%eb%a6%ac%ec%8a%a4-%eb%a7%8c%eb%93%a4%ea%b8%b0-part-1-%ed%82%a4%eb%b3%b4%eb%93%9c%eb%a1%9c-%eb%8f%84%ed%98%95-%ec%a0%9c%ec%96%b4%ed%95%98/\">.NET 프로젝트</a>\n",
            "<ul class=\"sub-menu\">\n",
            "\t<li id=\"menu-item-2880\" class=\"menu-item menu-item-type-custom menu-item-object-custom menu-item-2880\"><a href=\"http://ehpub.co.kr/c-%ed%94%84%eb%a1%9c%ec%a0%9d%ed%8a%b8-%ed%85%8c%ed%8a%b8%eb%a6%ac%ec%8a%a4-%eb%a7%8c%eb%93%a4%ea%b8%b0-part-1-%ed%82%a4%eb%b3%b4%eb%93%9c%eb%a1%9c-%eb%8f%84%ed%98%95-%ec%a0%9c%ec%96%b4%ed%95%98/\">테트리스</a></li>\n",
            "\t<li id=\"menu-item-2912\" class=\"menu-item menu-item-type-custom menu-item-object-custom menu-item-2912\"><a href=\"http://ehpub.co.kr/%ec%9b%90%ea%b2%a9-%ec%a0%9c%ec%96%b4-%ed%94%84%eb%a1%9c%ea%b7%b8%eb%9e%a8-1-%ea%b0%9c%ec%9a%94/\">원격 제어 프로그램</a></li>\n",
            "\t<li id=\"menu-item-2834\" class=\"menu-item menu-item-type-custom menu-item-object-custom menu-item-2834\"><a href=\"http://ehpub.co.kr/wafer-%ec%bd%94%ed%8c%85-%ec%8b%9c%eb%ae%ac%eb%a0%88%ec%9d%b4%ec%85%98-1-%ec%86%8c%ea%b0%9c/\">Wafer 코팅 시뮬레이션</a></li>\n",
            "\t<li id=\"menu-item-2353\" class=\"menu-item menu-item-type-custom menu-item-object-custom menu-item-2353\"><a href=\"http://ehpub.co.kr/0-%eb%93%a4%ec%96%b4%ea%b0%80%ea%b8%b0%ec%97%90-%ec%95%9e%ec%84%9c/\">웹 검색 엔진 만들기</a></li>\n",
            "\t<li id=\"menu-item-3684\" class=\"menu-item menu-item-type-custom menu-item-object-custom menu-item-3684\"><a href=\"http://ehpub.co.kr/%eb%af%b8%eb%94%94-%eb%b6%84%ec%84%9d-%ed%94%84%eb%a1%9c%ea%b7%b8%eb%9e%a8-1-%ed%94%84%eb%a1%9c%ec%a0%9d%ed%8a%b8-%ec%86%8c%ea%b0%9c/\">미디 분석 프로그램</a></li>\n",
            "\t<li id=\"menu-item-3389\" class=\"menu-item menu-item-type-custom menu-item-object-custom menu-item-3389\"><a href=\"http://ehpub.co.kr/ml-net-install-uninstall-cs/\">ML.NET</a></li>\n",
            "\t<li id=\"menu-item-3409\" class=\"menu-item menu-item-type-custom menu-item-object-custom menu-item-3409\"><a href=\"http://ehpub.co.kr/news-crawling-naver-developers-csharp-bigdata-analysis/\">빅데이터 C#</a></li>\n",
            "</ul>\n",
            "</li>\n",
            "<li id=\"menu-item-2890\" class=\"menu-item menu-item-type-custom menu-item-object-custom menu-item-has-children menu-item-2890\"><a href=\"http://ehpub.co.kr/%ed%9b%84%ec%9c%84-%ed%91%9c%ea%b8%b0-%ec%88%98%ec%8b%9d-%ea%b3%84%ec%82%b0-%ec%8a%a4%ed%83%9d-%ea%b3%84%ec%82%b0%ea%b8%b0-%ec%bd%94%eb%94%a9-%ed%85%8c%ec%8a%a4%ed%8a%b8-python/\">파이썬</a>\n",
            "<ul class=\"sub-menu\">\n",
            "\t<li id=\"menu-item-4084\" class=\"menu-item menu-item-type-custom menu-item-object-custom menu-item-4084\"><a href=\"http://ehpub.co.kr/1-visual-studio%ec%97%90-python-%ec%84%a4%ec%b9%98-%eb%b0%8f-%ed%85%8c%ec%8a%a4%ed%8a%b8%ed%95%98%ea%b8%b0/\">미래실험실 pYTHON</a></li>\n",
            "\t<li id=\"menu-item-2889\" class=\"menu-item menu-item-type-custom menu-item-object-custom menu-item-2889\"><a href=\"http://ehpub.co.kr/%ed%9b%84%ec%9c%84-%ed%91%9c%ea%b8%b0-%ec%88%98%ec%8b%9d-%ea%b3%84%ec%82%b0-%ec%8a%a4%ed%83%9d-%ea%b3%84%ec%82%b0%ea%b8%b0-%ec%bd%94%eb%94%a9-%ed%85%8c%ec%8a%a4%ed%8a%b8-python/\">코딩테스트</a></li>\n",
            "\t<li id=\"menu-item-3001\" class=\"menu-item menu-item-type-custom menu-item-object-custom menu-item-3001\"><a href=\"http://ehpub.co.kr/%eb%b9%85%eb%8d%b0%ec%9d%b4%ed%84%b0-python-%ec%9b%b9-%ed%8e%98%ec%9d%b4%ec%a7%80-%ec%88%98%ec%a7%91%ed%95%98%ea%b8%b0/\">웹 수집 검색 엔진</a></li>\n",
            "\t<li id=\"menu-item-5780\" class=\"menu-item menu-item-type-custom menu-item-object-custom menu-item-5780\"><a href=\"http://ehpub.co.kr/merchine-learning-perceptron-xor/\">머신러닝/딥러닝</a></li>\n",
            "\t<li id=\"menu-item-6561\" class=\"menu-item menu-item-type-custom menu-item-object-custom menu-item-6561\"><a href=\"http://ehpub.co.kr/%ed%8c%8c%ec%9d%b4%ec%8d%ac%ec%9c%bc%eb%a1%9c-%ec%a7%80%ec%97%ad-%ea%b2%80%ec%83%89-%eb%b0%8f-%ec%a7%80%eb%8f%84%ec%97%90-%eb%82%98%ed%83%80%eb%82%b4%ea%b8%b0-1-%ed%94%84%eb%a1%9c%ec%a0%9d%ed%8a%b8/\">Open API 활용</a></li>\n",
            "\t<li id=\"menu-item-5674\" class=\"menu-item menu-item-type-custom menu-item-object-custom menu-item-5674\"><a href=\"http://ehpub.co.kr/opencv-in-colab-%eb%b2%84%ec%a0%84-%ed%99%95%ec%9d%b8-%eb%b0%8f-%ec%9d%b4%eb%af%b8%ec%a7%80-%eb%a1%9c%eb%94%a9/\">OpenCV in Colab</a></li>\n",
            "</ul>\n",
            "</li>\n",
            "<li id=\"menu-item-5881\" class=\"menu-item menu-item-type-custom menu-item-object-custom menu-item-has-children menu-item-5881\"><a href=\"http://ehpub.co.kr/java-1-%ec%86%8c%ea%b0%9c/\">Java</a>\n",
            "<ul class=\"sub-menu\">\n",
            "\t<li id=\"menu-item-5882\" class=\"menu-item menu-item-type-custom menu-item-object-custom menu-item-5882\"><a href=\"http://ehpub.co.kr/java-1-%ec%86%8c%ea%b0%9c/\">Java 입문</a></li>\n",
            "\t<li id=\"menu-item-6176\" class=\"menu-item menu-item-type-custom menu-item-object-custom menu-item-6176\"><a href=\"http://ehpub.co.kr/java-%ed%99%9c%ec%9a%a9-1-%ed%8c%a8%ed%82%a4%ec%a7%80/\">Java 활용</a></li>\n",
            "</ul>\n",
            "</li>\n",
            "<li id=\"menu-item-3977\" class=\"menu-item menu-item-type-custom menu-item-object-custom menu-item-has-children menu-item-3977\"><a href=\"http://ehpub.co.kr/1-%ec%89%98-%ed%94%84%eb%a1%9c%ea%b7%b8%eb%9e%98%eb%b0%8d-%ec%8b%9c%ec%9e%91%ed%95%98%ea%b8%b0-%eb%a1%9c%ea%b8%b4-%ec%89%98-%ed%99%95%ec%9d%b8-%eb%b0%8f-%eb%b3%80%ea%b2%bd%ed%95%98%ea%b8%b0/\">리눅스</a>\n",
            "<ul class=\"sub-menu\">\n",
            "\t<li id=\"menu-item-3976\" class=\"menu-item menu-item-type-custom menu-item-object-custom menu-item-3976\"><a href=\"http://ehpub.co.kr/1-%ec%89%98-%ed%94%84%eb%a1%9c%ea%b7%b8%eb%9e%98%eb%b0%8d-%ec%8b%9c%ec%9e%91%ed%95%98%ea%b8%b0-%eb%a1%9c%ea%b8%b4-%ec%89%98-%ed%99%95%ec%9d%b8-%eb%b0%8f-%eb%b3%80%ea%b2%bd%ed%95%98%ea%b8%b0/\">쉘 프로그래밍</a></li>\n",
            "\t<li id=\"menu-item-4394\" class=\"menu-item menu-item-type-custom menu-item-object-custom menu-item-4394\"><a href=\"http://ehpub.co.kr/%eb%a6%ac%eb%88%85%ec%8a%a4-%ec%8b%9c%ec%8a%a4%ed%85%9c-%ed%94%84%eb%a1%9c%ea%b7%b8%eb%9e%98%eb%b0%8d-1-%eb%93%a4%ec%96%b4%ea%b0%80%ea%b8%b0%ec%97%90-%ec%95%9e%ec%84%9c/\">리눅스 시스템 프로그래밍</a></li>\n",
            "</ul>\n",
            "</li>\n",
            "<li id=\"menu-item-6263\" class=\"menu-item menu-item-type-custom menu-item-object-custom menu-item-has-children menu-item-6263\"><a href=\"http://ehpub.co.kr/go-%ec%96%b8%ec%96%b4-1-%ea%b5%ac%ea%b8%80-go-%ed%94%84%eb%a1%9c%ea%b7%b8%eb%9e%98%eb%b0%8d-%ec%96%b8%ec%96%b4-%ec%86%8c%ea%b0%9c/\">기타 언어</a>\n",
            "<ul class=\"sub-menu\">\n",
            "\t<li id=\"menu-item-6262\" class=\"menu-item menu-item-type-custom menu-item-object-custom menu-item-6262\"><a href=\"http://ehpub.co.kr/go-%ec%96%b8%ec%96%b4-1-%ea%b5%ac%ea%b8%80-go-%ed%94%84%eb%a1%9c%ea%b7%b8%eb%9e%98%eb%b0%8d-%ec%96%b8%ec%96%b4-%ec%86%8c%ea%b0%9c/\">Go 언어</a></li>\n",
            "\t<li id=\"menu-item-5705\" class=\"menu-item menu-item-type-custom menu-item-object-custom menu-item-5705\"><a href=\"http://ehpub.co.kr/r-%ec%84%a4%ec%b9%98-%eb%b0%8f-rstduio-%ec%84%a4%ec%b9%98-%eb%8d%b0%ec%9d%b4%ed%84%b0-%eb%b6%84%ec%84%9d-with-r/\">R 입문</a></li>\n",
            "\t<li id=\"menu-item-6472\" class=\"menu-item menu-item-type-custom menu-item-object-custom menu-item-6472\"><a href=\"http://ehpub.co.kr/html5-1-%ec%b2%ab-%eb%b2%88%ec%a7%b8-%eb%a7%8c%eb%93%9c%eb%8a%94-html-%eb%ac%b8%ec%84%9c-hello-html/\">HTML5</a></li>\n",
            "</ul>\n",
            "</li>\n",
            "<li id=\"menu-item-6517\" class=\"menu-item menu-item-type-custom menu-item-object-custom menu-item-has-children menu-item-6517\"><a href=\"http://ehpub.co.kr/ethernet-%ed%94%84%eb%a1%9c%ed%86%a0%ec%bd%9c/\">설치 및 기타</a>\n",
            "<ul class=\"sub-menu\">\n",
            "\t<li id=\"menu-item-6518\" class=\"menu-item menu-item-type-custom menu-item-object-custom menu-item-6518\"><a href=\"http://ehpub.co.kr/ethernet-%ed%94%84%eb%a1%9c%ed%86%a0%ec%bd%9c/\">TCP/IP 프로토콜</a></li>\n",
            "\t<li id=\"menu-item-6601\" class=\"menu-item menu-item-type-custom menu-item-object-custom menu-item-6601\"><a href=\"http://ehpub.co.kr/whois-open-api-%ec%82%ac%ec%9a%a9%ed%82%a4-%eb%b0%9c%ea%b8%89%eb%b0%9b%ea%b8%b0/\">설치 및 가입 서비스</a></li>\n",
            "</ul>\n",
            "</li>\n",
            "<li id=\"menu-item-5036\" class=\"menu-item menu-item-type-custom menu-item-object-custom menu-item-has-children menu-item-5036\"><a href=\"http://ehpub.co.kr/%ea%b3%84%ec%82%b0%ea%b8%b0-%ea%b5%ac%ec%a1%b0-1-%eb%a9%94%eb%aa%a8%eb%a6%ac-%eb%8b%a8%ec%9c%84/\">정보처리기사</a>\n",
            "<ul class=\"sub-menu\">\n",
            "\t<li id=\"menu-item-5035\" class=\"menu-item menu-item-type-custom menu-item-object-custom menu-item-5035\"><a href=\"http://ehpub.co.kr/%ea%b3%84%ec%82%b0%ea%b8%b0-%ea%b5%ac%ec%a1%b0-1-%eb%a9%94%eb%aa%a8%eb%a6%ac-%eb%8b%a8%ec%9c%84/\">계산기 구조</a></li>\n",
            "\t<li id=\"menu-item-5178\" class=\"menu-item menu-item-type-custom menu-item-object-custom menu-item-5178\"><a href=\"http://ehpub.co.kr/%eb%8d%b0%ec%9d%b4%ed%84%b0-%ed%86%b5%ec%8b%a0-1-%eb%8d%b0%ec%9d%b4%ed%84%b0-%ed%86%b5%ec%8b%a0/\">데이터 통신</a></li>\n",
            "\t<li id=\"menu-item-5226\" class=\"menu-item menu-item-type-custom menu-item-object-custom menu-item-5226\"><a href=\"http://ehpub.co.kr/1-%eb%8d%b0%ec%9d%b4%ed%84%b0%eb%b2%a0%ec%9d%b4%ec%8a%a4database-%ec%8b%9c%ec%8a%a4%ed%85%9c/\">데이터베이스</a></li>\n",
            "\t<li id=\"menu-item-5335\" class=\"menu-item menu-item-type-custom menu-item-object-custom menu-item-5335\"><a href=\"http://ehpub.co.kr/%ec%86%8c%ed%94%84%ed%8a%b8%ec%9b%a8%ec%96%b4-%ea%b3%b5%ed%95%99-1-%ec%86%8c%ed%94%84%ed%8a%b8%ec%9b%a8%ec%96%b4-%ea%b3%b5%ed%95%99/\">소프트웨어 공학</a></li>\n",
            "\t<li id=\"menu-item-5385\" class=\"menu-item menu-item-type-custom menu-item-object-custom menu-item-5385\"><a href=\"http://ehpub.co.kr/%ec%9a%b4%ec%98%81%ec%b2%b4%ec%a0%9c-1-%ec%9a%b4%ec%98%81%ec%b2%b4%ec%a0%9c/\">운영체제</a></li>\n",
            "</ul>\n",
            "</li>\n",
            "<li id=\"menu-item-18\" class=\"menu-item menu-item-type-taxonomy menu-item-object-category menu-item-18\"><a href=\"http://ehpub.co.kr/category/%ec%82%ac%ec%9d%b4%ed%8a%b8-%ec%86%8c%ea%b0%9c/\">사이트 소개</a></li>\n",
            "</ul><ul class='social-media-icons'>\t\t\t\t<li>\n",
            "\t\t\t\t\t<a class=\"facebook\" target=\"_blank\"\n",
            "\t\t\t\t\t   href=\"https://www.facebook.com/profile.php?id=100000623458082\">\n",
            "\t\t\t\t\t\t<i class=\"fab fa-facebook-square\" title=\"facebook\"></i>\n",
            "\t\t\t\t\t\t<span class=\"screen-reader-text\">facebook</span>\n",
            "\t\t\t\t\t</a>\n",
            "\t\t\t\t</li>\n",
            "\t\t\t\t\t\t\t\t<li>\n",
            "\t\t\t\t\t<a class=\"youtube\" target=\"_blank\"\n",
            "\t\t\t\t\t   href=\"https://www.youtube.com/channel/UCudvMbbxHnAdPlM1sa-VHxQ\">\n",
            "\t\t\t\t\t\t<i class=\"fab fa-youtube-square\" title=\"youtube\"></i>\n",
            "\t\t\t\t\t\t<span class=\"screen-reader-text\">youtube</span>\n",
            "\t\t\t\t\t</a>\n",
            "\t\t\t\t</li>\n",
            "\t\t\t\t</ul></div>\t</header>\n",
            "\t\t<div id=\"overflow-container\" class=\"overflow-container\">\n",
            "\t\t\t\t<div id=\"main\" class=\"main\" role=\"main\">\t<div id=\"loop-container\" class=\"loop-container\">\n",
            "\t\t<div class=\"post-1523 page type-page status-publish hentry entry\">\n",
            "\t\t<div class='entry-header'>\n",
            "\t\t<h1 class='entry-title'>언제나휴일</h1>\n",
            "\t</div>\n",
            "\t<div class='entry-content'>\n",
            "\t\t<article>\n",
            "\t\t\t\n",
            "<p>안녕하세요. 언제나휴일입니다.</p>\n",
            "\n",
            "\n",
            "\n",
            "<blockquote class=\"wp-block-quote\"><p>오늘도 즐거운 하루입니다.</p></blockquote>\n",
            "\n",
            "\n",
            "\n",
            "<p>언제나휴일에서는 다양한 프로그래밍 언어와 기술 자료를 공유합니다.</p>\n",
            "\n",
            "\n",
            "\n",
            "<p><a href=\"https://www.youtube.com/channel/UCudvMbbxHnAdPlM1sa-VHxQ\">유튜브</a>를 통해 동영상 강의도 제공하고 있습니다.</p>\n",
            "\n",
            "\n",
            "\n",
            "<h2>C언어</h2>\n",
            "\n",
            "\n",
            "\n",
            "<p><a rel=\"noreferrer noopener\" href=\"http://ehpub.co.kr/c-introduce/\" target=\"_blank\">디딤돌 C언어</a>    /    <a rel=\"noreferrer noopener\" href=\"http://ehpub.co.kr/%ec%96%b8%ec%a0%9c%eb%82%98-c%ec%96%b8%ec%96%b4-%ec%8b%9c%ec%9e%91%ed%95%a9%eb%8b%88%eb%8b%a4/\" target=\"_blank\">언제나 C언어</a>    /     <a href=\"http://ehpub.co.kr/%ec%96%b8%ec%a0%9c%eb%82%98-c%ec%96%b8%ec%96%b4-%ec%8b%9c%ec%9e%91%ed%95%a9%eb%8b%88%eb%8b%a4/\" target=\"_blank\" rel=\"noreferrer noopener\">C언어 소스</a>    /    <a rel=\"noreferrer noopener\" href=\"http://ehpub.co.kr/c%ec%96%b8%ec%96%b4-%ed%91%9c%ec%a4%80%ea%b3%bc-%ec%b1%85%ec%9d%98-%ea%b8%b0%ec%88%a0-%eb%b2%94%ec%9c%84/\" target=\"_blank\">C언어 표준 라이브러리 함수</a></p>\n",
            "\n",
            "\n",
            "\n",
            "<p><a href=\"http://ehpub.co.kr/%ec%95%8c%ea%b3%a0%eb%a6%ac%ec%a6%98-c%ec%96%b8%ec%96%b4-1-%eb%8b%a4%eb%a3%a8%eb%8a%94-%eb%82%b4%ec%9a%a9/\" target=\"_blank\" rel=\"noreferrer noopener\">C언어 알고리즘</a>    /    <a href=\"http://ehpub.co.kr/1-%eb%8b%a4%eb%a3%a8%eb%8a%94-%eb%82%b4%ec%9a%a9/\" target=\"_blank\" rel=\"noreferrer noopener\">자료구조와 알고리즘</a>    /    <a href=\"http://ehpub.co.kr/c-%ed%94%84%eb%a1%9c%ec%a0%9d%ed%8a%b8-%ed%8c%a8%ed%82%b7-%eb%b6%84%ec%84%9d%ea%b8%b0-part-1-%ed%94%84%eb%a1%9c%ec%a0%9d%ed%8a%b8-%ec%86%8c%ea%b0%9c-%eb%b0%8f-%ed%8f%ac%ec%9d%b8%ed%84%b0-%ea%b0%80/\" target=\"_blank\" rel=\"noreferrer noopener\">패킷 분석 프로그램 [프로젝트]</a></p>\n",
            "\n",
            "\n",
            "\n",
            "<h2>C++</h2>\n",
            "\n",
            "\n",
            "\n",
            "<p><a href=\"http://ehpub.co.kr/%eb%94%94%eb%94%a4%eb%8f%8c-c-1-%eb%93%a4%ec%96%b4%ea%b0%80%ea%b8%b0%ec%97%90-%ec%95%9e%ec%84%9c/\" target=\"_blank\" rel=\"noreferrer noopener\">디딤돌 C++</a>    /    <a href=\"http://ehpub.co.kr/complex-class-capsulation-cpp/\" target=\"_blank\" rel=\"noreferrer noopener\">C++실습</a>    /    <a href=\"http://ehpub.co.kr/1-%ec%86%8c%ea%b0%9c-%ec%9e%90%eb%a3%8c%ea%b5%ac%ec%a1%b0%ec%99%80-%ec%95%8c%ea%b3%a0%eb%a6%ac%ec%a6%98-with-c/\" target=\"_blank\" rel=\"noreferrer noopener\">자료구조/알고리즘 C++</a></p>\n",
            "\n",
            "\n",
            "\n",
            "<p><a href=\"http://ehpub.co.kr/1-windows-api-%ec%86%8c%ea%b0%9c/\" target=\"_blank\" rel=\"noreferrer noopener\">Windows API</a>    /    <a href=\"http://ehpub.co.kr/1-tcp-ip-%eb%84%a4%ed%8a%b8%ec%9b%8c%ed%81%ac-%ec%86%8c%ea%b0%9c-tcp-ip-%ec%86%8c%ec%bc%93-%ed%94%84%eb%a1%9c%ea%b7%b8%eb%9e%98%eb%b0%8d-with-%ec%9c%88%eb%8f%84%ec%9a%b0%ec%a6%88/\" target=\"_blank\" rel=\"noreferrer noopener\">TCP/IP 소켓 프로그래밍 with 윈도우즈</a></p>\n",
            "\n",
            "\n",
            "\n",
            "<h2>C#과 .NET</h2>\n",
            "\n",
            "\n",
            "\n",
            "<p><a href=\"http://ehpub.co.kr/c-1-c-%ec%86%8c%ea%b0%9c/\" target=\"_blank\" rel=\"noreferrer noopener\">Escort C#</a>    /    <a href=\"http://ehpub.co.kr/%ec%8b%a4%ec%8a%b5%ec%9c%bc%eb%a1%9c-%eb%8b%a4%ec%a7%80%eb%8a%94-c-1-%eb%ac%b8%ec%9e%90%ec%97%b4-%ec%b6%9c%eb%a0%a5-%ed%8f%ac%eb%a9%a7/\" target=\"_blank\" rel=\"noreferrer noopener\">C#실습</a>    /    <a href=\"http://ehpub.co.kr/%ec%86%8c%ed%94%84%ed%8a%b8%ec%9b%a8%ec%96%b4-%ec%84%a4%ea%b3%84-c-1%eb%b6%80-%ec%83%9d%ec%84%b1-%ed%8c%a8%ed%84%b4%eb%93%a4/\" target=\"_blank\" rel=\"noreferrer noopener\">소프트웨어 설계 패턴</a></p>\n",
            "\n",
            "\n",
            "\n",
            "<p><a href=\"http://ehpub.co.kr/windows-forms-cs-start/\" target=\"_blank\" rel=\"noreferrer noopener\">Windows Forms</a>    /    <a href=\"http://ehpub.co.kr/windows-forms-%ec%9d%91%ec%9a%a9-with-c-1-form/\" target=\"_blank\" rel=\"noreferrer noopener\">Windows Forms 앱</a>    /    <a href=\"http://ehpub.co.kr/wpf-start/\" target=\"_blank\" rel=\"noreferrer noopener\">WPF</a>    </p>\n",
            "\n",
            "\n",
            "\n",
            "<p> <a href=\"http://ehpub.co.kr/xml-net-1-xml-%ec%86%8c%ea%b0%9c/\" target=\"_blank\" rel=\"noreferrer noopener\">XML.NET</a>    /    <a href=\"http://ehpub.co.kr/1-sql-%ea%b0%9c%ec%9a%94/\" target=\"_blank\" rel=\"noreferrer noopener\">MSSQL과 ADO.NET</a>    /    <a href=\"http://ehpub.co.kr/tcp-echo-server-client-network-programming-cs/\" target=\"_blank\" rel=\"noreferrer noopener\">소켓 통신</a>    /    <a href=\"http://ehpub.co.kr/1-%ec%86%8c%ed%94%84%ed%8a%b8%ec%9b%a8%ec%96%b4-%ec%a0%91%ea%b7%bc%ec%84%b1-%ea%b0%9c%ec%9a%94-%eb%b0%8f-%ea%b0%80%ec%9d%b4%eb%93%9c%eb%9d%bc%ec%9d%b8/\" target=\"_blank\" rel=\"noreferrer noopener\">S/W접근성 기술 UI 자동화</a> </p>\n",
            "\n",
            "\n",
            "\n",
            "<h2>.NET 프로젝트</h2>\n",
            "\n",
            "\n",
            "\n",
            "<p><a href=\"http://ehpub.co.kr/c-%ed%94%84%eb%a1%9c%ec%a0%9d%ed%8a%b8-%ed%85%8c%ed%8a%b8%eb%a6%ac%ec%8a%a4-%eb%a7%8c%eb%93%a4%ea%b8%b0-part-1-%ed%82%a4%eb%b3%b4%eb%93%9c%eb%a1%9c-%eb%8f%84%ed%98%95-%ec%a0%9c%ec%96%b4%ed%95%98/\" target=\"_blank\" rel=\"noreferrer noopener\">테트리스</a>    /    <a href=\"http://ehpub.co.kr/%ec%9b%90%ea%b2%a9-%ec%a0%9c%ec%96%b4-%ed%94%84%eb%a1%9c%ea%b7%b8%eb%9e%a8-1-%ea%b0%9c%ec%9a%94/\" target=\"_blank\" rel=\"noreferrer noopener\">원격 제어 프로그램</a>     /    <a href=\"http://ehpub.co.kr/wafer-%ec%bd%94%ed%8c%85-%ec%8b%9c%eb%ae%ac%eb%a0%88%ec%9d%b4%ec%85%98-1-%ec%86%8c%ea%b0%9c/\" target=\"_blank\" rel=\"noreferrer noopener\">Wafer 코팅 시뮬레이션</a></p>\n",
            "\n",
            "\n",
            "\n",
            "<p><a href=\"http://ehpub.co.kr/0-%eb%93%a4%ec%96%b4%ea%b0%80%ea%b8%b0%ec%97%90-%ec%95%9e%ec%84%9c/\" target=\"_blank\" rel=\"noreferrer noopener\">웹 검색 엔진 만들기</a>    /    <a href=\"http://ehpub.co.kr/%eb%af%b8%eb%94%94-%eb%b6%84%ec%84%9d-%ed%94%84%eb%a1%9c%ea%b7%b8%eb%9e%a8-1-%ed%94%84%eb%a1%9c%ec%a0%9d%ed%8a%b8-%ec%86%8c%ea%b0%9c/\" target=\"_blank\" rel=\"noreferrer noopener\">미디 분석 프로그램</a>    /    <a rel=\"noreferrer noopener\" href=\"http://ehpub.dothome.co.kr/ml-net-install-uninstall-cs/\" target=\"_blank\">ML.</a><a href=\"http://ehpub.co.kr/ml-net-install-uninstall-cs/\" target=\"_blank\" rel=\"noreferrer noopener\">NET</a></p>\n",
            "\n",
            "\n",
            "\n",
            "<p><a href=\"http://ehpub.co.kr/news-crawling-naver-developers-csharp-bigdata-analysis/\" target=\"_blank\" rel=\"noreferrer noopener\">빅 데이터 C#</a></p>\n",
            "\n",
            "\n",
            "\n",
            "<h2>파이썬</h2>\n",
            "\n",
            "\n",
            "\n",
            "<p><a href=\"http://ehpub.co.kr/1-visual-studio%ec%97%90-python-%ec%84%a4%ec%b9%98-%eb%b0%8f-%ed%85%8c%ec%8a%a4%ed%8a%b8%ed%95%98%ea%b8%b0/\" target=\"_blank\" rel=\"noreferrer noopener\">미래실험실  pYTHON</a>    /    <a href=\"http://ehpub.co.kr/%ed%9b%84%ec%9c%84-%ed%91%9c%ea%b8%b0-%ec%88%98%ec%8b%9d-%ea%b3%84%ec%82%b0-%ec%8a%a4%ed%83%9d-%ea%b3%84%ec%82%b0%ea%b8%b0-%ec%bd%94%eb%94%a9-%ed%85%8c%ec%8a%a4%ed%8a%b8-python/\" target=\"_blank\" rel=\"noreferrer noopener\">코딩 테스트</a>    /    <a href=\"http://ehpub.co.kr/%eb%b9%85%eb%8d%b0%ec%9d%b4%ed%84%b0-python-%ec%9b%b9-%ed%8e%98%ec%9d%b4%ec%a7%80-%ec%88%98%ec%a7%91%ed%95%98%ea%b8%b0/\" target=\"_blank\" rel=\"noreferrer noopener\">웹 수집 검색</a></p>\n",
            "\n",
            "\n",
            "\n",
            "<p><a href=\"http://ehpub.co.kr/merchine-learning-perceptron-xor/\" target=\"_blank\" rel=\"noreferrer noopener\">머신러닝/딥러닝</a>    /    <a href=\"http://ehpub.co.kr/%ed%8c%8c%ec%9d%b4%ec%8d%ac%ec%9c%bc%eb%a1%9c-%ec%a7%80%ec%97%ad-%ea%b2%80%ec%83%89-%eb%b0%8f-%ec%a7%80%eb%8f%84%ec%97%90-%eb%82%98%ed%83%80%eb%82%b4%ea%b8%b0-1-%ed%94%84%eb%a1%9c%ec%a0%9d%ed%8a%b8/\" target=\"_blank\" rel=\"noreferrer noopener\">OpenAPI </a><a rel=\"noreferrer noopener\" href=\"http://ehpub.dothome.co.kr/%ed%8c%8c%ec%9d%b4%ec%8d%ac%ec%9c%bc%eb%a1%9c-%ec%a7%80%ec%97%ad-%ea%b2%80%ec%83%89-%eb%b0%8f-%ec%a7%80%eb%8f%84%ec%97%90-%eb%82%98%ed%83%80%eb%82%b4%ea%b8%b0-1-%ed%94%84%eb%a1%9c%ec%a0%9d%ed%8a%b8/\" target=\"_blank\">활용</a>    /    <a href=\"http://ehpub.co.kr/opencv-in-colab-%eb%b2%84%ec%a0%84-%ed%99%95%ec%9d%b8-%eb%b0%8f-%ec%9d%b4%eb%af%b8%ec%a7%80-%eb%a1%9c%eb%94%a9/\" target=\"_blank\" rel=\"noreferrer noopener\">OpenCV in Colab</a></p>\n",
            "\n",
            "\n",
            "\n",
            "<h2>Java</h2>\n",
            "\n",
            "\n",
            "\n",
            "<p><a href=\"http://ehpub.co.kr/java-1-%ec%86%8c%ea%b0%9c/\" target=\"_blank\" rel=\"noreferrer noopener\">Java 입문</a>    /    <a href=\"http://ehpub.co.kr/java-%ed%99%9c%ec%9a%a9-1-%ed%8c%a8%ed%82%a4%ec%a7%80/\" target=\"_blank\" rel=\"noreferrer noopener\">Java 활용</a></p>\n",
            "\n",
            "\n",
            "\n",
            "<h2>기타 언어</h2>\n",
            "\n",
            "\n",
            "\n",
            "<p><a href=\"http://ehpub.co.kr/go-%ec%96%b8%ec%96%b4-1-%ea%b5%ac%ea%b8%80-go-%ed%94%84%eb%a1%9c%ea%b7%b8%eb%9e%98%eb%b0%8d-%ec%96%b8%ec%96%b4-%ec%86%8c%ea%b0%9c/\" target=\"_blank\" rel=\"noreferrer noopener\">Go 언어</a>    /    <a href=\"http://ehpub.co.kr/r-%ec%84%a4%ec%b9%98-%eb%b0%8f-rstduio-%ec%84%a4%ec%b9%98-%eb%8d%b0%ec%9d%b4%ed%84%b0-%eb%b6%84%ec%84%9d-with-r/\" target=\"_blank\" rel=\"noreferrer noopener\">R 입문</a>    /    <a href=\"http://ehpub.co.kr/html5-1-%ec%b2%ab-%eb%b2%88%ec%a7%b8-%eb%a7%8c%eb%93%9c%eb%8a%94-html-%eb%ac%b8%ec%84%9c-hello-html/\" target=\"_blank\" rel=\"noreferrer noopener\">HTML5</a></p>\n",
            "\n",
            "\n",
            "\n",
            "<h2>리눅스</h2>\n",
            "\n",
            "\n",
            "\n",
            "<p><a href=\"http://ehpub.co.kr/1-%ec%89%98-%ed%94%84%eb%a1%9c%ea%b7%b8%eb%9e%98%eb%b0%8d-%ec%8b%9c%ec%9e%91%ed%95%98%ea%b8%b0-%eb%a1%9c%ea%b8%b4-%ec%89%98-%ed%99%95%ec%9d%b8-%eb%b0%8f-%eb%b3%80%ea%b2%bd%ed%95%98%ea%b8%b0/\" target=\"_blank\" rel=\"noreferrer noopener\">쉘 프로그래밍</a>    /    <a href=\"http://ehpub.co.kr/%eb%a6%ac%eb%88%85%ec%8a%a4-%ec%8b%9c%ec%8a%a4%ed%85%9c-%ed%94%84%eb%a1%9c%ea%b7%b8%eb%9e%98%eb%b0%8d-1-%eb%93%a4%ec%96%b4%ea%b0%80%ea%b8%b0%ec%97%90-%ec%95%9e%ec%84%9c/\" target=\"_blank\" rel=\"noreferrer noopener\">리눅스 시스템 프로그래밍</a></p>\n",
            "\n",
            "\n",
            "\n",
            "<h2>설치 및 기타</h2>\n",
            "\n",
            "\n",
            "\n",
            "<p><a href=\"http://ehpub.co.kr/ethernet-%ed%94%84%eb%a1%9c%ed%86%a0%ec%bd%9c/\" target=\"_blank\" rel=\"noreferrer noopener\">TCP/IP 프로토콜</a>    /    <a href=\"http://ehpub.co.kr/whois-open-api-%ec%82%ac%ec%9a%a9%ed%82%a4-%eb%b0%9c%ea%b8%89%eb%b0%9b%ea%b8%b0/\" target=\"_blank\" rel=\"noreferrer noopener\">설치 및 가입 서비스</a></p>\n",
            "\n",
            "\n",
            "\n",
            "<h2>정보처리기사</h2>\n",
            "\n",
            "\n",
            "\n",
            "<p><a href=\"http://ehpub.co.kr/%ea%b3%84%ec%82%b0%ea%b8%b0-%ea%b5%ac%ec%a1%b0-1-%eb%a9%94%eb%aa%a8%eb%a6%ac-%eb%8b%a8%ec%9c%84/\" target=\"_blank\" rel=\"noreferrer noopener\">계산기 구조</a>    /    <a href=\"http://ehpub.co.kr/%eb%8d%b0%ec%9d%b4%ed%84%b0-%ed%86%b5%ec%8b%a0-1-%eb%8d%b0%ec%9d%b4%ed%84%b0-%ed%86%b5%ec%8b%a0/\" target=\"_blank\" rel=\"noreferrer noopener\">데이터 통신</a>    /    <a href=\"http://ehpub.co.kr/1-%eb%8d%b0%ec%9d%b4%ed%84%b0%eb%b2%a0%ec%9d%b4%ec%8a%a4database-%ec%8b%9c%ec%8a%a4%ed%85%9c/\" target=\"_blank\" rel=\"noreferrer noopener\">데이터베이스</a>    </p>\n",
            "\n",
            "\n",
            "\n",
            "<p><a href=\"http://ehpub.co.kr/%ec%86%8c%ed%94%84%ed%8a%b8%ec%9b%a8%ec%96%b4-%ea%b3%b5%ed%95%99-1-%ec%86%8c%ed%94%84%ed%8a%b8%ec%9b%a8%ec%96%b4-%ea%b3%b5%ed%95%99/\\\" target=\"_blank\" rel=\"noreferrer noopener\">소프트웨어 공학</a>    /    <a href=\"http://ehpub.co.kr/%ec%9a%b4%ec%98%81%ec%b2%b4%ec%a0%9c-1-%ec%9a%b4%ec%98%81%ec%b2%b4%ec%a0%9c/\" target=\"_blank\" rel=\"noreferrer noopener\">운영체제</a></p>\n",
            "\t\t\t\t\t</article>\n",
            "\t</div>\n",
            "</div>\t</div>\n",
            "</div><!-- .main -->\n",
            "\t<aside id=\"sidebar-primary-container\" class=\"sidebar-primary-container\">\n",
            "\t\t<h1 class=\"screen-reader-text\">Primary Sidebar</h1>\n",
            "\t\t<div class=\"sidebar sidebar-primary\" id=\"sidebar-primary\" role=\"complementary\">\n",
            "\t\t\t<section id=\"block-7\" class=\"widget widget_block\">\n",
            "<div class=\"wp-block-columns\">\n",
            "<div class=\"wp-block-column\" style=\"flex-basis:100%\"><form role=\"search\" method=\"get\" action=\"http://ehpub.co.kr/\" class=\"wp-block-search__button-outside wp-block-search__text-button wp-block-search\"><label for=\"wp-block-search__input-1\" class=\"wp-block-search__label\">검색</label><div class=\"wp-block-search__inside-wrapper \" ><input type=\"search\" id=\"wp-block-search__input-1\" class=\"wp-block-search__input \" name=\"s\" value=\"\" placeholder=\"\"  required /><button type=\"submit\" class=\"wp-block-search__button  \"  >검색</button></div></form></div>\n",
            "</div>\n",
            "</section><section id=\"listcategorypostswidget-2\" class=\"widget widget_listcategorypostswidget\"><h2 class=\"widget-title\">현재 카테고리 글</h2><ul class=\"lcp_catlist\" id=\"lcp_instance_listcategorypostswidget-2\"></ul><a href=\"http://ehpub.co.kr/category/%eb%af%b8-%eb%b6%84%eb%a5%98/\"> </a></section><section id=\"wp_statistics_widget-2\" class=\"widget widget_wp_statistics_widget\"><h2 class=\"widget-title\">2022년 5월 2일 새로운 출발</h2><ul><li><label>Today's Visits: </label>2,030</li><li><label>Total Visits: </label>5,916</li></ul></section>\t\t</div>\n",
            "\t</aside>\n",
            "</div><!-- .overflow-container -->\n",
            "<footer id=\"site-footer\" class=\"site-footer\" role=\"contentinfo\">\n",
            "\t<h1>\n",
            "\t\t<a href=\"http://ehpub.co.kr\">\n",
            "\t\t\t언제나 휴일\t\t</a>\n",
            "\t</h1>\n",
            "\t<span class=\"tagline\">언제나 휴일 프로그래머</span>\t<div class=\"design-credit\">\n",
            "        <span>\n",
            "            언제나 휴일 사이트의 모든 글은 언제나 휴일 출판사의 소유입니다.\n",
            "무단 배포 및 상업적 사용을 불허합니다. 출처를 밝힌 후에 퍼가기(링크)는 가능합니다.        </span>\n",
            "\t</div>\n",
            "</footer>\n",
            "<link rel='stylesheet' id='lcp_paginator-css'  href='http://ehpub.co.kr/wp-content/plugins/list-category-posts//lcp_paginator.css?ver=5.9.3' type='text/css' media='all' />\n",
            "<script type='text/javascript' src='http://ehpub.co.kr/wp-content/themes/ignite/js/build/production.min.js?ver=5.9.3' async='async' id='ct-ignite-production-js'></script>\n",
            "<script type='text/javascript' src='http://ehpub.co.kr/wp-content/plugins/youtube-embed-plus/scripts/fitvids.min.js?ver=14.1' id='__ytprefsfitvids__-js'></script>\n",
            "</body>\n",
            "</html>\n"
          ]
        }
      ]
    },
    {
      "cell_type": "code",
      "source": [
        ""
      ],
      "metadata": {
        "id": "xHhlLJ9zk-Qa"
      },
      "execution_count": 98,
      "outputs": []
    },
    {
      "cell_type": "markdown",
      "source": [
        "# 웹 스크래핑\n",
        "웹 페이지 중에 일부 부분을 추출하는 작업"
      ],
      "metadata": {
        "id": "vjLgKeisoaoc"
      }
    },
    {
      "cell_type": "code",
      "source": [
        "from bs4 import BeautifulSoup"
      ],
      "metadata": {
        "id": "kc67tB7oofHV"
      },
      "execution_count": 42,
      "outputs": []
    },
    {
      "cell_type": "code",
      "source": [
        "hdoc = BeautifulSoup(result,'html.parser')"
      ],
      "metadata": {
        "id": "F0ctkpFdoirD"
      },
      "execution_count": 43,
      "outputs": []
    },
    {
      "cell_type": "code",
      "source": [
        "print(hdoc.body.get_text())"
      ],
      "metadata": {
        "colab": {
          "base_uri": "https://localhost:8080/",
          "height": 174
        },
        "id": "8SfDWjFAoqmB",
        "outputId": "c4cc3559-a6e7-4c91-8d0a-15389dcb6104"
      },
      "execution_count": 103,
      "outputs": [
        {
          "output_type": "error",
          "ename": "AttributeError",
          "evalue": "ignored",
          "traceback": [
            "\u001b[0;31m---------------------------------------------------------------------------\u001b[0m",
            "\u001b[0;31mAttributeError\u001b[0m                            Traceback (most recent call last)",
            "\u001b[0;32m<ipython-input-103-71d94a45f648>\u001b[0m in \u001b[0;36m<module>\u001b[0;34m()\u001b[0m\n\u001b[0;32m----> 1\u001b[0;31m \u001b[0mprint\u001b[0m\u001b[0;34m(\u001b[0m\u001b[0mhdoc\u001b[0m\u001b[0;34m.\u001b[0m\u001b[0mbody\u001b[0m\u001b[0;34m.\u001b[0m\u001b[0mget_text\u001b[0m\u001b[0;34m(\u001b[0m\u001b[0;34m)\u001b[0m\u001b[0;34m)\u001b[0m\u001b[0;34m\u001b[0m\u001b[0;34m\u001b[0m\u001b[0m\n\u001b[0m",
            "\u001b[0;31mAttributeError\u001b[0m: 'NoneType' object has no attribute 'get_text'"
          ]
        }
      ]
    },
    {
      "cell_type": "code",
      "source": [
        ""
      ],
      "metadata": {
        "id": "GVrjf48IoseR"
      },
      "execution_count": 50,
      "outputs": []
    },
    {
      "cell_type": "markdown",
      "source": [
        "# OpenAPI - 1.카카오 API(도서 검색)"
      ],
      "metadata": {
        "id": "9-6Ne1Dopdcc"
      }
    },
    {
      "cell_type": "code",
      "source": [
        "mykey = '1bc56ac190718591528ae1dfa1592db7' #카카오 애플리케이셔 REST API키"
      ],
      "metadata": {
        "id": "4zIOPZcgphn_"
      },
      "execution_count": 15,
      "outputs": []
    },
    {
      "cell_type": "code",
      "source": [
        "auth_key = \"KakaoAK \" + mykey # 공백 있습니다."
      ],
      "metadata": {
        "id": "lM1jASaQq9-r"
      },
      "execution_count": 16,
      "outputs": []
    },
    {
      "cell_type": "markdown",
      "source": [
        "쿼리 문자열 : 사이트 주소와 사이트에 전달할 인자를 포함한 문자열\n",
        "\n",
        "사이트주소[?][변수=값][&변수=값]...\n",
        "\n",
        "예 : \n",
        "\n",
        "사이트 주소 - http:// enpub.co.kr\n",
        "\n",
        "id - eh\n",
        "\n",
        "name - 강보현\n",
        "\n",
        "쿼리 문자열 -  http:// enpub.co.kr?id=eh&name=강보현"
      ],
      "metadata": {
        "id": "9dxad0NEsTG0"
      }
    },
    {
      "cell_type": "code",
      "source": [
        "siteurl = \"https://dapi.kakao.com/v3/search/book\""
      ],
      "metadata": {
        "id": "w7nqYOuasuZa"
      },
      "execution_count": 17,
      "outputs": []
    },
    {
      "cell_type": "code",
      "source": [
        "auth = \"Authorization\""
      ],
      "metadata": {
        "id": "J_-Y0YqJueek"
      },
      "execution_count": 18,
      "outputs": []
    },
    {
      "cell_type": "code",
      "source": [
        "p_target = \"target=title\""
      ],
      "metadata": {
        "id": "NzbmdsV_umje"
      },
      "execution_count": 19,
      "outputs": []
    },
    {
      "cell_type": "code",
      "source": [
        "query = input(\"검색어:\")\n",
        "p_query = \"query=\"+ urllib.parse.quote(query) # 쿼리를 utf-8로 인코딩한 후 p_query에 값으로 추가, .quote = utf-8로 자동인식하게해주는거"
      ],
      "metadata": {
        "colab": {
          "base_uri": "https://localhost:8080/"
        },
        "id": "loNe-yK5uvnx",
        "outputId": "a60819aa-56c2-4a6c-fd74-d3853125a26a"
      },
      "execution_count": 20,
      "outputs": [
        {
          "name": "stdout",
          "output_type": "stream",
          "text": [
            "검색어:dasd\n"
          ]
        }
      ]
    },
    {
      "cell_type": "code",
      "source": [
        "query_str = siteurl+'?'+p_target+'&'+p_query\n",
        "print(query_str)"
      ],
      "metadata": {
        "colab": {
          "base_uri": "https://localhost:8080/"
        },
        "id": "rbVrY007u8-C",
        "outputId": "1fd412fb-2130-41a3-fc4a-fa2f4b5aa8da"
      },
      "execution_count": 21,
      "outputs": [
        {
          "output_type": "stream",
          "name": "stdout",
          "text": [
            "https://dapi.kakao.com/v3/search/book?target=title&query=dasd\n"
          ]
        }
      ]
    },
    {
      "cell_type": "code",
      "source": [
        "request= urllib.request.Request(query_str) # 인증 등의 헤더를 전달할 때는 requst 객체를 생성\n",
        "request.add_header(auth,auth_key) #헤더 추가"
      ],
      "metadata": {
        "id": "8ORHTX9xvU2F"
      },
      "execution_count": 22,
      "outputs": []
    },
    {
      "cell_type": "code",
      "source": [
        "response = urllib.request.urlopen(request) # 입력인자로 사이트 주소 혹은 request 개체 전달"
      ],
      "metadata": {
        "id": "Bzv-XqLAwD0P"
      },
      "execution_count": 23,
      "outputs": []
    },
    {
      "cell_type": "code",
      "source": [
        "if response.getcode() != 200 :\n",
        "  print(\"허걱 실패!!\")\n",
        "else : \n",
        "  print(\"요청 성공\")"
      ],
      "metadata": {
        "colab": {
          "base_uri": "https://localhost:8080/"
        },
        "id": "j08GF2jh0Q59",
        "outputId": "b26a9e45-9962-472f-bbd3-ac6fb72517c7"
      },
      "execution_count": 24,
      "outputs": [
        {
          "output_type": "stream",
          "name": "stdout",
          "text": [
            "요청 성공\n"
          ]
        }
      ]
    },
    {
      "cell_type": "code",
      "source": [
        "result = response.read().decode('utf-8')\n",
        "print(result)"
      ],
      "metadata": {
        "colab": {
          "base_uri": "https://localhost:8080/"
        },
        "id": "hTNmW4uk0F3L",
        "outputId": "37088bb7-8296-4acf-9743-6bc79c0d5e34"
      },
      "execution_count": 25,
      "outputs": [
        {
          "output_type": "stream",
          "name": "stdout",
          "text": [
            "{\"documents\":[],\"meta\":{\"is_end\":true,\"pageable_count\":0,\"total_count\":0}}\n"
          ]
        }
      ]
    },
    {
      "cell_type": "code",
      "source": [
        "import json"
      ],
      "metadata": {
        "id": "kE8ye6G21L9k"
      },
      "execution_count": 26,
      "outputs": []
    },
    {
      "cell_type": "code",
      "source": [
        "jdata = json.loads(result)\n",
        "meta = jdata['meta']\n",
        "print(meta)"
      ],
      "metadata": {
        "colab": {
          "base_uri": "https://localhost:8080/"
        },
        "id": "kAD0Xsx-1ZZY",
        "outputId": "494ab9eb-7838-487e-b6c8-fe7a9ec0cf3c"
      },
      "execution_count": 27,
      "outputs": [
        {
          "output_type": "stream",
          "name": "stdout",
          "text": [
            "{'is_end': True, 'pageable_count': 0, 'total_count': 0}\n"
          ]
        }
      ]
    },
    {
      "cell_type": "code",
      "source": [
        "documents = jdata['documents']\n",
        "print(documents)"
      ],
      "metadata": {
        "colab": {
          "base_uri": "https://localhost:8080/"
        },
        "id": "IUegM5es10zp",
        "outputId": "a0ba3769-fb7f-47b4-d947-04a0d4273774"
      },
      "execution_count": 28,
      "outputs": [
        {
          "output_type": "stream",
          "name": "stdout",
          "text": [
            "[]\n"
          ]
        }
      ]
    },
    {
      "cell_type": "code",
      "source": [
        "for document in documents : \n",
        "  print(\"=================\")\n",
        "  print(document)\n",
        "  print()"
      ],
      "metadata": {
        "id": "FHvaM_yz2KCZ"
      },
      "execution_count": 29,
      "outputs": []
    },
    {
      "cell_type": "code",
      "source": [
        "for document in documents : \n",
        "  print(\"=================\")\n",
        "  print(\"제목:\",document['title'])\n",
        "  print(\"저자 목록 :\",document['authors'])\n",
        "  print()"
      ],
      "metadata": {
        "id": "7nxC2sq12z9V"
      },
      "execution_count": 30,
      "outputs": []
    },
    {
      "cell_type": "code",
      "source": [
        ""
      ],
      "metadata": {
        "id": "5VHx-WLI4KnK"
      },
      "execution_count": 30,
      "outputs": []
    },
    {
      "cell_type": "markdown",
      "source": [
        "# 네이버 개발자 센터 - 도서 검색(XML방식)"
      ],
      "metadata": {
        "id": "1on8SMVY5Rhi"
      }
    },
    {
      "cell_type": "code",
      "source": [
        "client_id = 'ICJJx6x7ygogtezSfUgx'\n",
        "client_secret = 'Saaw1DiedV'"
      ],
      "metadata": {
        "id": "Wm729rcN5VPO"
      },
      "execution_count": 51,
      "outputs": []
    },
    {
      "cell_type": "code",
      "source": [
        "site_url = 'https://openapi.naver.com/v1/search/book.xml'"
      ],
      "metadata": {
        "id": "uO1RO3Mk6EU8"
      },
      "execution_count": 52,
      "outputs": []
    },
    {
      "cell_type": "code",
      "source": [
        "query = input(\"검색어:\")"
      ],
      "metadata": {
        "colab": {
          "base_uri": "https://localhost:8080/"
        },
        "id": "XdUQ8JEs6HKv",
        "outputId": "dd041c05-d703-4630-b152-6b14737f2262"
      },
      "execution_count": 53,
      "outputs": [
        {
          "name": "stdout",
          "output_type": "stream",
          "text": [
            "검색어:hi\n"
          ]
        }
      ]
    },
    {
      "cell_type": "code",
      "source": [
        "q_param = \"query=\"+urllib.parse.quote(query)\n",
        "print(q_param)"
      ],
      "metadata": {
        "colab": {
          "base_uri": "https://localhost:8080/"
        },
        "id": "of6CQ_KL6cMi",
        "outputId": "0d1a4fa3-b2ce-4a20-b7c4-a59aa623be97"
      },
      "execution_count": 54,
      "outputs": [
        {
          "output_type": "stream",
          "name": "stdout",
          "text": [
            "query=hi\n"
          ]
        }
      ]
    },
    {
      "cell_type": "code",
      "source": [
        "query_str = site_url+'?'+q_param\n",
        "print(query_str)"
      ],
      "metadata": {
        "colab": {
          "base_uri": "https://localhost:8080/"
        },
        "id": "rV_d6AHD6jL6",
        "outputId": "b16ae3b0-8e7d-43ee-9445-88c97cf57098"
      },
      "execution_count": 55,
      "outputs": [
        {
          "output_type": "stream",
          "name": "stdout",
          "text": [
            "https://openapi.naver.com/v1/search/book.xml?query=hi\n"
          ]
        }
      ]
    },
    {
      "cell_type": "code",
      "source": [
        "cid='X-Naver-Client-Id'\n",
        "csec = 'X-Naver-Client-Secret'"
      ],
      "metadata": {
        "id": "JgpDVrNt6s6o"
      },
      "execution_count": 56,
      "outputs": []
    },
    {
      "cell_type": "code",
      "source": [
        "request = urllib.request.Request(query_str) #요청 가능한 개체 생성\n",
        "request.add_header(cid,client_id) # 헤더에 client id 추가\n",
        "request.add_header(csec,client_secret) # 헤더 client secret 추가"
      ],
      "metadata": {
        "id": "EKkpxt6E7NEq"
      },
      "execution_count": 57,
      "outputs": []
    },
    {
      "cell_type": "code",
      "source": [
        "response = urllib.request.urlopen(request) #웹 서버에 요청\n",
        "if response.getcode() != 200:\n",
        "  print(\"요청실패!!\")\n",
        "else : \n",
        "  print(\"성공!!\")"
      ],
      "metadata": {
        "colab": {
          "base_uri": "https://localhost:8080/"
        },
        "id": "zbO7LM9c7YOl",
        "outputId": "3fbd70ae-f827-49f8-8b22-77abc09063f5"
      },
      "execution_count": 58,
      "outputs": [
        {
          "output_type": "stream",
          "name": "stdout",
          "text": [
            "성공!!\n"
          ]
        }
      ]
    },
    {
      "cell_type": "code",
      "source": [
        "data = response.read().decode('utf-8')\n",
        "print(data)"
      ],
      "metadata": {
        "colab": {
          "base_uri": "https://localhost:8080/"
        },
        "id": "dN4zU8uV7zGj",
        "outputId": "56a328d0-4e4c-4e71-f1ba-805d59c569f8"
      },
      "execution_count": 59,
      "outputs": [
        {
          "output_type": "stream",
          "name": "stdout",
          "text": [
            "<?xml version=\"1.0\" encoding=\"UTF-8\"?><rss version=\"2.0\"><channel><title>Naver Open API - book ::'hi'</title><link>https://search.naver.com</link><description>Naver Search Result</description><lastBuildDate>Wed, 04 May 2022 13:32:17 +0900</lastBuildDate><total>7172</total><start>1</start><display>10</display><item><title>HELLO 베이비 &lt;b&gt;HI&lt;/b&gt; 맘 (김린 서현주의 자신만만 유아영어)</title><link>http://book.naver.com/bookdb/book_detail.php?bid=166406</link><image>https://bookthumb-phinf.pstatic.net/cover/001/664/00166406.jpg?type=m1&amp;udate=20210112</image><author>서현주|김린</author><price>16000</price><discount>14400</discount><publisher>한울림</publisher><pubdate>20191107</pubdate><isbn>8985777912 9788985777919</isbn><description>84가지 상황별 영어 대화와 챈트를 담은 MP3로\n",
            "우리 아이와 자연스럽게 영어로 대화하기!엄마표 영어 선구자들도 선택한 영어책, HELLO 베이비 MI 맘. 미국엄마 김린과 한국엄마 서현주가 만나 엄마가 아이에게 건네는 가장 자연스럽고 살아 있는 말들을 엄선해 정확하고 예의바른 영어표현으로 담았습니다.... </description></item><item><title>&lt;b&gt;Hi&lt;/b&gt;! Fly Guy (Paperback) (Scholastic Reader Level 2)</title><link>http://book.naver.com/bookdb/book_detail.php?bid=2676318</link><image>https://bookthumb-phinf.pstatic.net/cover/026/763/02676318.jpg?type=m1&amp;udate=20211104</image><author>Arnold|Tedd</author><price>4480</price><discount>3250</discount><publisher>Scholastic</publisher><pubdate>20070129</pubdate><isbn>0439853117 9780439853118</isbn><description>&lt;b&gt;HI&lt;/b&gt;! FLY GUY WON THE THEODOR SEUSS GEISEL HONOR FOR THE MOST DISTINGUISHED BEGINNING... PRAISE FOR &lt;b&gt;HI&lt;/b&gt;! FLY GUY: &amp;quot;A POP-EYED, SELF-CONFIDENT MITE IN ARNOLD&apos;S DROLL CARTOON... PRAISE FOR &lt;b&gt;HI&lt;/b&gt;! FLY GUY: \\U0022A POP-EYED, SELF-CONFIDENT MITE IN ARNOLD&apos;S DROLL CARTOON ILLUSTRATIONS... </description></item><item><title>아샘 &lt;b&gt;Hi&lt;/b&gt; Math 고등 수학 하</title><link>http://book.naver.com/bookdb/book_detail.php?bid=18032605</link><image>https://bookthumb-phinf.pstatic.net/cover/180/326/18032605.jpg?type=m1&amp;udate=20220311</image><author>이창주</author><price>16000</price><discount>14400</discount><publisher>아름다운샘</publisher><pubdate>20210222</pubdate><isbn>1191229238 9791191229233</isbn><description>수학의 기본 실력을 탄탄히 쌓아 고등 수학에 자신감을 가질 수 있도록\n",
            "  \t기본 개념을 많이 연습할 수 있는 문제\n",
            "  \t학교 시험을 완벽 대비할 수 있는 문제\n",
            "들을 수록하여 충분히 문제 연습을 할 수 있도록 만든 문제기본서입니다.</description></item><item><title>아름다운 샘 &lt;b&gt;Hi&lt;/b&gt; High 고등 수학 상 (2017)</title><link>http://book.naver.com/bookdb/book_detail.php?bid=11504261</link><image>https://bookthumb-phinf.pstatic.net/cover/115/042/11504261.jpg?type=m1&amp;udate=20201120</image><author>아름다운샘 편집부</author><price>12000</price><discount></discount><publisher>아름다운샘</publisher><pubdate>20170101</pubdate><isbn>1187820040 9791187820048</isbn><description>개념기본서 &apos;수학의 샘&apos;, 문제기본서 &apos;&lt;b&gt;Hi&lt;/b&gt; Math&apos;에서 공부한 개념과 문제들로 쌓은 실력으로 보다 수준 높은 문제 연습을 할 수 있는 교재이다. 단원의 구성과 순서가 동일하여 &apos;수학의 샘&apos;, &apos;&lt;b&gt;Hi&lt;/b&gt; Math&apos;와 연계하여 공부할 수 있다. 난이도 있는 문제들을 풀면서 수학 실력을 향상시키기를 원하는 학생들을 위한 교재로... </description></item><item><title>아름다운 샘 &lt;b&gt;Hi&lt;/b&gt; High 고등 수학 하 (최상위권 유형별 문제기본서! (유형+심화),2021)</title><link>http://book.naver.com/bookdb/book_detail.php?bid=16873504</link><image>https://bookthumb-phinf.pstatic.net/cover/168/735/16873504.jpg?type=m1&amp;udate=20220311</image><author>아름다운샘 편집부</author><price>13500</price><discount>12150</discount><publisher>아름다운샘</publisher><pubdate>20201019</pubdate><isbn>1187820970 9791187820970</isbn><description>◆ 이 책의 특징\n",
            "\n",
            "☆ 개념기본서 「수학의 샘」, 문제기본서 「&lt;b&gt;HI&lt;/b&gt; MATH」와 연계된 교재\n",
            "- 개념기본서 「수학의 샘」, 문제기본서 「&lt;b&gt;HI&lt;/b&gt; MATH」에서 공부한... 단원의 구성과 순서가 동일하여 「수학의 샘」, 「&lt;b&gt;HI&lt;/b&gt; MATH」와 연계하여 공부할 수 있습니다.\n",
            "☆ 최고 수준의 수학 실력에 도달할 수 있는 문제기본서... </description></item><item><title>&lt;b&gt;Hi&lt;/b&gt;-Pass 건설안전기술사</title><link>http://book.naver.com/bookdb/book_detail.php?bid=22292256</link><image>https://bookthumb-phinf.pstatic.net/cover/222/922/22292256.jpg?type=m1&amp;udate=20220323</image><author>장두섭</author><price>85000</price><discount>76500</discount><publisher>성안당</publisher><pubdate>20220317</pubdate><isbn>8931564686 9788931564686</isbn><description>건설안전기술사 시험 완벽 대비서!건설공사의 다양화, 대형화로 안전사고 발생이 빈발하고 대형사고로 이어져 인명 손상 및 경제적 손실이 막대해 짐에 따라 전문 건설안전 기술인력의 필요성이 높아지고 있다. 또한, 산업안전보건법 개정으로 1,500억 이상 건설공사에 건설안전기술사 배치가 법제화되었으며... </description></item><item><title>&lt;b&gt;Hi&lt;/b&gt;! Pipe 1 (한국 찬송가 편)</title><link>http://book.naver.com/bookdb/book_detail.php?bid=22314212</link><image>https://bookthumb-phinf.pstatic.net/cover/223/142/22314212.jpg?type=m1&amp;udate=20220413</image><author>전은배</author><price>28000</price><discount>25200</discount><publisher>교회음악사</publisher><pubdate>20220217</pubdate><isbn>1196185115 9791196185114</isbn><description>〈&lt;b&gt;HI&lt;/b&gt;! PIPE 1〉은 한국에서 애창되었던 기존 찬송가들과 21세기 찬송가에 새로 수록된 찬송가를 선별하고 편곡하여 한국 찬송가 오르간 모음집으로 출간되었다. 한국 찬송가만을 편곡하여 엮어낸 오르간 모음집은 본 저서가 처음이며, 이 작업을 위해 국내외에서 활동하는 교회음악가, 오르가니스트... </description></item><item><title>아샘 &lt;b&gt;Hi&lt;/b&gt; Math 고등 수학1 (2019)</title><link>http://book.naver.com/bookdb/book_detail.php?bid=12129935</link><image>https://bookthumb-phinf.pstatic.net/cover/121/299/12129935.jpg?type=m1&amp;udate=20201229</image><author>이창주</author><price>15000</price><discount></discount><publisher>아름다운샘</publisher><pubdate>20170501</pubdate><isbn>1187820105 9791187820109</isbn><description>단원의 구성과 순서가 동일하여 &apos;수학의 샘&apos;의 개념과 「&apos;&lt;b&gt;Hi&lt;/b&gt; Math&apos;의 문제를 연계하여 공부할 수 있다. 또한 처음으로 문제집을 공부하거나 기본기가 부족하다고 생각하는 학생을 위한 교재로, 기본 연산의 충분한 반복 연습, 알기 쉽게 체계적으로 분류된 유형별 문항 연습이 가능하다.\n",
            "\n",
            "교재의 구성은 [개념 정리]... </description></item><item><title>아샘 &lt;b&gt;Hi&lt;/b&gt; Math 확률과 통계</title><link>http://book.naver.com/bookdb/book_detail.php?bid=18032619</link><image>https://bookthumb-phinf.pstatic.net/cover/180/326/18032619.jpg?type=m1&amp;udate=20220311</image><author>이창주</author><price>14500</price><discount>13050</discount><publisher>아름다운샘</publisher><pubdate>20210222</pubdate><isbn>1191229246 9791191229240</isbn><description>수학의 기본 실력을 탄탄히 쌓아 고등 수학에 자신감을 가질 수 있도록\n",
            "  \t기본 개념을 많이 연습할 수 있는 문제\n",
            "  \t학교 시험을 완벽 대비할 수 있는 문제\n",
            "들을 수록하여 충분히 문제 연습을 할 수 있도록 만든 문제기본서입니다.</description></item><item><title>아름다운 샘 &lt;b&gt;Hi&lt;/b&gt; Math 고등 수학 하 (2017)</title><link>http://book.naver.com/bookdb/book_detail.php?bid=11499658</link><image>https://bookthumb-phinf.pstatic.net/cover/114/996/11499658.jpg?type=m1&amp;udate=20210226</image><author>아름다운샘 편집부</author><price>15500</price><discount></discount><publisher>아름다운샘</publisher><pubdate>20161201</pubdate><isbn>1187820032 9791187820031</isbn><description>개념기본서 &amp;lt;수학의 샘&amp;gt;에서 익힌 수학적 개념을 적용하여 문제 연습을 할 수 있다. 단원의 구성과 순서가 동일하여 &amp;lt;수학의 샘&amp;gt;의 개념과 &amp;lt;&lt;b&gt;Hi&lt;/b&gt; Math&amp;gt;의 문제를 연계하여 공부할 수 있다. 기본 연산의 충분한 반복 연습, 알기 쉽게 체계적으로 분류된 유형별 문항 연습이 가능하다.</description></item></channel></rss>\n"
          ]
        }
      ]
    },
    {
      "cell_type": "code",
      "source": [
        "hdbc = BeautifulSoup(data,'html.parser')\n",
        "print(hdbc)"
      ],
      "metadata": {
        "id": "lQDRCoDU8A_O",
        "colab": {
          "base_uri": "https://localhost:8080/"
        },
        "outputId": "55611e0b-d2ef-4b9c-d279-9b56fda4520e"
      },
      "execution_count": 60,
      "outputs": [
        {
          "output_type": "stream",
          "name": "stdout",
          "text": [
            "<?xml version=\"1.0\" encoding=\"UTF-8\"?><rss version=\"2.0\"><channel><title>Naver Open API - book ::'hi'</title><link/>https://search.naver.com<description>Naver Search Result</description><lastbuilddate>Wed, 04 May 2022 13:32:17 +0900</lastbuilddate><total>7172</total><start>1</start><display>10</display><item><title>HELLO 베이비 &lt;b&gt;HI&lt;/b&gt; 맘 (김린 서현주의 자신만만 유아영어)</title><link/>http://book.naver.com/bookdb/book_detail.php?bid=166406<image/>https://bookthumb-phinf.pstatic.net/cover/001/664/00166406.jpg?type=m1&amp;udate=20210112<author>서현주|김린</author><price>16000</price><discount>14400</discount><publisher>한울림</publisher><pubdate>20191107</pubdate><isbn>8985777912 9788985777919</isbn><description>84가지 상황별 영어 대화와 챈트를 담은 MP3로\n",
            "우리 아이와 자연스럽게 영어로 대화하기!엄마표 영어 선구자들도 선택한 영어책, HELLO 베이비 MI 맘. 미국엄마 김린과 한국엄마 서현주가 만나 엄마가 아이에게 건네는 가장 자연스럽고 살아 있는 말들을 엄선해 정확하고 예의바른 영어표현으로 담았습니다.... </description></item><item><title>&lt;b&gt;Hi&lt;/b&gt;! Fly Guy (Paperback) (Scholastic Reader Level 2)</title><link/>http://book.naver.com/bookdb/book_detail.php?bid=2676318<image/>https://bookthumb-phinf.pstatic.net/cover/026/763/02676318.jpg?type=m1&amp;udate=20211104<author>Arnold|Tedd</author><price>4480</price><discount>3250</discount><publisher>Scholastic</publisher><pubdate>20070129</pubdate><isbn>0439853117 9780439853118</isbn><description>&lt;b&gt;HI&lt;/b&gt;! FLY GUY WON THE THEODOR SEUSS GEISEL HONOR FOR THE MOST DISTINGUISHED BEGINNING... PRAISE FOR &lt;b&gt;HI&lt;/b&gt;! FLY GUY: &amp;quot;A POP-EYED, SELF-CONFIDENT MITE IN ARNOLD&amp;aposS DROLL CARTOON... PRAISE FOR &lt;b&gt;HI&lt;/b&gt;! FLY GUY: \\U0022A POP-EYED, SELF-CONFIDENT MITE IN ARNOLD&amp;aposS DROLL CARTOON ILLUSTRATIONS... </description></item><item><title>아샘 &lt;b&gt;Hi&lt;/b&gt; Math 고등 수학 하</title><link/>http://book.naver.com/bookdb/book_detail.php?bid=18032605<image/>https://bookthumb-phinf.pstatic.net/cover/180/326/18032605.jpg?type=m1&amp;udate=20220311<author>이창주</author><price>16000</price><discount>14400</discount><publisher>아름다운샘</publisher><pubdate>20210222</pubdate><isbn>1191229238 9791191229233</isbn><description>수학의 기본 실력을 탄탄히 쌓아 고등 수학에 자신감을 가질 수 있도록\n",
            "  \t기본 개념을 많이 연습할 수 있는 문제\n",
            "  \t학교 시험을 완벽 대비할 수 있는 문제\n",
            "들을 수록하여 충분히 문제 연습을 할 수 있도록 만든 문제기본서입니다.</description></item><item><title>아름다운 샘 &lt;b&gt;Hi&lt;/b&gt; High 고등 수학 상 (2017)</title><link/>http://book.naver.com/bookdb/book_detail.php?bid=11504261<image/>https://bookthumb-phinf.pstatic.net/cover/115/042/11504261.jpg?type=m1&amp;udate=20201120<author>아름다운샘 편집부</author><price>12000</price><discount></discount><publisher>아름다운샘</publisher><pubdate>20170101</pubdate><isbn>1187820040 9791187820048</isbn><description>개념기본서 &amp;apos수학의 샘&amp;apos, 문제기본서 &amp;apos&lt;b&gt;Hi&lt;/b&gt; Math&amp;apos에서 공부한 개념과 문제들로 쌓은 실력으로 보다 수준 높은 문제 연습을 할 수 있는 교재이다. 단원의 구성과 순서가 동일하여 &amp;apos수학의 샘&amp;apos, &amp;apos&lt;b&gt;Hi&lt;/b&gt; Math&amp;apos와 연계하여 공부할 수 있다. 난이도 있는 문제들을 풀면서 수학 실력을 향상시키기를 원하는 학생들을 위한 교재로... </description></item><item><title>아름다운 샘 &lt;b&gt;Hi&lt;/b&gt; High 고등 수학 하 (최상위권 유형별 문제기본서! (유형+심화),2021)</title><link/>http://book.naver.com/bookdb/book_detail.php?bid=16873504<image/>https://bookthumb-phinf.pstatic.net/cover/168/735/16873504.jpg?type=m1&amp;udate=20220311<author>아름다운샘 편집부</author><price>13500</price><discount>12150</discount><publisher>아름다운샘</publisher><pubdate>20201019</pubdate><isbn>1187820970 9791187820970</isbn><description>◆ 이 책의 특징\n",
            "\n",
            "☆ 개념기본서 「수학의 샘」, 문제기본서 「&lt;b&gt;HI&lt;/b&gt; MATH」와 연계된 교재\n",
            "- 개념기본서 「수학의 샘」, 문제기본서 「&lt;b&gt;HI&lt;/b&gt; MATH」에서 공부한... 단원의 구성과 순서가 동일하여 「수학의 샘」, 「&lt;b&gt;HI&lt;/b&gt; MATH」와 연계하여 공부할 수 있습니다.\n",
            "☆ 최고 수준의 수학 실력에 도달할 수 있는 문제기본서... </description></item><item><title>&lt;b&gt;Hi&lt;/b&gt;-Pass 건설안전기술사</title><link/>http://book.naver.com/bookdb/book_detail.php?bid=22292256<image/>https://bookthumb-phinf.pstatic.net/cover/222/922/22292256.jpg?type=m1&amp;udate=20220323<author>장두섭</author><price>85000</price><discount>76500</discount><publisher>성안당</publisher><pubdate>20220317</pubdate><isbn>8931564686 9788931564686</isbn><description>건설안전기술사 시험 완벽 대비서!건설공사의 다양화, 대형화로 안전사고 발생이 빈발하고 대형사고로 이어져 인명 손상 및 경제적 손실이 막대해 짐에 따라 전문 건설안전 기술인력의 필요성이 높아지고 있다. 또한, 산업안전보건법 개정으로 1,500억 이상 건설공사에 건설안전기술사 배치가 법제화되었으며... </description></item><item><title>&lt;b&gt;Hi&lt;/b&gt;! Pipe 1 (한국 찬송가 편)</title><link/>http://book.naver.com/bookdb/book_detail.php?bid=22314212<image/>https://bookthumb-phinf.pstatic.net/cover/223/142/22314212.jpg?type=m1&amp;udate=20220413<author>전은배</author><price>28000</price><discount>25200</discount><publisher>교회음악사</publisher><pubdate>20220217</pubdate><isbn>1196185115 9791196185114</isbn><description>〈&lt;b&gt;HI&lt;/b&gt;! PIPE 1〉은 한국에서 애창되었던 기존 찬송가들과 21세기 찬송가에 새로 수록된 찬송가를 선별하고 편곡하여 한국 찬송가 오르간 모음집으로 출간되었다. 한국 찬송가만을 편곡하여 엮어낸 오르간 모음집은 본 저서가 처음이며, 이 작업을 위해 국내외에서 활동하는 교회음악가, 오르가니스트... </description></item><item><title>아샘 &lt;b&gt;Hi&lt;/b&gt; Math 고등 수학1 (2019)</title><link/>http://book.naver.com/bookdb/book_detail.php?bid=12129935<image/>https://bookthumb-phinf.pstatic.net/cover/121/299/12129935.jpg?type=m1&amp;udate=20201229<author>이창주</author><price>15000</price><discount></discount><publisher>아름다운샘</publisher><pubdate>20170501</pubdate><isbn>1187820105 9791187820109</isbn><description>단원의 구성과 순서가 동일하여 &amp;apos수학의 샘&amp;apos의 개념과 「&amp;apos&lt;b&gt;Hi&lt;/b&gt; Math&amp;apos의 문제를 연계하여 공부할 수 있다. 또한 처음으로 문제집을 공부하거나 기본기가 부족하다고 생각하는 학생을 위한 교재로, 기본 연산의 충분한 반복 연습, 알기 쉽게 체계적으로 분류된 유형별 문항 연습이 가능하다.\n",
            "\n",
            "교재의 구성은 [개념 정리]... </description></item><item><title>아샘 &lt;b&gt;Hi&lt;/b&gt; Math 확률과 통계</title><link/>http://book.naver.com/bookdb/book_detail.php?bid=18032619<image/>https://bookthumb-phinf.pstatic.net/cover/180/326/18032619.jpg?type=m1&amp;udate=20220311<author>이창주</author><price>14500</price><discount>13050</discount><publisher>아름다운샘</publisher><pubdate>20210222</pubdate><isbn>1191229246 9791191229240</isbn><description>수학의 기본 실력을 탄탄히 쌓아 고등 수학에 자신감을 가질 수 있도록\n",
            "  \t기본 개념을 많이 연습할 수 있는 문제\n",
            "  \t학교 시험을 완벽 대비할 수 있는 문제\n",
            "들을 수록하여 충분히 문제 연습을 할 수 있도록 만든 문제기본서입니다.</description></item><item><title>아름다운 샘 &lt;b&gt;Hi&lt;/b&gt; Math 고등 수학 하 (2017)</title><link/>http://book.naver.com/bookdb/book_detail.php?bid=11499658<image/>https://bookthumb-phinf.pstatic.net/cover/114/996/11499658.jpg?type=m1&amp;udate=20210226<author>아름다운샘 편집부</author><price>15500</price><discount></discount><publisher>아름다운샘</publisher><pubdate>20161201</pubdate><isbn>1187820032 9791187820031</isbn><description>개념기본서 &amp;lt;수학의 샘&amp;gt;에서 익힌 수학적 개념을 적용하여 문제 연습을 할 수 있다. 단원의 구성과 순서가 동일하여 &amp;lt;수학의 샘&amp;gt;의 개념과 &amp;lt;&lt;b&gt;Hi&lt;/b&gt; Math&amp;gt;의 문제를 연계하여 공부할 수 있다. 기본 연산의 충분한 반복 연습, 알기 쉽게 체계적으로 분류된 유형별 문항 연습이 가능하다.</description></item></channel></rss>\n"
          ]
        }
      ]
    },
    {
      "cell_type": "code",
      "source": [
        "items = hdbc.find_all('item')\n",
        "print(len(items),type(items))"
      ],
      "metadata": {
        "colab": {
          "base_uri": "https://localhost:8080/"
        },
        "id": "ApVjUA22T8_I",
        "outputId": "df2c5644-d030-4e7f-dee2-9312ccbced72"
      },
      "execution_count": 66,
      "outputs": [
        {
          "output_type": "stream",
          "name": "stdout",
          "text": [
            "10 <class 'bs4.element.ResultSet'>\n"
          ]
        }
      ]
    },
    {
      "cell_type": "code",
      "source": [
        "for item in items:\n",
        "  print('=============')\n",
        "  print('제목:'.item.find('title').get_text())\n",
        "  print('저자:'.item.find('author').get_text())\n",
        "  print('가격:'.item.find('price').get_text())"
      ],
      "metadata": {
        "colab": {
          "base_uri": "https://localhost:8080/",
          "height": 266
        },
        "id": "tMt8YXgEUgA_",
        "outputId": "f4fe1c50-9751-4ab4-ada6-643561db22bf"
      },
      "execution_count": 67,
      "outputs": [
        {
          "output_type": "stream",
          "name": "stdout",
          "text": [
            "=============\n"
          ]
        },
        {
          "output_type": "error",
          "ename": "AttributeError",
          "evalue": "ignored",
          "traceback": [
            "\u001b[0;31m---------------------------------------------------------------------------\u001b[0m",
            "\u001b[0;31mAttributeError\u001b[0m                            Traceback (most recent call last)",
            "\u001b[0;32m<ipython-input-67-7c4fae260e3c>\u001b[0m in \u001b[0;36m<module>\u001b[0;34m()\u001b[0m\n\u001b[1;32m      1\u001b[0m \u001b[0;32mfor\u001b[0m \u001b[0mitem\u001b[0m \u001b[0;32min\u001b[0m \u001b[0mitems\u001b[0m\u001b[0;34m:\u001b[0m\u001b[0;34m\u001b[0m\u001b[0;34m\u001b[0m\u001b[0m\n\u001b[1;32m      2\u001b[0m   \u001b[0mprint\u001b[0m\u001b[0;34m(\u001b[0m\u001b[0;34m'============='\u001b[0m\u001b[0;34m)\u001b[0m\u001b[0;34m\u001b[0m\u001b[0;34m\u001b[0m\u001b[0m\n\u001b[0;32m----> 3\u001b[0;31m   \u001b[0mprint\u001b[0m\u001b[0;34m(\u001b[0m\u001b[0;34m'제목:'\u001b[0m\u001b[0;34m.\u001b[0m\u001b[0mitem\u001b[0m\u001b[0;34m.\u001b[0m\u001b[0mfind\u001b[0m\u001b[0;34m(\u001b[0m\u001b[0;34m'title'\u001b[0m\u001b[0;34m)\u001b[0m\u001b[0;34m.\u001b[0m\u001b[0mget_text\u001b[0m\u001b[0;34m(\u001b[0m\u001b[0;34m)\u001b[0m\u001b[0;34m)\u001b[0m\u001b[0;34m\u001b[0m\u001b[0;34m\u001b[0m\u001b[0m\n\u001b[0m\u001b[1;32m      4\u001b[0m   \u001b[0mprint\u001b[0m\u001b[0;34m(\u001b[0m\u001b[0;34m'저자:'\u001b[0m\u001b[0;34m.\u001b[0m\u001b[0mitem\u001b[0m\u001b[0;34m.\u001b[0m\u001b[0mfind\u001b[0m\u001b[0;34m(\u001b[0m\u001b[0;34m'author'\u001b[0m\u001b[0;34m)\u001b[0m\u001b[0;34m.\u001b[0m\u001b[0mget_text\u001b[0m\u001b[0;34m(\u001b[0m\u001b[0;34m)\u001b[0m\u001b[0;34m)\u001b[0m\u001b[0;34m\u001b[0m\u001b[0;34m\u001b[0m\u001b[0m\n\u001b[1;32m      5\u001b[0m   \u001b[0mprint\u001b[0m\u001b[0;34m(\u001b[0m\u001b[0;34m'가격:'\u001b[0m\u001b[0;34m.\u001b[0m\u001b[0mitem\u001b[0m\u001b[0;34m.\u001b[0m\u001b[0mfind\u001b[0m\u001b[0;34m(\u001b[0m\u001b[0;34m'price'\u001b[0m\u001b[0;34m)\u001b[0m\u001b[0;34m.\u001b[0m\u001b[0mget_text\u001b[0m\u001b[0;34m(\u001b[0m\u001b[0;34m)\u001b[0m\u001b[0;34m)\u001b[0m\u001b[0;34m\u001b[0m\u001b[0;34m\u001b[0m\u001b[0m\n",
            "\u001b[0;31mAttributeError\u001b[0m: 'str' object has no attribute 'item'"
          ]
        }
      ]
    },
    {
      "cell_type": "markdown",
      "source": [
        "#공공데이터 포털 OpenAPI\n",
        "환경부 국립환경과학원_미세먼지(금속성분) 실시간 정보\n",
        "\n",
        "https://www.data.go.kr/iim/api/selectAPIAcountView.do"
      ],
      "metadata": {
        "id": "YW8uefOuejM0"
      }
    },
    {
      "cell_type": "code",
      "source": [
        "i = 2\n",
        "s = f {i:20}"
      ],
      "metadata": {
        "colab": {
          "base_uri": "https://localhost:8080/",
          "height": 137
        },
        "id": "_Sgksd1ygCU7",
        "outputId": "03a3203f-ebdb-47c1-c9fe-cc7a7ba3e6be"
      },
      "execution_count": 74,
      "outputs": [
        {
          "output_type": "error",
          "ename": "SyntaxError",
          "evalue": "ignored",
          "traceback": [
            "\u001b[0;36m  File \u001b[0;32m\"<ipython-input-74-832ec96034a7>\"\u001b[0;36m, line \u001b[0;32m2\u001b[0m\n\u001b[0;31m    s = f {i:20}\u001b[0m\n\u001b[0m          ^\u001b[0m\n\u001b[0;31mSyntaxError\u001b[0m\u001b[0;31m:\u001b[0m invalid syntax\n"
          ]
        }
      ]
    },
    {
      "cell_type": "code",
      "source": [
        "siteurl= 'http://apis.data.go.kr/1480523/MetalMeasuringResultService/MetalService'\n",
        "\n",
        "num_param = 'numOfRows=1'\n",
        "page_param = 'pageNo=1'\n",
        "\n",
        "res_param = 'resultType=xml'\n",
        "sta_num = input(\" 1 수도권 2 백령도 3 호남권 4 중부권 5 제주권 6 영남권 7 경기권 8 충청권 9 전북권 10 강원권\")\n",
        "sta_param = 'stationcode=' + str(sta_num)\n",
        "year = int(input(\"검색 년도:\"))\n",
        "month = int(input(\"월 : \"))\n",
        "day= int(input(\"일 :\"))\n",
        "date_param =f'date={year}{month:02d}{day:02d}'\n",
        "tc_param = 'timecode=RH02'\n",
        "it_param = 'itemcode=90303'\n",
        "sk_param = 'serviceKey=6GTGccnHyZ5O6HXZ5kRscvxgBh7K%2BwcxbBZmLwSJGfNVaYM0Q5vGqhZ6tfwBdTGWvRtbpSFXGmVEoDVNnkzczg%3D%3D'\n",
        "query_str = siteurl + '?' + num_param +'&' + page_param+'&'+res_param+'&'+sta_param+'&'+ date_param +'&'+tc_param+'&'+it_param+'&'+sk_param\n",
        "print(query_str)"
      ],
      "metadata": {
        "colab": {
          "base_uri": "https://localhost:8080/"
        },
        "id": "ORJ7pS9HhOoy",
        "outputId": "6ada5b89-fa13-47b5-d4a3-5d28cc896eaf"
      },
      "execution_count": 78,
      "outputs": [
        {
          "output_type": "stream",
          "name": "stdout",
          "text": [
            " 1 수도권 2 백령도 3 호남권 4 중부권 5 제주권 6 영남권 7 경기권 8 충청권 9 전북권 10 강원권3\n",
            "검색 년도:2020\n",
            "월 : 5\n",
            "일 :3\n",
            "http://apis.data.go.kr/1480523/MetalMeasuringResultService/MetalService?numOfRows=1&pageNo=1&resultType=xml&stationcode=3&date=20200503&timecode=RH02&itemcode=90303&serviceKey=6GTGccnHyZ5O6HXZ5kRscvxgBh7K%2BwcxbBZmLwSJGfNVaYM0Q5vGqhZ6tfwBdTGWvRtbpSFXGmVEoDVNnkzczg%3D%3D\n"
          ]
        }
      ]
    },
    {
      "cell_type": "code",
      "source": [
        "response = urllib.request.urlopen(query_str)\n",
        "if response.getcode()!=200:\n",
        "  print('omg...')\n",
        "else:\n",
        "  print('success')"
      ],
      "metadata": {
        "colab": {
          "base_uri": "https://localhost:8080/"
        },
        "id": "yuhkMc9fp1We",
        "outputId": "09419c69-c4af-41dc-c5e4-446e272e3a39"
      },
      "execution_count": 80,
      "outputs": [
        {
          "output_type": "stream",
          "name": "stdout",
          "text": [
            "success\n"
          ]
        }
      ]
    },
    {
      "cell_type": "code",
      "source": [
        "data = response.read().decode('utf-8')\n",
        "hdoc = BeautifulSoup(data.'html.parser')\n",
        "print(hdoc)\n"
      ],
      "metadata": {
        "colab": {
          "base_uri": "https://localhost:8080/",
          "height": 137
        },
        "id": "NINI5VZPrpxW",
        "outputId": "1e512756-b792-4892-d81f-9d35685a5567"
      },
      "execution_count": 81,
      "outputs": [
        {
          "output_type": "error",
          "ename": "SyntaxError",
          "evalue": "ignored",
          "traceback": [
            "\u001b[0;36m  File \u001b[0;32m\"<ipython-input-81-f86fd2992124>\"\u001b[0;36m, line \u001b[0;32m2\u001b[0m\n\u001b[0;31m    hdoc = BeautifulSoup(data.'html.parser')\u001b[0m\n\u001b[0m                                          ^\u001b[0m\n\u001b[0;31mSyntaxError\u001b[0m\u001b[0;31m:\u001b[0m invalid syntax\n"
          ]
        }
      ]
    },
    {
      "cell_type": "code",
      "source": [
        "vtag = hdoc.find('value')\n",
        "print(vtag.get_text().'ng/mmm')"
      ],
      "metadata": {
        "colab": {
          "base_uri": "https://localhost:8080/",
          "height": 137
        },
        "id": "cGXRmKLFr4bW",
        "outputId": "4ff2a11c-5453-4aee-9bf5-76a9d6fbd25b"
      },
      "execution_count": 82,
      "outputs": [
        {
          "output_type": "error",
          "ename": "SyntaxError",
          "evalue": "ignored",
          "traceback": [
            "\u001b[0;36m  File \u001b[0;32m\"<ipython-input-82-9a9fefc9294c>\"\u001b[0;36m, line \u001b[0;32m2\u001b[0m\n\u001b[0;31m    print(vtag.get_text().'ng/mmm')\u001b[0m\n\u001b[0m                                 ^\u001b[0m\n\u001b[0;31mSyntaxError\u001b[0m\u001b[0;31m:\u001b[0m invalid syntax\n"
          ]
        }
      ]
    }
  ]
}