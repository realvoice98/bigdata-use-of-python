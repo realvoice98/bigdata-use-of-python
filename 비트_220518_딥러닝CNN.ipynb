{
  "nbformat": 4,
  "nbformat_minor": 0,
  "metadata": {
    "colab": {
      "name": "비트_220518_딥러닝CNN.ipynb",
      "provenance": [],
      "include_colab_link": true
    },
    "kernelspec": {
      "name": "python3",
      "display_name": "Python 3"
    },
    "language_info": {
      "name": "python"
    }
  },
  "cells": [
    {
      "cell_type": "markdown",
      "metadata": {
        "id": "view-in-github",
        "colab_type": "text"
      },
      "source": [
        "<a href=\"https://colab.research.google.com/github/realvoice98/bigdata-use-of-python/blob/main/%EB%B9%84%ED%8A%B8_220518_%EB%94%A5%EB%9F%AC%EB%8B%9DCNN.ipynb\" target=\"_parent\"><img src=\"https://colab.research.google.com/assets/colab-badge.svg\" alt=\"Open In Colab\"/></a>"
      ]
    },
    {
      "cell_type": "markdown",
      "source": [
        "#모델 상태 저장"
      ],
      "metadata": {
        "id": "gC9U9SrYlTi5"
      }
    },
    {
      "cell_type": "code",
      "execution_count": null,
      "metadata": {
        "id": "EPuG4sUAf8it"
      },
      "outputs": [],
      "source": [
        "from tensorflow import keras\n",
        "(train_input,train_target), (test_input,test_target) = keras.datasets.fashion_mnist.load_data()\n",
        "train_scaled = train_input/255.0\n",
        "test_scaled = test_input/255.0"
      ]
    },
    {
      "cell_type": "code",
      "source": [
        "\n",
        "flat_layer = keras.layers.Flatten(input_shape=(28,28))\n",
        "dense1= keras.layers.Dense(100,activation='sigmoid')\n",
        "dense2 = keras.layers.Dense(10,activation='softmax')\n",
        "model = keras.Sequential()\n",
        "model.add(flat_layer)\n",
        "model.add(dense1)\n",
        "model.add(keras.layers.Dropout(0.5))\n",
        "model.add(dense2)\n",
        "model.compile(optimizer='adam',loss='sparse_categorical_crossentropy', metrics='accuracy')\n",
        "model.summary()"
      ],
      "metadata": {
        "id": "wVvfNupfhJpb"
      },
      "execution_count": null,
      "outputs": []
    },
    {
      "cell_type": "code",
      "source": [
        "hist = model.fit(train_scaled, train_target,epochs=30,validation_split=0.2)"
      ],
      "metadata": {
        "id": "dvIOxJItiGM-"
      },
      "execution_count": null,
      "outputs": []
    },
    {
      "cell_type": "code",
      "source": [
        "model.save_weights('model_weights_test.h5')"
      ],
      "metadata": {
        "id": "EuCkQB8VizB3"
      },
      "execution_count": null,
      "outputs": []
    },
    {
      "cell_type": "code",
      "source": [
        "model.save('model-whole_test.h5')"
      ],
      "metadata": {
        "id": "QS053RPvjFIg"
      },
      "execution_count": null,
      "outputs": []
    },
    {
      "cell_type": "code",
      "source": [
        "!pwd"
      ],
      "metadata": {
        "colab": {
          "base_uri": "https://localhost:8080/"
        },
        "id": "N0i0jOhajUz0",
        "outputId": "2113133b-f2a6-4c7d-a06e-a851fae2fe22"
      },
      "execution_count": null,
      "outputs": [
        {
          "output_type": "stream",
          "name": "stdout",
          "text": [
            "/content\n"
          ]
        }
      ]
    },
    {
      "cell_type": "code",
      "source": [
        "import sys"
      ],
      "metadata": {
        "id": "FKL2g1L6krIB"
      },
      "execution_count": null,
      "outputs": []
    },
    {
      "cell_type": "code",
      "source": [
        "model2 = keras.models.load_model('/content/model-whole_test.h5')\n",
        "model2.summary()"
      ],
      "metadata": {
        "id": "LcCkvSUWjZgh"
      },
      "execution_count": null,
      "outputs": []
    },
    {
      "cell_type": "code",
      "source": [
        "print(model2.weights)"
      ],
      "metadata": {
        "id": "ckqAHvDXkskZ"
      },
      "execution_count": null,
      "outputs": []
    },
    {
      "cell_type": "code",
      "source": [
        "model2.evaluate(test_scaled,test_target)"
      ],
      "metadata": {
        "colab": {
          "base_uri": "https://localhost:8080/"
        },
        "id": "q8KUnLCmk4uH",
        "outputId": "123ac600-039b-450d-eb86-f55329f345c6"
      },
      "execution_count": null,
      "outputs": [
        {
          "output_type": "stream",
          "name": "stdout",
          "text": [
            "313/313 [==============================] - 1s 2ms/step - loss: 0.3476 - accuracy: 0.8745\n"
          ]
        },
        {
          "output_type": "execute_result",
          "data": {
            "text/plain": [
              "[0.3476244807243347, 0.8744999766349792]"
            ]
          },
          "metadata": {},
          "execution_count": 18
        }
      ]
    },
    {
      "cell_type": "markdown",
      "source": [
        "#콜백"
      ],
      "metadata": {
        "id": "yYYbEzHflYi5"
      }
    },
    {
      "cell_type": "code",
      "source": [
        "def add(a,b):\n",
        "  print(f'add:{a},{b}')\n",
        "  return a+b\n"
      ],
      "metadata": {
        "id": "OFDBqraclEu8"
      },
      "execution_count": null,
      "outputs": []
    },
    {
      "cell_type": "code",
      "source": [
        "def sub(a,b):\n",
        "  print(f'sub:{a},{b}')\n",
        "  return a-b"
      ],
      "metadata": {
        "id": "gbCUPlefm0IA"
      },
      "execution_count": null,
      "outputs": []
    },
    {
      "cell_type": "code",
      "source": [
        "def doall(ls1,ls2,fn):\n",
        "  s= []\n",
        "  for  i in range(len(ls1)):\n",
        "    s.append(fn(ls1[i],ls2[i]))\n",
        "    return s"
      ],
      "metadata": {
        "id": "sMPKmStZmPhu"
      },
      "execution_count": null,
      "outputs": []
    },
    {
      "cell_type": "code",
      "source": [
        "re = doall([1,2,3],[4,5,6],add)\n",
        "print(re)"
      ],
      "metadata": {
        "colab": {
          "base_uri": "https://localhost:8080/"
        },
        "id": "Om4HXUkemf2w",
        "outputId": "b1043ab2-bdf8-48e8-fbca-854a18e9226a"
      },
      "execution_count": null,
      "outputs": [
        {
          "output_type": "stream",
          "name": "stdout",
          "text": [
            "add:1,4\n",
            "add:2,5\n",
            "add:3,6\n",
            "[5, 7, 9]\n"
          ]
        }
      ]
    },
    {
      "cell_type": "code",
      "source": [
        "re = doall([1,2,3],[4,5,6],sub)\n",
        "print(re)"
      ],
      "metadata": {
        "colab": {
          "base_uri": "https://localhost:8080/"
        },
        "id": "DIOK1fr6mtjj",
        "outputId": "41b924f9-b2aa-4362-c3f2-bbf5d901770f"
      },
      "execution_count": null,
      "outputs": [
        {
          "output_type": "stream",
          "name": "stdout",
          "text": [
            "sub:1,4\n",
            "sub:2,5\n",
            "sub:3,6\n",
            "[-3, -3, -3]\n"
          ]
        }
      ]
    },
    {
      "cell_type": "code",
      "source": [
        "\n",
        "flat_layer = keras.layers.Flatten(input_shape=(28,28))\n",
        "dense1= keras.layers.Dense(100,activation='sigmoid')\n",
        "dense2 = keras.layers.Dense(10,activation='softmax')\n",
        "model = keras.Sequential()\n",
        "model.add(flat_layer)\n",
        "model.add(dense1)\n",
        "model.add(keras.layers.Dropout(0.5))\n",
        "model.add(dense2)\n",
        "\n",
        "model.compile(optimizer='adam',loss='sparse_categorical_crossentropy', metrics='accuracy')\n",
        "model.summary()"
      ],
      "metadata": {
        "colab": {
          "base_uri": "https://localhost:8080/"
        },
        "id": "rsijto8Sm6tN",
        "outputId": "7de4e512-45ad-4e57-f54a-3e8030b2d378"
      },
      "execution_count": null,
      "outputs": [
        {
          "output_type": "stream",
          "name": "stdout",
          "text": [
            "Model: \"sequential_3\"\n",
            "_________________________________________________________________\n",
            " Layer (type)                Output Shape              Param #   \n",
            "=================================================================\n",
            " flatten_3 (Flatten)         (None, 784)               0         \n",
            "                                                                 \n",
            " dense_6 (Dense)             (None, 100)               78500     \n",
            "                                                                 \n",
            " dropout_3 (Dropout)         (None, 100)               0         \n",
            "                                                                 \n",
            " dense_7 (Dense)             (None, 10)                1010      \n",
            "                                                                 \n",
            "=================================================================\n",
            "Total params: 79,510\n",
            "Trainable params: 79,510\n",
            "Non-trainable params: 0\n",
            "_________________________________________________________________\n"
          ]
        }
      ]
    },
    {
      "cell_type": "code",
      "source": [
        "checkpoint_cb = keras.callbacks.ModelCheckpoint('best-model_test.h5',save_best_only = True)\n",
        "hist = model.fit(train_scaled, train_target,epochs=30,validation_split=0.2,callbacks=[checkpoint_cb])"
      ],
      "metadata": {
        "colab": {
          "base_uri": "https://localhost:8080/"
        },
        "id": "KbPmlXwkseaF",
        "outputId": "a4579d32-76a7-4114-cce0-f2edabfb349b"
      },
      "execution_count": null,
      "outputs": [
        {
          "output_type": "stream",
          "name": "stdout",
          "text": [
            "Epoch 1/30\n",
            "1500/1500 [==============================] - 5s 3ms/step - loss: 0.7442 - accuracy: 0.7415 - val_loss: 0.4829 - val_accuracy: 0.8233\n",
            "Epoch 2/30\n",
            "1500/1500 [==============================] - 4s 3ms/step - loss: 0.5158 - accuracy: 0.8169 - val_loss: 0.4236 - val_accuracy: 0.8437\n",
            "Epoch 3/30\n",
            "1500/1500 [==============================] - 4s 3ms/step - loss: 0.4719 - accuracy: 0.8315 - val_loss: 0.4053 - val_accuracy: 0.8517\n",
            "Epoch 4/30\n",
            "1500/1500 [==============================] - 4s 3ms/step - loss: 0.4454 - accuracy: 0.8404 - val_loss: 0.3945 - val_accuracy: 0.8592\n",
            "Epoch 5/30\n",
            "1500/1500 [==============================] - 4s 3ms/step - loss: 0.4248 - accuracy: 0.8475 - val_loss: 0.3778 - val_accuracy: 0.8597\n",
            "Epoch 6/30\n",
            "1500/1500 [==============================] - 4s 3ms/step - loss: 0.4123 - accuracy: 0.8528 - val_loss: 0.3702 - val_accuracy: 0.8648\n",
            "Epoch 7/30\n",
            "1500/1500 [==============================] - 4s 3ms/step - loss: 0.4048 - accuracy: 0.8542 - val_loss: 0.3561 - val_accuracy: 0.8704\n",
            "Epoch 8/30\n",
            "1500/1500 [==============================] - 4s 3ms/step - loss: 0.3959 - accuracy: 0.8594 - val_loss: 0.3513 - val_accuracy: 0.8736\n",
            "Epoch 9/30\n",
            "1500/1500 [==============================] - 4s 3ms/step - loss: 0.3853 - accuracy: 0.8625 - val_loss: 0.3480 - val_accuracy: 0.8711\n",
            "Epoch 10/30\n",
            "1500/1500 [==============================] - 4s 3ms/step - loss: 0.3794 - accuracy: 0.8633 - val_loss: 0.3441 - val_accuracy: 0.8746\n",
            "Epoch 11/30\n",
            "1500/1500 [==============================] - 4s 3ms/step - loss: 0.3725 - accuracy: 0.8642 - val_loss: 0.3504 - val_accuracy: 0.8730\n",
            "Epoch 12/30\n",
            "1500/1500 [==============================] - 4s 3ms/step - loss: 0.3667 - accuracy: 0.8667 - val_loss: 0.3369 - val_accuracy: 0.8791\n",
            "Epoch 13/30\n",
            "1500/1500 [==============================] - 4s 3ms/step - loss: 0.3617 - accuracy: 0.8703 - val_loss: 0.3357 - val_accuracy: 0.8774\n",
            "Epoch 14/30\n",
            "1500/1500 [==============================] - 4s 3ms/step - loss: 0.3591 - accuracy: 0.8706 - val_loss: 0.3340 - val_accuracy: 0.8783\n",
            "Epoch 15/30\n",
            "1500/1500 [==============================] - 4s 3ms/step - loss: 0.3517 - accuracy: 0.8717 - val_loss: 0.3342 - val_accuracy: 0.8774\n",
            "Epoch 16/30\n",
            "1500/1500 [==============================] - 4s 3ms/step - loss: 0.3505 - accuracy: 0.8717 - val_loss: 0.3300 - val_accuracy: 0.8801\n",
            "Epoch 17/30\n",
            "1500/1500 [==============================] - 4s 2ms/step - loss: 0.3443 - accuracy: 0.8743 - val_loss: 0.3254 - val_accuracy: 0.8806\n",
            "Epoch 18/30\n",
            "1500/1500 [==============================] - 4s 3ms/step - loss: 0.3404 - accuracy: 0.8753 - val_loss: 0.3281 - val_accuracy: 0.8831\n",
            "Epoch 19/30\n",
            "1500/1500 [==============================] - 4s 3ms/step - loss: 0.3373 - accuracy: 0.8758 - val_loss: 0.3256 - val_accuracy: 0.8802\n",
            "Epoch 20/30\n",
            "1500/1500 [==============================] - 4s 3ms/step - loss: 0.3389 - accuracy: 0.8788 - val_loss: 0.3256 - val_accuracy: 0.8810\n",
            "Epoch 21/30\n",
            "1500/1500 [==============================] - 4s 3ms/step - loss: 0.3291 - accuracy: 0.8779 - val_loss: 0.3213 - val_accuracy: 0.8848\n",
            "Epoch 22/30\n",
            "1500/1500 [==============================] - 4s 3ms/step - loss: 0.3264 - accuracy: 0.8789 - val_loss: 0.3201 - val_accuracy: 0.8861\n",
            "Epoch 23/30\n",
            "1500/1500 [==============================] - 4s 3ms/step - loss: 0.3254 - accuracy: 0.8810 - val_loss: 0.3218 - val_accuracy: 0.8815\n",
            "Epoch 24/30\n",
            "1500/1500 [==============================] - 4s 3ms/step - loss: 0.3235 - accuracy: 0.8813 - val_loss: 0.3217 - val_accuracy: 0.8829\n",
            "Epoch 25/30\n",
            "1500/1500 [==============================] - 4s 3ms/step - loss: 0.3217 - accuracy: 0.8821 - val_loss: 0.3168 - val_accuracy: 0.8843\n",
            "Epoch 26/30\n",
            "1500/1500 [==============================] - 4s 3ms/step - loss: 0.3167 - accuracy: 0.8836 - val_loss: 0.3181 - val_accuracy: 0.8830\n",
            "Epoch 27/30\n",
            "1500/1500 [==============================] - 4s 2ms/step - loss: 0.3166 - accuracy: 0.8825 - val_loss: 0.3243 - val_accuracy: 0.8843\n",
            "Epoch 28/30\n",
            "1500/1500 [==============================] - 4s 3ms/step - loss: 0.3111 - accuracy: 0.8848 - val_loss: 0.3126 - val_accuracy: 0.8876\n",
            "Epoch 29/30\n",
            "1500/1500 [==============================] - 4s 3ms/step - loss: 0.3101 - accuracy: 0.8850 - val_loss: 0.3181 - val_accuracy: 0.8845\n",
            "Epoch 30/30\n",
            "1500/1500 [==============================] - 4s 3ms/step - loss: 0.3098 - accuracy: 0.8855 - val_loss: 0.3185 - val_accuracy: 0.8852\n"
          ]
        }
      ]
    },
    {
      "cell_type": "code",
      "source": [
        "checkpoint_cb = keras.callbacks.ModelCheckpoint('best-model_test.h5',save_best_only = True)\n",
        "early_stopping_cb = keras.callbacks.EarlyStopping(patience=5,restore_best_weights=True)\n",
        "hist = model.fit(train_scaled, train_target,epochs=1500,validation_split=0.2,callbacks=[checkpoint_cb,early_stopping_cb])"
      ],
      "metadata": {
        "colab": {
          "base_uri": "https://localhost:8080/"
        },
        "id": "d6eaP2sls0iT",
        "outputId": "1a1c615f-32a3-496e-de7d-ed6124d4d536"
      },
      "execution_count": null,
      "outputs": [
        {
          "output_type": "stream",
          "name": "stdout",
          "text": [
            "Epoch 1/1500\n",
            "1500/1500 [==============================] - 4s 3ms/step - loss: 0.2031 - accuracy: 0.9210 - val_loss: 0.3780 - val_accuracy: 0.8910\n",
            "Epoch 2/1500\n",
            "1500/1500 [==============================] - 4s 3ms/step - loss: 0.2001 - accuracy: 0.9224 - val_loss: 0.3852 - val_accuracy: 0.8898\n",
            "Epoch 3/1500\n",
            "1500/1500 [==============================] - 4s 3ms/step - loss: 0.2031 - accuracy: 0.9218 - val_loss: 0.3883 - val_accuracy: 0.8888\n",
            "Epoch 4/1500\n",
            "1500/1500 [==============================] - 4s 3ms/step - loss: 0.2027 - accuracy: 0.9212 - val_loss: 0.3846 - val_accuracy: 0.8931\n",
            "Epoch 5/1500\n",
            "1500/1500 [==============================] - 4s 3ms/step - loss: 0.1987 - accuracy: 0.9233 - val_loss: 0.3889 - val_accuracy: 0.8917\n",
            "Epoch 6/1500\n",
            "1500/1500 [==============================] - 4s 3ms/step - loss: 0.2043 - accuracy: 0.9219 - val_loss: 0.3883 - val_accuracy: 0.8926\n"
          ]
        }
      ]
    },
    {
      "cell_type": "code",
      "source": [
        "import matplotlib.pyplot as plt\n",
        "plt.plot(hist.history['loss'],label='loss')\n",
        "plt.plot(hist.history['val_loss'],label='val_loss')\n",
        "plt.legend()\n",
        "plt.show()"
      ],
      "metadata": {
        "colab": {
          "base_uri": "https://localhost:8080/",
          "height": 265
        },
        "id": "Ty7t5jH4uQIK",
        "outputId": "a05ea2b7-1fee-4ba3-a8ea-a2b8ca49151e"
      },
      "execution_count": null,
      "outputs": [
        {
          "output_type": "display_data",
          "data": {
            "text/plain": [
              "<Figure size 432x288 with 1 Axes>"
            ],
            "image/png": "[encoded data removed]"
          },
          "metadata": {
            "needs_background": "light"
          }
        }
      ]
    },
    {
      "cell_type": "markdown",
      "source": [
        "#CNN"
      ],
      "metadata": {
        "id": "gQPtGeJLw22I"
      }
    },
    {
      "cell_type": "code",
      "source": [
        "keras.layers.Conv2D(10,kernel_size=(3,3),activation='relu',padding='same',strides=1)"
      ],
      "metadata": {
        "colab": {
          "base_uri": "https://localhost:8080/"
        },
        "id": "eq2FSYyMwrml",
        "outputId": "a29ac084-8ee6-4db7-a6cc-91ff99f003d5"
      },
      "execution_count": null,
      "outputs": [
        {
          "output_type": "execute_result",
          "data": {
            "text/plain": [
              "<keras.layers.convolutional.Conv2D at 0x7f6aba664250>"
            ]
          },
          "metadata": {},
          "execution_count": 44
        }
      ]
    },
    {
      "cell_type": "code",
      "source": [
        "keras.layers.MaxPooling2D(2,strides=2,padding='valid')"
      ],
      "metadata": {
        "colab": {
          "base_uri": "https://localhost:8080/"
        },
        "id": "aTagJEAr1ZWl",
        "outputId": "bedd0923-9448-4afe-ce17-1898c84ce4c3"
      },
      "execution_count": null,
      "outputs": [
        {
          "output_type": "execute_result",
          "data": {
            "text/plain": [
              "<keras.layers.pooling.MaxPooling2D at 0x7f6aba093a50>"
            ]
          },
          "metadata": {},
          "execution_count": 46
        }
      ]
    },
    {
      "cell_type": "code",
      "source": [
        "from tensorflow import keras\n",
        "from sklearn.model_selection import train_test_split\n"
      ],
      "metadata": {
        "id": "e5Sy8SYJ1hRo"
      },
      "execution_count": null,
      "outputs": []
    },
    {
      "cell_type": "code",
      "source": [
        "(train_input, train_target),(test_input,test_target) = keras.datasets.fashion_mnist.load_data()\n"
      ],
      "metadata": {
        "id": "MNYLfxTj5dBH"
      },
      "execution_count": null,
      "outputs": []
    },
    {
      "cell_type": "code",
      "source": [
        "train_rinput= train_input.reshape(-1,28,28,1)\n",
        "test_rinput = test_input.reshape(-1,28,28,1)\n",
        "train_rinput.shape"
      ],
      "metadata": {
        "colab": {
          "base_uri": "https://localhost:8080/"
        },
        "id": "mLCOaIW35yLf",
        "outputId": "d78d985a-8d3f-48a7-c607-1fc5b3cb70e8"
      },
      "execution_count": null,
      "outputs": [
        {
          "output_type": "execute_result",
          "data": {
            "text/plain": [
              "(60000, 28, 28, 1)"
            ]
          },
          "metadata": {},
          "execution_count": 49
        }
      ]
    },
    {
      "cell_type": "code",
      "source": [
        "train_scaled = train_rinput/255.0\n",
        "test_scaled = test_rinput/255.0"
      ],
      "metadata": {
        "id": "aL_Vn7Sz6Jdy"
      },
      "execution_count": null,
      "outputs": []
    },
    {
      "cell_type": "code",
      "source": [
        "model = keras.Sequential()\n",
        "model.add(keras.layers.Conv2D(32,kernel_size=3,activation='relu',padding='same',input_shape=(28,28,1)))\n",
        "model.add(keras.layers.MaxPooling2D(2))\n",
        "model.add(keras.layers.Conv2D(16,kernel_size=3,activation='relu',padding='same'))\n",
        "model.add(keras.layers.MaxPooling2D(2))\n",
        "model.add(keras.layers.Flatten())\n",
        "model.add(keras.layers.Dense(100,activation='relu'))\n",
        "model.add(keras.layers.Dropout(0.5))\n",
        "model.add(keras.layers.Dense(10,activation='softmax'))\n",
        "model.summary()"
      ],
      "metadata": {
        "colab": {
          "base_uri": "https://localhost:8080/"
        },
        "id": "PmxjjTkS6f-R",
        "outputId": "eb8a8158-6c68-479f-afb4-6f922a4ab308"
      },
      "execution_count": null,
      "outputs": [
        {
          "output_type": "stream",
          "name": "stdout",
          "text": [
            "Model: \"sequential_5\"\n",
            "_________________________________________________________________\n",
            " Layer (type)                Output Shape              Param #   \n",
            "=================================================================\n",
            " conv2d_3 (Conv2D)           (None, 28, 28, 32)        320       \n",
            "                                                                 \n",
            " max_pooling2d_3 (MaxPooling  (None, 14, 14, 32)       0         \n",
            " 2D)                                                             \n",
            "                                                                 \n",
            " conv2d_4 (Conv2D)           (None, 14, 14, 16)        4624      \n",
            "                                                                 \n",
            " max_pooling2d_4 (MaxPooling  (None, 7, 7, 16)         0         \n",
            " 2D)                                                             \n",
            "                                                                 \n",
            " flatten_5 (Flatten)         (None, 784)               0         \n",
            "                                                                 \n",
            " dense_10 (Dense)            (None, 100)               78500     \n",
            "                                                                 \n",
            " dropout_5 (Dropout)         (None, 100)               0         \n",
            "                                                                 \n",
            " dense_11 (Dense)            (None, 10)                1010      \n",
            "                                                                 \n",
            "=================================================================\n",
            "Total params: 84,454\n",
            "Trainable params: 84,454\n",
            "Non-trainable params: 0\n",
            "_________________________________________________________________\n"
          ]
        }
      ]
    },
    {
      "cell_type": "code",
      "source": [
        "keras.utils.plot_model(model)"
      ],
      "metadata": {
        "colab": {
          "base_uri": "https://localhost:8080/",
          "height": 856
        },
        "id": "WAMj_7FWCRXf",
        "outputId": "7a43a601-f7a2-4d5c-a689-604ba8f5985b"
      },
      "execution_count": null,
      "outputs": [
        {
          "output_type": "execute_result",
          "data": {
            "text/plain": [
              "<IPython.core.display.Image object>"
            ],
            "image/png": "[encoded data removed]"
          },
          "metadata": {},
          "execution_count": 61
        }
      ]
    },
    {
      "cell_type": "code",
      "source": [
        "keras.utils.plot_model(model, show_shapes=True)"
      ],
      "metadata": {
        "colab": {
          "base_uri": "https://localhost:8080/",
          "height": 976
        },
        "id": "k3M0pXA9CXlQ",
        "outputId": "560e656b-8cb8-49dc-c48c-b302d67e5d8b"
      },
      "execution_count": null,
      "outputs": [
        {
          "output_type": "execute_result",
          "data": {
            "text/plain": [
              "<IPython.core.display.Image object>"
            ],
            "image/png": "[encoded data removed]"
          },
          "metadata": {},
          "execution_count": 62
        }
      ]
    },
    {
      "cell_type": "code",
      "source": [
        "from gc import callbacks\n",
        "model.compile(optimizer='adam',loss=keras.losses.sparse_categorical_crossentropy,metrics='accuracy')\n",
        "early_stopping_cb = keras.callbacks.EarlyStopping(patience=5,restore_best_weights=True)\n",
        "history = model.fit(train_scaled, train_target,validation_split=0.2,epochs=30000,callbacks=[early_stopping_cb])"
      ],
      "metadata": {
        "colab": {
          "base_uri": "https://localhost:8080/"
        },
        "id": "vnpIh0JO-ZnQ",
        "outputId": "1c33dad9-6501-462b-d865-16d6845324ab"
      },
      "execution_count": null,
      "outputs": [
        {
          "output_type": "stream",
          "name": "stdout",
          "text": [
            "Epoch 1/30000\n",
            "1500/1500 [==============================] - 45s 30ms/step - loss: 0.6212 - accuracy: 0.7776 - val_loss: 0.3821 - val_accuracy: 0.8593\n",
            "Epoch 2/30000\n",
            "1500/1500 [==============================] - 47s 31ms/step - loss: 0.4132 - accuracy: 0.8537 - val_loss: 0.3181 - val_accuracy: 0.8829\n",
            "Epoch 3/30000\n",
            "1500/1500 [==============================] - 47s 31ms/step - loss: 0.3622 - accuracy: 0.8706 - val_loss: 0.2951 - val_accuracy: 0.8893\n",
            "Epoch 4/30000\n",
            "1500/1500 [==============================] - 46s 31ms/step - loss: 0.3308 - accuracy: 0.8825 - val_loss: 0.2774 - val_accuracy: 0.8970\n",
            "Epoch 5/30000\n",
            "1500/1500 [==============================] - 48s 32ms/step - loss: 0.3111 - accuracy: 0.8887 - val_loss: 0.2674 - val_accuracy: 0.9038\n",
            "Epoch 6/30000\n",
            "1500/1500 [==============================] - 46s 31ms/step - loss: 0.2885 - accuracy: 0.8953 - val_loss: 0.2623 - val_accuracy: 0.9050\n",
            "Epoch 7/30000\n",
            "1500/1500 [==============================] - 48s 32ms/step - loss: 0.2759 - accuracy: 0.9002 - val_loss: 0.2481 - val_accuracy: 0.9090\n",
            "Epoch 8/30000\n",
            "1500/1500 [==============================] - 46s 31ms/step - loss: 0.2630 - accuracy: 0.9045 - val_loss: 0.2458 - val_accuracy: 0.9104\n",
            "Epoch 9/30000\n",
            "1500/1500 [==============================] - 47s 31ms/step - loss: 0.2525 - accuracy: 0.9078 - val_loss: 0.2466 - val_accuracy: 0.9105\n",
            "Epoch 10/30000\n",
            "1500/1500 [==============================] - 47s 31ms/step - loss: 0.2434 - accuracy: 0.9110 - val_loss: 0.2445 - val_accuracy: 0.9103\n",
            "Epoch 11/30000\n",
            "1500/1500 [==============================] - 47s 31ms/step - loss: 0.2345 - accuracy: 0.9151 - val_loss: 0.2529 - val_accuracy: 0.9089\n",
            "Epoch 12/30000\n",
            "1500/1500 [==============================] - 46s 31ms/step - loss: 0.2290 - accuracy: 0.9164 - val_loss: 0.2425 - val_accuracy: 0.9122\n",
            "Epoch 13/30000\n",
            "1500/1500 [==============================] - 47s 32ms/step - loss: 0.2196 - accuracy: 0.9184 - val_loss: 0.2390 - val_accuracy: 0.9139\n",
            "Epoch 14/30000\n",
            "1500/1500 [==============================] - 46s 31ms/step - loss: 0.2131 - accuracy: 0.9200 - val_loss: 0.2455 - val_accuracy: 0.9117\n",
            "Epoch 15/30000\n",
            "1500/1500 [==============================] - 47s 31ms/step - loss: 0.2082 - accuracy: 0.9229 - val_loss: 0.2539 - val_accuracy: 0.9108\n",
            "Epoch 16/30000\n",
            "1500/1500 [==============================] - 47s 32ms/step - loss: 0.2030 - accuracy: 0.9241 - val_loss: 0.2534 - val_accuracy: 0.9102\n",
            "Epoch 17/30000\n",
            "1500/1500 [==============================] - 47s 31ms/step - loss: 0.1969 - accuracy: 0.9260 - val_loss: 0.2526 - val_accuracy: 0.9130\n",
            "Epoch 18/30000\n",
            "1500/1500 [==============================] - 46s 31ms/step - loss: 0.1945 - accuracy: 0.9264 - val_loss: 0.2436 - val_accuracy: 0.9148\n"
          ]
        }
      ]
    },
    {
      "cell_type": "code",
      "source": [
        "plt.plot(history.history['loss'],label='loss')\n",
        "plt.plot(history.history['val_loss'],label='val_loss')\n",
        "plt.legend()\n",
        "plt.show()"
      ],
      "metadata": {
        "colab": {
          "base_uri": "https://localhost:8080/",
          "height": 265
        },
        "id": "IUwELeCu-iAX",
        "outputId": "cfb711a0-5346-4ba8-f629-050ed7c606fe"
      },
      "execution_count": null,
      "outputs": [
        {
          "output_type": "display_data",
          "data": {
            "text/plain": [
              "<Figure size 432x288 with 1 Axes>"
            ],
            "image/png": "[encoded data removed]"
          },
          "metadata": {
            "needs_background": "light"
          }
        }
      ]
    },
    {
      "cell_type": "code",
      "source": [
        "preds = model.predict(test_scaled[0:1])\n",
        "print(preds)"
      ],
      "metadata": {
        "colab": {
          "base_uri": "https://localhost:8080/"
        },
        "id": "bNNaNRdTCK1C",
        "outputId": "2784be81-d1cb-41cc-ee7e-5c5f808f1db2"
      },
      "execution_count": null,
      "outputs": [
        {
          "output_type": "stream",
          "name": "stdout",
          "text": [
            "[[1.8976767e-08 3.0207464e-13 1.4507516e-11 9.0285374e-10 4.9136719e-12\n",
            "  1.4588536e-06 3.5500820e-09 7.2960116e-05 5.1901313e-11 9.9992549e-01]]\n"
          ]
        }
      ]
    },
    {
      "cell_type": "code",
      "source": [
        "model.summary()"
      ],
      "metadata": {
        "colab": {
          "base_uri": "https://localhost:8080/"
        },
        "id": "GvnAa97bYX_o",
        "outputId": "a09556c4-1f8e-46c7-cc2d-7c75b1ab1ac6"
      },
      "execution_count": null,
      "outputs": [
        {
          "output_type": "stream",
          "name": "stdout",
          "text": [
            "Model: \"sequential_5\"\n",
            "_________________________________________________________________\n",
            " Layer (type)                Output Shape              Param #   \n",
            "=================================================================\n",
            " conv2d_3 (Conv2D)           (None, 28, 28, 32)        320       \n",
            "                                                                 \n",
            " max_pooling2d_3 (MaxPooling  (None, 14, 14, 32)       0         \n",
            " 2D)                                                             \n",
            "                                                                 \n",
            " conv2d_4 (Conv2D)           (None, 14, 14, 16)        4624      \n",
            "                                                                 \n",
            " max_pooling2d_4 (MaxPooling  (None, 7, 7, 16)         0         \n",
            " 2D)                                                             \n",
            "                                                                 \n",
            " flatten_5 (Flatten)         (None, 784)               0         \n",
            "                                                                 \n",
            " dense_10 (Dense)            (None, 100)               78500     \n",
            "                                                                 \n",
            " dropout_5 (Dropout)         (None, 100)               0         \n",
            "                                                                 \n",
            " dense_11 (Dense)            (None, 10)                1010      \n",
            "                                                                 \n",
            "=================================================================\n",
            "Total params: 84,454\n",
            "Trainable params: 84,454\n",
            "Non-trainable params: 0\n",
            "_________________________________________________________________\n"
          ]
        }
      ]
    },
    {
      "cell_type": "code",
      "source": [
        "model.save('best-cnn-mpdel.h5')"
      ],
      "metadata": {
        "id": "pB2D-b7iY6nt"
      },
      "execution_count": null,
      "outputs": []
    },
    {
      "cell_type": "code",
      "source": [
        "model.layers"
      ],
      "metadata": {
        "colab": {
          "base_uri": "https://localhost:8080/"
        },
        "id": "X0Hr6ITxZFIM",
        "outputId": "9f1d0a6e-7b48-4830-8073-8e3d14393210"
      },
      "execution_count": null,
      "outputs": [
        {
          "output_type": "execute_result",
          "data": {
            "text/plain": [
              "[<keras.layers.convolutional.Conv2D at 0x7f6b47936e10>,\n",
              " <keras.layers.pooling.MaxPooling2D at 0x7f6ab9fad8d0>,\n",
              " <keras.layers.convolutional.Conv2D at 0x7f6b4794ae90>,\n",
              " <keras.layers.pooling.MaxPooling2D at 0x7f6b4793fc10>,\n",
              " <keras.layers.core.flatten.Flatten at 0x7f6b47951250>,\n",
              " <keras.layers.core.dense.Dense at 0x7f6b4795ff50>,\n",
              " <keras.layers.core.dropout.Dropout at 0x7f6b47968fd0>,\n",
              " <keras.layers.core.dense.Dense at 0x7f6b47951bd0>]"
            ]
          },
          "metadata": {},
          "execution_count": 68
        }
      ]
    },
    {
      "cell_type": "code",
      "source": [
        "conv = model.layers[0]\n",
        "print(conv.weights[0].shape, conv.weights[1].shape)"
      ],
      "metadata": {
        "colab": {
          "base_uri": "https://localhost:8080/"
        },
        "id": "v7OYTtq4ZGlm",
        "outputId": "b573d25a-d946-43ba-ae99-0a026c07db7d"
      },
      "execution_count": null,
      "outputs": [
        {
          "output_type": "stream",
          "name": "stdout",
          "text": [
            "(3, 3, 1, 32) (32,)\n"
          ]
        }
      ]
    },
    {
      "cell_type": "code",
      "source": [
        "conv_weights = conv.weights[0].numpy()\n",
        "print(conv_weights.mean(),conv_weights.std() )"
      ],
      "metadata": {
        "colab": {
          "base_uri": "https://localhost:8080/"
        },
        "id": "SiiufIjvZfEz",
        "outputId": "fe4a5f7e-a65b-497f-b57c-04c9d448010d"
      },
      "execution_count": null,
      "outputs": [
        {
          "output_type": "stream",
          "name": "stdout",
          "text": [
            "-0.06183655 0.34412897\n"
          ]
        }
      ]
    },
    {
      "cell_type": "code",
      "source": [
        "fig, axs = plt.subplots(2,16)\n",
        "for i in range(2):\n",
        "  for j in range(16):\n",
        "    axs[i,j].imshow(conv_weights[:,:,0,i*16+j],vmin=-0.5,vmax=0.5)\n",
        "    axs[i,j].axis('off')\n",
        "plt.show()"
      ],
      "metadata": {
        "colab": {
          "base_uri": "https://localhost:8080/",
          "height": 167
        },
        "id": "FBY43rRTaDZv",
        "outputId": "7fdb8eec-b1ca-4eba-b109-77099351d05f"
      },
      "execution_count": null,
      "outputs": [
        {
          "output_type": "display_data",
          "data": {
            "text/plain": [
              "<Figure size 432x288 with 32 Axes>"
            ],
            "image/png": "[encoded data removed]"
          },
          "metadata": {
            "needs_background": "light"
          }
        }
      ]
    },
    {
      "cell_type": "code",
      "source": [
        "model2 = keras.Sequential()\n",
        "model2.add(keras.layers.Conv2D(32,kernel_size=3,activation='relu',padding='same',input_shape=(28,28,1)))\n",
        "model2.add(keras.layers.MaxPooling2D(2))\n",
        "model2.add(keras.layers.Conv2D(16,kernel_size=3,activation='relu',padding='same'))\n",
        "model2.add(keras.layers.MaxPooling2D(2))\n",
        "model2.add(keras.layers.Flatten())\n",
        "model2.add(keras.layers.Dense(100,activation='relu'))\n",
        "model2.add(keras.layers.Dropout(0.5))\n",
        "model2.add(keras.layers.Dense(10,activation='softmax'))\n",
        "model2.compile(optimizer='adam',loss=keras.losses.sparse_categorical_crossentropy,metrics='accuracy')\n",
        "\n"
      ],
      "metadata": {
        "id": "G7VMQrJ3bM2j"
      },
      "execution_count": null,
      "outputs": []
    },
    {
      "cell_type": "code",
      "source": [
        "conv2=model2.layers[0]\n",
        "conv_weights2 = conv2.weights[0].numpy()"
      ],
      "metadata": {
        "id": "HB5OxmpSbulf"
      },
      "execution_count": null,
      "outputs": []
    },
    {
      "cell_type": "code",
      "source": [
        "fig, axs = plt.subplots(2,16)\n",
        "for i in range(2):\n",
        "  for j in range(16):\n",
        "    axs[i,j].imshow(conv_weights2[:,:,0,i*16+j],vmin=-0.5,vmax=0.5)\n",
        "    axs[i,j].axis('off')\n",
        "plt.show()"
      ],
      "metadata": {
        "colab": {
          "base_uri": "https://localhost:8080/",
          "height": 167
        },
        "id": "PSK2vQZrcecz",
        "outputId": "c3849842-90cf-44d7-ced5-f7ed793db6a9"
      },
      "execution_count": null,
      "outputs": [
        {
          "output_type": "display_data",
          "data": {
            "text/plain": [
              "<Figure size 432x288 with 32 Axes>"
            ],
            "image/png": "[encoded data removed]"
          },
          "metadata": {
            "needs_background": "light"
          }
        }
      ]
    },
    {
      "cell_type": "code",
      "source": [
        "from sklearn.linear_model import LinearRegression\n",
        "import numpy as np\n",
        "lr = LinearRegression()\n",
        "lr.coef_ = np.random.uniform(0,1)\n",
        "print(lr.coef_)"
      ],
      "metadata": {
        "colab": {
          "base_uri": "https://localhost:8080/"
        },
        "id": "TQO4TyI2cqtI",
        "outputId": "8b65dbb3-e11c-4964-e943-d6ac3cc74a4c"
      },
      "execution_count": null,
      "outputs": [
        {
          "output_type": "stream",
          "name": "stdout",
          "text": [
            "0.0014440247300261388\n"
          ]
        }
      ]
    },
    {
      "cell_type": "code",
      "source": [
        "print(model.input)"
      ],
      "metadata": {
        "colab": {
          "base_uri": "https://localhost:8080/"
        },
        "id": "z-glAIGUeHaA",
        "outputId": "a8758ddb-bd78-4731-9c56-e2e4977c2599"
      },
      "execution_count": null,
      "outputs": [
        {
          "output_type": "stream",
          "name": "stdout",
          "text": [
            "KerasTensor(type_spec=TensorSpec(shape=(None, 28, 28, 1), dtype=tf.float32, name='conv2d_3_input'), name='conv2d_3_input', description=\"created by layer 'conv2d_3_input'\")\n"
          ]
        }
      ]
    },
    {
      "cell_type": "code",
      "source": [
        "print(model.layers[0].output)"
      ],
      "metadata": {
        "colab": {
          "base_uri": "https://localhost:8080/"
        },
        "id": "tdZwWpGfeTIW",
        "outputId": "4c8c0556-718a-4b0d-e36e-db04938591d4"
      },
      "execution_count": null,
      "outputs": [
        {
          "output_type": "stream",
          "name": "stdout",
          "text": [
            "KerasTensor(type_spec=TensorSpec(shape=(None, 28, 28, 32), dtype=tf.float32, name=None), name='conv2d_3/Relu:0', description=\"created by layer 'conv2d_3'\")\n"
          ]
        }
      ]
    },
    {
      "cell_type": "code",
      "source": [
        "conv_acti = keras.Model(model.input,model.layers[0].output)\n",
        "print(conv_acti)"
      ],
      "metadata": {
        "colab": {
          "base_uri": "https://localhost:8080/"
        },
        "id": "cH7kuGswdC6E",
        "outputId": "fac6dc6d-77c5-4d28-faa8-9177236c1eca"
      },
      "execution_count": null,
      "outputs": [
        {
          "output_type": "stream",
          "name": "stdout",
          "text": [
            "<keras.engine.functional.Functional object at 0x7f6ac2153950>\n"
          ]
        }
      ]
    },
    {
      "cell_type": "code",
      "source": [
        "train_input[0:1].shape"
      ],
      "metadata": {
        "colab": {
          "base_uri": "https://localhost:8080/"
        },
        "id": "wx0S_NhMeGmN",
        "outputId": "d22e8db3-5f04-4f39-fe9c-b1f56c7cb0e0"
      },
      "execution_count": null,
      "outputs": [
        {
          "output_type": "execute_result",
          "data": {
            "text/plain": [
              "(1, 28, 28)"
            ]
          },
          "metadata": {},
          "execution_count": 150
        }
      ]
    },
    {
      "cell_type": "code",
      "source": [
        "inputs = train_input[0:1].reshape(-1,28,28,1)/255.0\n",
        "inputs.shape"
      ],
      "metadata": {
        "colab": {
          "base_uri": "https://localhost:8080/"
        },
        "id": "u5GNmrH6esPv",
        "outputId": "0c8a1e2c-9dc5-4b9c-c8bd-9aa92f3edcaf"
      },
      "execution_count": null,
      "outputs": [
        {
          "output_type": "execute_result",
          "data": {
            "text/plain": [
              "(1, 28, 28, 1)"
            ]
          },
          "metadata": {},
          "execution_count": 151
        }
      ]
    },
    {
      "cell_type": "code",
      "source": [
        "train_scaled[0:1].shape"
      ],
      "metadata": {
        "colab": {
          "base_uri": "https://localhost:8080/"
        },
        "id": "HC6hWd7_fA3o",
        "outputId": "9c140fd6-fc44-4cdf-89b2-4120d0902c69"
      },
      "execution_count": null,
      "outputs": [
        {
          "output_type": "execute_result",
          "data": {
            "text/plain": [
              "(1, 28, 28, 1)"
            ]
          },
          "metadata": {},
          "execution_count": 153
        }
      ]
    },
    {
      "cell_type": "code",
      "source": [
        "feature_maps = conv_acti.predict(inputs)"
      ],
      "metadata": {
        "id": "v7Pab4_ifDiC"
      },
      "execution_count": null,
      "outputs": []
    },
    {
      "cell_type": "code",
      "source": [
        "print(feature_maps.shape)"
      ],
      "metadata": {
        "colab": {
          "base_uri": "https://localhost:8080/"
        },
        "id": "8s-MS6fVfZnq",
        "outputId": "742e72e6-79d2-4fc0-f6e6-cdac8b513dbd"
      },
      "execution_count": null,
      "outputs": [
        {
          "output_type": "stream",
          "name": "stdout",
          "text": [
            "(1, 28, 28, 32)\n"
          ]
        }
      ]
    },
    {
      "cell_type": "code",
      "source": [
        "fig, axs = plt.subplots(4,8,figsize=(15,10))\n",
        "for i in range(4):\n",
        "  for j in range(8):\n",
        "    axs[i,j].imshow(feature_maps[0,:,:,i*8 + j])\n",
        "    axs[i,j].axis('off')\n",
        "plt.show()"
      ],
      "metadata": {
        "colab": {
          "base_uri": "https://localhost:8080/",
          "height": 545
        },
        "id": "_Borlfs8fbQC",
        "outputId": "6f3b8b15-43c4-42ca-a80f-faeedc72c54f"
      },
      "execution_count": null,
      "outputs": [
        {
          "output_type": "display_data",
          "data": {
            "text/plain": [
              "<Figure size 1080x720 with 32 Axes>"
            ],
            "image/png": "[encoded data removed]"
          },
          "metadata": {
            "needs_background": "light"
          }
        }
      ]
    },
    {
      "cell_type": "code",
      "source": [
        ""
      ],
      "metadata": {
        "id": "m9WwbpGZgCWX"
      },
      "execution_count": null,
      "outputs": []
    },
    {
      "cell_type": "markdown",
      "source": [
        "# 보너스 강의 - OpenCV 맛"
      ],
      "metadata": {
        "id": "fMt_eVIsjLd2"
      }
    },
    {
      "cell_type": "code",
      "source": [
        "import numpy as np\n"
      ],
      "metadata": {
        "id": "Q0bFRsxxkGiI"
      },
      "execution_count": 4,
      "outputs": []
    },
    {
      "cell_type": "code",
      "source": [
        "import cv2\n",
        "from google.colab.patches import cv2_imshow"
      ],
      "metadata": {
        "id": "lLIp7ztsjOL3"
      },
      "execution_count": 5,
      "outputs": []
    },
    {
      "cell_type": "code",
      "source": [
        "image=np.zeros((100,180,3),np.uint8)"
      ],
      "metadata": {
        "id": "eVGNWX13jwLe"
      },
      "execution_count": 18,
      "outputs": []
    },
    {
      "cell_type": "code",
      "source": [
        "for i in range(0,180):\n",
        "  image[:,i,0]=i\n",
        "image[:,:,1]=255\n",
        "image[:,:,2]=255\n",
        "img = cv2.cvtColor(image,cv2.COLOR_HSV2BGR)\n",
        "cv2_imshow(img)"
      ],
      "metadata": {
        "colab": {
          "base_uri": "https://localhost:8080/",
          "height": 117
        },
        "id": "8tHRPkOWj-Ui",
        "outputId": "77f05f72-b5ad-4dba-ef6e-cb6320fc49ab"
      },
      "execution_count": 19,
      "outputs": [
        {
          "output_type": "display_data",
          "data": {
            "text/plain": [
              "<PIL.Image.Image image mode=RGB size=180x100 at 0x7FDF2670FFD0>"
            ],
            "image/png": "[encoded data removed]"
          },
          "metadata": {}
        }
      ]
    },
    {
      "cell_type": "code",
      "source": [
        "image=np.zeros((100,255,3),np.uint8)\n",
        "image[:,:,0] = 0\n",
        "for i in range(0,255):\n",
        "  image[:,i,1]=i\n",
        "image[:,:,2]=255\n",
        "img = cv2.cvtColor(image,cv2.COLOR_HSV2BGR)\n",
        "cv2_imshow(img)"
      ],
      "metadata": {
        "colab": {
          "base_uri": "https://localhost:8080/",
          "height": 117
        },
        "id": "H7pjrNY4ln4f",
        "outputId": "a0d8f51a-d78c-43f0-e49a-4099f537977f"
      },
      "execution_count": 21,
      "outputs": [
        {
          "output_type": "display_data",
          "data": {
            "text/plain": [
              "<PIL.Image.Image image mode=RGB size=255x100 at 0x7FDF26888D50>"
            ],
            "image/png": "[encoded data removed]"
          },
          "metadata": {}
        }
      ]
    },
    {
      "cell_type": "code",
      "source": [
        "image=np.zeros((100,255,3),np.uint8)\n",
        "image[:,:,0] = 0\n",
        "for i in range(0,255):\n",
        "  image[:,i,2]=i\n",
        "image[:,:,1]=255\n",
        "img = cv2.cvtColor(image,cv2.COLOR_HSV2BGR)\n",
        "cv2_imshow(img)"
      ],
      "metadata": {
        "colab": {
          "base_uri": "https://localhost:8080/",
          "height": 117
        },
        "id": "FlEyGdlIkp6E",
        "outputId": "a155d394-8c73-40ac-89ac-1c9707369e4a"
      },
      "execution_count": 22,
      "outputs": [
        {
          "output_type": "display_data",
          "data": {
            "text/plain": [
              "<PIL.Image.Image image mode=RGB size=255x100 at 0x7FDF26763F90>"
            ],
            "image/png": "[encoded data removed]"
          },
          "metadata": {}
        }
      ]
    },
    {
      "cell_type": "code",
      "source": [
        "path = '/content/Number.png'\n",
        "src_image = cv2.imread(path,cv2.IMREAD_COLOR)\n",
        "cv2_imshow(src_image)"
      ],
      "metadata": {
        "colab": {
          "base_uri": "https://localhost:8080/",
          "height": 276
        },
        "id": "kIxLFehLme-d",
        "outputId": "5a3a37f5-06b8-4e68-cf62-496f074f5f52"
      },
      "execution_count": 31,
      "outputs": [
        {
          "output_type": "display_data",
          "data": {
            "text/plain": [
              "<PIL.Image.Image image mode=RGB size=532x259 at 0x7FDF266CE990>"
            ],
            "image/png": "[encoded data removed]"
          },
          "metadata": {}
        }
      ]
    },
    {
      "cell_type": "code",
      "source": [
        "cpy_image = src_image.copy()\n",
        "gray_image = cv2.cvtColor(src_image,cv2.COLOR_BGR2GRAY)\n",
        "cv2_imshow(gray_image)"
      ],
      "metadata": {
        "colab": {
          "base_uri": "https://localhost:8080/",
          "height": 276
        },
        "id": "sD6bV43rmeyV",
        "outputId": "60eb3304-9e6e-498b-d5a7-17fe45ad4154"
      },
      "execution_count": 32,
      "outputs": [
        {
          "output_type": "display_data",
          "data": {
            "text/plain": [
              "<PIL.Image.Image image mode=L size=532x259 at 0x7FDF266CEB90>"
            ],
            "image/png": "[encoded data removed]"
          },
          "metadata": {}
        }
      ]
    },
    {
      "cell_type": "code",
      "source": [
        "src_image.shape, gray_image.shape"
      ],
      "metadata": {
        "colab": {
          "base_uri": "https://localhost:8080/"
        },
        "id": "1x-FEBPunJiH",
        "outputId": "c52f87f4-203d-4614-8b05-03c0a0e69396"
      },
      "execution_count": 33,
      "outputs": [
        {
          "output_type": "execute_result",
          "data": {
            "text/plain": [
              "((259, 532, 3), (259, 532))"
            ]
          },
          "metadata": {},
          "execution_count": 33
        }
      ]
    },
    {
      "cell_type": "code",
      "source": [
        "blur_image = cv2.GaussianBlur(gray_image,(3,3),0)\n",
        "cv2_imshow(blur_image)"
      ],
      "metadata": {
        "colab": {
          "base_uri": "https://localhost:8080/",
          "height": 276
        },
        "id": "OV0QomfpnUPJ",
        "outputId": "9e203e44-6194-4037-c024-67529b53cba1"
      },
      "execution_count": 36,
      "outputs": [
        {
          "output_type": "display_data",
          "data": {
            "text/plain": [
              "<PIL.Image.Image image mode=L size=532x259 at 0x7FDF26784450>"
            ],
            "image/png": "[encoded data removed]"
          },
          "metadata": {}
        }
      ]
    },
    {
      "cell_type": "code",
      "source": [
        "canny_image = cv2.Canny(blur_image,100,200)\n",
        "cv2_imshow(canny_image)"
      ],
      "metadata": {
        "colab": {
          "base_uri": "https://localhost:8080/",
          "height": 276
        },
        "id": "P8ZaA9NioZZn",
        "outputId": "075f9b6d-3e0d-4fec-c4be-5c085a735b2d"
      },
      "execution_count": 55,
      "outputs": [
        {
          "output_type": "display_data",
          "data": {
            "text/plain": [
              "<PIL.Image.Image image mode=L size=532x259 at 0x7FDF26788990>"
            ],
            "image/png": "[encoded data removed]"
          },
          "metadata": {}
        }
      ]
    },
    {
      "cell_type": "code",
      "source": [
        "contours,_ = cv2.findContours(canny_image,cv2.RETR_TREE,cv2.CHAIN_APPROX_SIMPLE)\n",
        "store_xywh=[]\n",
        "for contour in contours:\n",
        "  x,y,w,h = cv2.boundingRect(contour)\n",
        "  flag = False\n",
        "  if w>30 and h>=40:\n",
        "     for sv in store_xywh:\n",
        "       gx = abs(sv[0]-x)\n",
        "       gy = abs(sv[1]-y)\n",
        "       if gx<5 and gy<5:\n",
        "         flag = True\n",
        "         break\n",
        "  else:\n",
        "      flag = True\n",
        "  if flag == False:\n",
        "      store_xywh.append([x,y,w,h])\n",
        "      \n",
        "\n",
        "for sv in store_xywh:\n",
        "  print(sv)"
      ],
      "metadata": {
        "colab": {
          "base_uri": "https://localhost:8080/"
        },
        "id": "5AR362c7o8gV",
        "outputId": "8ac65503-cc67-40db-8ec4-0e3b8b25a3e9"
      },
      "execution_count": 56,
      "outputs": [
        {
          "output_type": "stream",
          "name": "stdout",
          "text": [
            "[414, 166, 49, 53]\n",
            "[137, 164, 35, 61]\n",
            "[39, 158, 42, 73]\n",
            "[216, 151, 39, 72]\n",
            "[317, 144, 43, 89]\n",
            "[123, 49, 66, 43]\n",
            "[421, 47, 75, 48]\n",
            "[55, 46, 36, 58]\n",
            "[218, 38, 45, 55]\n",
            "[321, 37, 64, 66]\n"
          ]
        }
      ]
    },
    {
      "cell_type": "code",
      "source": [
        "for sv in store_xywh:\n",
        "  x,y,w,h = sv\n",
        "  cv2.rectangle(src_image,(x-10,y-10),(x+w+20,y+h+20),(255,0,255),1)\n",
        "cv2_imshow(src_image)"
      ],
      "metadata": {
        "colab": {
          "base_uri": "https://localhost:8080/",
          "height": 276
        },
        "id": "gM-94t8WpVna",
        "outputId": "4d31b1da-c6ca-4d93-f912-7f77d2a1559a"
      },
      "execution_count": 57,
      "outputs": [
        {
          "output_type": "display_data",
          "data": {
            "text/plain": [
              "<PIL.Image.Image image mode=RGB size=532x259 at 0x7FDEAF9AB690>"
            ],
            "image/png": "[encoded data removed]"
          },
          "metadata": {}
        }
      ]
    },
    {
      "cell_type": "markdown",
      "source": [
        "# 손글씨"
      ],
      "metadata": {
        "id": "LJHT1vJ3wSI4"
      }
    },
    {
      "cell_type": "code",
      "source": [
        "from tensorflow import keras\n",
        "(image_train, label_train),(image_test,label_test) = keras.datasets.mnist.load_data()\n",
        "print(image_train.shape)"
      ],
      "metadata": {
        "colab": {
          "base_uri": "https://localhost:8080/"
        },
        "id": "77l_sOUsrxcS",
        "outputId": "6bd53e39-28a7-49c4-cdaa-d5febc6c678e"
      },
      "execution_count": 58,
      "outputs": [
        {
          "output_type": "stream",
          "name": "stdout",
          "text": [
            "(60000, 28, 28)\n"
          ]
        }
      ]
    },
    {
      "cell_type": "code",
      "source": [
        "np.unique(label_train,return_counts=True)"
      ],
      "metadata": {
        "colab": {
          "base_uri": "https://localhost:8080/"
        },
        "id": "FZE8mbfOwjYl",
        "outputId": "4c678ddd-3e7e-4457-e70a-9a3aecfa578a"
      },
      "execution_count": 60,
      "outputs": [
        {
          "output_type": "execute_result",
          "data": {
            "text/plain": [
              "(array([0, 1, 2, 3, 4, 5, 6, 7, 8, 9], dtype=uint8),\n",
              " array([5923, 6742, 5958, 6131, 5842, 5421, 5918, 6265, 5851, 5949]))"
            ]
          },
          "metadata": {},
          "execution_count": 60
        }
      ]
    },
    {
      "cell_type": "code",
      "source": [
        "image_train2 = image_train.reshape(-1,28*28)\n",
        "image_test2 = image_test.reshape(-1,28*28)"
      ],
      "metadata": {
        "id": "WilVyCW0yNVK"
      },
      "execution_count": 62,
      "outputs": []
    },
    {
      "cell_type": "code",
      "source": [
        "from sklearn import svm # 점들이 있고 세개의 클래스로 나누었을때 , 0과 1을 구분하는 선(벡터)를 찾는 것 : svm\n",
        "\n"
      ],
      "metadata": {
        "id": "xO2eaovYxQxc"
      },
      "execution_count": 63,
      "outputs": []
    },
    {
      "cell_type": "code",
      "source": [
        "svm = svm.SVC() # svm의 분류 모델 생성\n",
        "svm.fit(image_train2,label_train)"
      ],
      "metadata": {
        "colab": {
          "base_uri": "https://localhost:8080/"
        },
        "id": "aEL0Zh43x8zZ",
        "outputId": "54af2d4b-112d-46b3-bed1-fc0a75e56eb6"
      },
      "execution_count": 65,
      "outputs": [
        {
          "output_type": "execute_result",
          "data": {
            "text/plain": [
              "SVC()"
            ]
          },
          "metadata": {},
          "execution_count": 65
        }
      ]
    },
    {
      "cell_type": "code",
      "source": [
        "pval = svm.predict(image_test2)"
      ],
      "metadata": {
        "id": "-RI5wawNybaV"
      },
      "execution_count": 66,
      "outputs": []
    },
    {
      "cell_type": "code",
      "source": [
        "from sklearn import metrics\n",
        "score = metrics.accuracy_score(pval, label_test) # 맞춘 개수와 틀린개수중에서 몇퍼센트로 나왔는지 계산해주는 함수.\n",
        "print(score)"
      ],
      "metadata": {
        "colab": {
          "base_uri": "https://localhost:8080/"
        },
        "id": "zM5Ks-a302A2",
        "outputId": "4b373ace-cbab-43ab-eadb-aa1f839d7170"
      },
      "execution_count": 68,
      "outputs": [
        {
          "output_type": "stream",
          "name": "stdout",
          "text": [
            "0.9792\n"
          ]
        }
      ]
    },
    {
      "cell_type": "code",
      "source": [
        "from keras.utils import np_utils\n",
        "label_train2 = np_utils.to_categorical(label_train)\n",
        "label_test2 = np_utils.to_categorical(label_test) # 수치형 데이터를 범주형 데이터로 변환.\n",
        "print(label_train[0])\n",
        "print(label_train2[0])"
      ],
      "metadata": {
        "colab": {
          "base_uri": "https://localhost:8080/"
        },
        "id": "DjRbBiOL1MVu",
        "outputId": "0a88bd38-ba5a-4aa5-b260-63f5e410eda3"
      },
      "execution_count": 84,
      "outputs": [
        {
          "output_type": "stream",
          "name": "stdout",
          "text": [
            "5\n",
            "[0. 0. 0. 0. 0. 1. 0. 0. 0. 0.]\n"
          ]
        }
      ]
    },
    {
      "cell_type": "code",
      "source": [
        "scale_train = image_train/255.0\n",
        "scaled_test = image_test/255.0\n"
      ],
      "metadata": {
        "id": "0A2QYghH2KKj"
      },
      "execution_count": 71,
      "outputs": []
    },
    {
      "cell_type": "code",
      "source": [
        "from keras import layers,models\n",
        "model = models.Sequential()\n",
        "model.add(layers.Dense(100,activation='relu',input_shape=(784,)))\n",
        "#model.add(layers.Dense(28,activation='relu'))\n",
        "model.add(layers.Dense(10,activation='softmax'))\n",
        "model.compile(loss=keras.losses.categorical_crossentropy,metrics=['accuracy'])\n",
        "history = model.fit(image_train2,label_train2,epochs=100)"
      ],
      "metadata": {
        "id": "QpS31LaT2o1s"
      },
      "execution_count": null,
      "outputs": []
    },
    {
      "cell_type": "code",
      "source": [
        "score = model.evaluate(image_test2,label_test2)\n",
        "print(score)"
      ],
      "metadata": {
        "colab": {
          "base_uri": "https://localhost:8080/"
        },
        "id": "_LWiWv5x3J-5",
        "outputId": "63135769-761c-44fb-bf07-ebbaa9327054"
      },
      "execution_count": 85,
      "outputs": [
        {
          "output_type": "stream",
          "name": "stdout",
          "text": [
            "313/313 [==============================] - 1s 2ms/step - loss: 1.5679 - accuracy: 0.7331\n",
            "[1.5678980350494385, 0.7330999970436096]\n"
          ]
        }
      ]
    },
    {
      "cell_type": "code",
      "source": [
        ""
      ],
      "metadata": {
        "id": "gmE2Lct04-VQ"
      },
      "execution_count": null,
      "outputs": []
    }
  ]
}