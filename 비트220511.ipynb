{
  "nbformat": 4,
  "nbformat_minor": 0,
  "metadata": {
    "colab": {
      "name": "비트220511.ipynb",
      "provenance": [],
      "include_colab_link": true
    },
    "kernelspec": {
      "name": "python3",
      "display_name": "Python 3"
    },
    "language_info": {
      "name": "python"
    }
  },
  "cells": [
    {
      "cell_type": "markdown",
      "metadata": {
        "id": "view-in-github",
        "colab_type": "text"
      },
      "source": [
        "<a href=\"https://colab.research.google.com/github/realvoice98/bigdata-use-of-python/blob/main/%EB%B9%84%ED%8A%B8220511.ipynb\" target=\"_parent\"><img src=\"https://colab.research.google.com/assets/colab-badge.svg\" alt=\"Open In Colab\"/></a>"
      ]
    },
    {
      "cell_type": "markdown",
      "source": [
        "# plot\n"
      ],
      "metadata": {
        "id": "8LkqTJz4cb26"
      }
    },
    {
      "cell_type": "code",
      "source": [
        "print('1')"
      ],
      "metadata": {
        "colab": {
          "base_uri": "https://localhost:8080/"
        },
        "id": "TnYsnAT7zNTl",
        "outputId": "1970bc86-46ca-44ca-978b-5a4dc92cb873"
      },
      "execution_count": null,
      "outputs": [
        {
          "output_type": "stream",
          "name": "stdout",
          "text": [
            "1\n"
          ]
        }
      ]
    },
    {
      "cell_type": "code",
      "source": [
        "import matplotlib.pyplot as plt"
      ],
      "metadata": {
        "id": "fJ7rvgLFyUE2"
      },
      "execution_count": null,
      "outputs": []
    },
    {
      "cell_type": "code",
      "source": [
        "plt.figure(figsize=(4,3))\n",
        "plt.plot([1,2,9,10],[4,2,3,6]) # x값과 y값은 같아야한다\n",
        "plt.title('x and y values')\n",
        "plt.show()"
      ],
      "metadata": {
        "colab": {
          "base_uri": "https://localhost:8080/",
          "height": 227
        },
        "id": "GJ8PyvRLcn_v",
        "outputId": "777990b4-1629-4357-f45a-d04bf431e7a0"
      },
      "execution_count": null,
      "outputs": [
        {
          "output_type": "display_data",
          "data": {
            "text/plain": [
              "<Figure size 288x216 with 1 Axes>"
            ],
            "image/png": "[encoded data removed]"
          },
          "metadata": {
            "needs_background": "light"
          }
        }
      ]
    },
    {
      "cell_type": "markdown",
      "source": [
        "fmt = '[marker][line][color]'\n",
        "\n",
        "marker 정의 위치에 표시할 도형 \n",
        "\n",
        "line 점과 점 사이의 연결 선 형태\n",
        "\n",
        "color 색상 "
      ],
      "metadata": {
        "id": "7GmPANVyfazH"
      }
    },
    {
      "cell_type": "code",
      "source": [
        "plt.figure(figsize=(4,3))\n",
        "plt.plot([1,2],[1,1],'.',label='1 .')\n",
        "plt.plot([1,2],[2,2],'o',label='2 o')\n",
        "plt.plot([1,2],[3,3],'*',label='3 *')\n",
        "plt.plot([1,2],[4,4],':',label='4 :') \n",
        "plt.title('marker')\n",
        "plt.show()"
      ],
      "metadata": {
        "colab": {
          "base_uri": "https://localhost:8080/",
          "height": 227
        },
        "id": "EUMDK6HifJgU",
        "outputId": "539f4d92-e5ca-46a6-d189-576b93fa78d7"
      },
      "execution_count": null,
      "outputs": [
        {
          "output_type": "display_data",
          "data": {
            "text/plain": [
              "<Figure size 288x216 with 1 Axes>"
            ],
            "image/png": "[encoded data removed]"
          },
          "metadata": {
            "needs_background": "light"
          }
        }
      ]
    },
    {
      "cell_type": "code",
      "source": [
        "plt.figure(figsize=(4,3))\n",
        "plt.plot([1,2],[1,1],'.-.r',label='1 .')\n",
        "plt.plot([1,2],[2,2],'o-.b',label='2 o')\n",
        "plt.plot([1,2],[3,3],'*-.m',label='3 *')\n",
        "plt.plot([1,2],[4,4],'+-',label='4 :') \n",
        "plt.title('marker and line style')\n",
        "plt.legend()\n",
        "plt.show()"
      ],
      "metadata": {
        "colab": {
          "base_uri": "https://localhost:8080/",
          "height": 227
        },
        "id": "3U_VT1SugNer",
        "outputId": "0660f056-e8dc-4223-b1d5-20459f7a8728"
      },
      "execution_count": null,
      "outputs": [
        {
          "output_type": "display_data",
          "data": {
            "text/plain": [
              "<Figure size 288x216 with 1 Axes>"
            ],
            "image/png": "[encoded data removed]"
          },
          "metadata": {
            "needs_background": "light"
          }
        }
      ]
    },
    {
      "cell_type": "code",
      "source": [
        "plt.figure(figsize=(4,3))\n",
        "plt.plot([1,2],[1,1],'.-',color = 'purple',label='1 .-')\n",
        "plt.plot([1,2],[2,2],'o--',color = 'blue',label='2 o--')\n",
        "plt.plot([1,2],[3,3],'*-.',color = 'yellow',label='3 *-.')\n",
        "plt.plot([1,2],[4,4],'+-.',color = '#7F7F00',label='4 +-') \n",
        "plt.title('use color option')\n",
        "plt.legend()\n",
        "plt.show()"
      ],
      "metadata": {
        "colab": {
          "base_uri": "https://localhost:8080/",
          "height": 227
        },
        "id": "qB1v4j0Jgk0I",
        "outputId": "0baa8c21-f1cb-45ac-86eb-21ca0821799a"
      },
      "execution_count": null,
      "outputs": [
        {
          "output_type": "display_data",
          "data": {
            "text/plain": [
              "<Figure size 288x216 with 1 Axes>"
            ],
            "image/png": "[encoded data removed]"
          },
          "metadata": {
            "needs_background": "light"
          }
        }
      ]
    },
    {
      "cell_type": "code",
      "source": [
        "#plt.figure(figsize=(3,3))\n",
        "xs = [x/10 for x in range(-50,50)] #-5~5 step:0\n",
        "ys = [2*x**2+3 for x in xs] #y = 2x^2+3\n",
        "ys2 = [2*x+1 for x in xs] # y = 2x+1\n",
        "ys3 = [2*x**2+1 for x in xs] # y = 2x^2+1\n",
        "plt.plot(xs,ys,'.',label='y = 2xx+3')\n",
        "plt.plot(xs,ys2,'-',label='y = 2x+1')\n",
        "plt.plot(xs,ys3,'--',label='y = 2x^2+1')\n",
        "plt.xlim(-50,50)\n",
        "plt.ylim(0,50)\n",
        "plt.vlines(0,0,50)\n",
        "#plt.legend(loc='lower left')\n",
        "plt.show()"
      ],
      "metadata": {
        "colab": {
          "base_uri": "https://localhost:8080/",
          "height": 269
        },
        "id": "lyZdDBlZphOU",
        "outputId": "74de23c3-91f4-414d-94e8-e7f2361351a7"
      },
      "execution_count": null,
      "outputs": [
        {
          "output_type": "display_data",
          "data": {
            "text/plain": [
              "<Figure size 432x288 with 1 Axes>"
            ],
            "image/png": "[encoded data removed]"
          },
          "metadata": {
            "needs_background": "light"
          }
        }
      ]
    },
    {
      "cell_type": "code",
      "source": [
        "plt.plot(xs,ys)  #디폴트 figure (figure(1))에 그려줌\n",
        "plt.figure(2) #이번에 그림을 그릴 figure를 선택\n",
        "plt.plot(xs,ys2)\n",
        "plt.figure(3)\n",
        "plt.plot(xs,ys3)\n",
        "plt.show()"
      ],
      "metadata": {
        "colab": {
          "base_uri": "https://localhost:8080/",
          "height": 761
        },
        "id": "YmcZJ0HOswdi",
        "outputId": "87fd849b-5c8c-4333-df90-328baa376311"
      },
      "execution_count": null,
      "outputs": [
        {
          "output_type": "display_data",
          "data": {
            "text/plain": [
              "<Figure size 432x288 with 1 Axes>"
            ],
            "image/png": "[encoded data removed]"
          },
          "metadata": {
            "needs_background": "light"
          }
        },
        {
          "output_type": "display_data",
          "data": {
            "text/plain": [
              "<Figure size 432x288 with 1 Axes>"
            ],
            "image/png": "[encoded data removed]"
          },
          "metadata": {
            "needs_background": "light"
          }
        },
        {
          "output_type": "display_data",
          "data": {
            "text/plain": [
              "<Figure size 432x288 with 1 Axes>"
            ],
            "image/png": "[encoded data removed]"
          },
          "metadata": {
            "needs_background": "light"
          }
        }
      ]
    },
    {
      "cell_type": "code",
      "source": [
        "ax = plt.subplot(2,2,1)\n",
        "ax.set_title(\"um\")\n",
        "\n",
        "plt.plot(xs,ys)\n",
        "plt.subplot(2,2,2)\n",
        "plt.plot(xs,ys2)\n",
        "plt.subplot(2,2,3)\n",
        "plt.plot(xs,ys3)\n",
        "plt.subplot(2,2,4)\n",
        "plt.show()"
      ],
      "metadata": {
        "colab": {
          "base_uri": "https://localhost:8080/",
          "height": 281
        },
        "id": "mSZG0rnCtll6",
        "outputId": "d1153d25-6b92-4e02-948c-ebe2a030692c"
      },
      "execution_count": null,
      "outputs": [
        {
          "output_type": "display_data",
          "data": {
            "text/plain": [
              "<Figure size 432x288 with 4 Axes>"
            ],
            "image/png": "[encoded data removed]"
          },
          "metadata": {
            "needs_background": "light"
          }
        }
      ]
    },
    {
      "cell_type": "markdown",
      "source": [
        "# scatter _ 산전도"
      ],
      "metadata": {
        "id": "dEAKyXdkizwH"
      }
    },
    {
      "cell_type": "code",
      "source": [
        "plt.figure(figsize=(4,3))\n",
        "plt.scatter([1,2],[1,1],label='first')\n",
        "plt.scatter([1,2],[4,4],[1,8],label='second') \n",
        "plt.title('scatter')\n",
        "plt.legend()\n",
        "plt.show()"
      ],
      "metadata": {
        "colab": {
          "base_uri": "https://localhost:8080/",
          "height": 227
        },
        "id": "AV2csxEsh_tl",
        "outputId": "6152c461-1e43-4b2a-9922-02104d2d1891"
      },
      "execution_count": null,
      "outputs": [
        {
          "output_type": "display_data",
          "data": {
            "text/plain": [
              "<Figure size 288x216 with 1 Axes>"
            ],
            "image/png": "[encoded data removed]"
          },
          "metadata": {
            "needs_background": "light"
          }
        }
      ]
    },
    {
      "cell_type": "code",
      "source": [
        "import pandas as pd\n",
        "temp = [25.2, 35.7,45.2]\n",
        "sales = [1000,2000,2500]\n",
        "dict_data = {\"temp\":temp, \"sales\":sales}\n",
        "df = pd.DataFrame(dict_data,columns=[\"temp\",\"sales\"])\n",
        "df"
      ],
      "metadata": {
        "colab": {
          "base_uri": "https://localhost:8080/",
          "height": 143
        },
        "id": "jEAV3pHijR7P",
        "outputId": "4c3e2722-185b-4c45-d4b7-31057a65476d"
      },
      "execution_count": null,
      "outputs": [
        {
          "output_type": "execute_result",
          "data": {
            "text/plain": [
              "   temp  sales\n",
              "0  25.2   1000\n",
              "1  35.7   2000\n",
              "2  45.2   2500"
            ],
            "text/html": [
              "\n",
              "  <div id=\"df-25fbfc6c-8714-40cd-bde3-6581dd97c222\">\n",
              "    <div class=\"colab-df-container\">\n",
              "      <div>\n",
              "<style scoped>\n",
              "    .dataframe tbody tr th:only-of-type {\n",
              "        vertical-align: middle;\n",
              "    }\n",
              "\n",
              "    .dataframe tbody tr th {\n",
              "        vertical-align: top;\n",
              "    }\n",
              "\n",
              "    .dataframe thead th {\n",
              "        text-align: right;\n",
              "    }\n",
              "</style>\n",
              "<table border=\"1\" class=\"dataframe\">\n",
              "  <thead>\n",
              "    <tr style=\"text-align: right;\">\n",
              "      <th></th>\n",
              "      <th>temp</th>\n",
              "      <th>sales</th>\n",
              "    </tr>\n",
              "  </thead>\n",
              "  <tbody>\n",
              "    <tr>\n",
              "      <th>0</th>\n",
              "      <td>25.2</td>\n",
              "      <td>1000</td>\n",
              "    </tr>\n",
              "    <tr>\n",
              "      <th>1</th>\n",
              "      <td>35.7</td>\n",
              "      <td>2000</td>\n",
              "    </tr>\n",
              "    <tr>\n",
              "      <th>2</th>\n",
              "      <td>45.2</td>\n",
              "      <td>2500</td>\n",
              "    </tr>\n",
              "  </tbody>\n",
              "</table>\n",
              "</div>\n",
              "      <button class=\"colab-df-convert\" onclick=\"convertToInteractive('df-25fbfc6c-8714-40cd-bde3-6581dd97c222')\"\n",
              "              title=\"Convert this dataframe to an interactive table.\"\n",
              "              style=\"display:none;\">\n",
              "        \n",
              "  <svg xmlns=\"http://www.w3.org/2000/svg\" height=\"24px\"viewBox=\"0 0 24 24\"\n",
              "       width=\"24px\">\n",
              "    <path d=\"M0 0h24v24H0V0z\" fill=\"none\"/>\n",
              "    <path d=\"M18.56 5.44l.94 2.06.94-2.06 2.06-.94-2.06-.94-.94-2.06-.94 2.06-2.06.94zm-11 1L8.5 8.5l.94-2.06 2.06-.94-2.06-.94L8.5 2.5l-.94 2.06-2.06.94zm10 10l.94 2.06.94-2.06 2.06-.94-2.06-.94-.94-2.06-.94 2.06-2.06.94z\"/><path d=\"M17.41 7.96l-1.37-1.37c-.4-.4-.92-.59-1.43-.59-.52 0-1.04.2-1.43.59L10.3 9.45l-7.72 7.72c-.78.78-.78 2.05 0 2.83L4 21.41c.39.39.9.59 1.41.59.51 0 1.02-.2 1.41-.59l7.78-7.78 2.81-2.81c.8-.78.8-2.07 0-2.86zM5.41 20L4 18.59l7.72-7.72 1.47 1.35L5.41 20z\"/>\n",
              "  </svg>\n",
              "      </button>\n",
              "      \n",
              "  <style>\n",
              "    .colab-df-container {\n",
              "      display:flex;\n",
              "      flex-wrap:wrap;\n",
              "      gap: 12px;\n",
              "    }\n",
              "\n",
              "    .colab-df-convert {\n",
              "      background-color: #E8F0FE;\n",
              "      border: none;\n",
              "      border-radius: 50%;\n",
              "      cursor: pointer;\n",
              "      display: none;\n",
              "      fill: #1967D2;\n",
              "      height: 32px;\n",
              "      padding: 0 0 0 0;\n",
              "      width: 32px;\n",
              "    }\n",
              "\n",
              "    .colab-df-convert:hover {\n",
              "      background-color: #E2EBFA;\n",
              "      box-shadow: 0px 1px 2px rgba(60, 64, 67, 0.3), 0px 1px 3px 1px rgba(60, 64, 67, 0.15);\n",
              "      fill: #174EA6;\n",
              "    }\n",
              "\n",
              "    [theme=dark] .colab-df-convert {\n",
              "      background-color: #3B4455;\n",
              "      fill: #D2E3FC;\n",
              "    }\n",
              "\n",
              "    [theme=dark] .colab-df-convert:hover {\n",
              "      background-color: #434B5C;\n",
              "      box-shadow: 0px 1px 3px 1px rgba(0, 0, 0, 0.15);\n",
              "      filter: drop-shadow(0px 1px 2px rgba(0, 0, 0, 0.3));\n",
              "      fill: #FFFFFF;\n",
              "    }\n",
              "  </style>\n",
              "\n",
              "      <script>\n",
              "        const buttonEl =\n",
              "          document.querySelector('#df-25fbfc6c-8714-40cd-bde3-6581dd97c222 button.colab-df-convert');\n",
              "        buttonEl.style.display =\n",
              "          google.colab.kernel.accessAllowed ? 'block' : 'none';\n",
              "\n",
              "        async function convertToInteractive(key) {\n",
              "          const element = document.querySelector('#df-25fbfc6c-8714-40cd-bde3-6581dd97c222');\n",
              "          const dataTable =\n",
              "            await google.colab.kernel.invokeFunction('convertToInteractive',\n",
              "                                                     [key], {});\n",
              "          if (!dataTable) return;\n",
              "\n",
              "          const docLinkHtml = 'Like what you see? Visit the ' +\n",
              "            '<a target=\"_blank\" href=https://colab.research.google.com/notebooks/data_table.ipynb>data table notebook</a>'\n",
              "            + ' to learn more about interactive tables.';\n",
              "          element.innerHTML = '';\n",
              "          dataTable['output_type'] = 'display_data';\n",
              "          await google.colab.output.renderOutput(dataTable, element);\n",
              "          const docLink = document.createElement('div');\n",
              "          docLink.innerHTML = docLinkHtml;\n",
              "          element.appendChild(docLink);\n",
              "        }\n",
              "      </script>\n",
              "    </div>\n",
              "  </div>\n",
              "  "
            ]
          },
          "metadata": {},
          "execution_count": 36
        }
      ]
    },
    {
      "cell_type": "code",
      "source": [
        "df.plot.scatter(x='temp',y='sales')\n",
        "plt.show()"
      ],
      "metadata": {
        "colab": {
          "base_uri": "https://localhost:8080/",
          "height": 279
        },
        "id": "dhroPfp1kJhD",
        "outputId": "c902753c-9ccb-421b-e5b1-3145010af958"
      },
      "execution_count": null,
      "outputs": [
        {
          "output_type": "display_data",
          "data": {
            "text/plain": [
              "<Figure size 432x288 with 1 Axes>"
            ],
            "image/png": "[encoded data removed]"
          },
          "metadata": {
            "needs_background": "light"
          }
        }
      ]
    },
    {
      "cell_type": "markdown",
      "source": [
        "# bar"
      ],
      "metadata": {
        "id": "28j2KFSHvBYh"
      }
    },
    {
      "cell_type": "code",
      "source": [
        "plt.figure(figsize=(3,3))\n",
        "plt.bar(['a','b','c'],[80,90,75]) \n",
        "plt.show()"
      ],
      "metadata": {
        "colab": {
          "base_uri": "https://localhost:8080/",
          "height": 211
        },
        "id": "JUT6pFrvkcjm",
        "outputId": "2dd721f9-1648-454e-d3c4-c4cffb94fa9c"
      },
      "execution_count": null,
      "outputs": [
        {
          "output_type": "display_data",
          "data": {
            "text/plain": [
              "<Figure size 216x216 with 1 Axes>"
            ],
            "image/png": "[encoded data removed]"
          },
          "metadata": {
            "needs_background": "light"
          }
        }
      ]
    },
    {
      "cell_type": "code",
      "source": [
        "!sudo apt-get install -y fonts-nanum\n",
        "!sudo fc-cache -fv\n",
        "!rm ~/ .cache/matplotlib -rf"
      ],
      "metadata": {
        "colab": {
          "base_uri": "https://localhost:8080/"
        },
        "id": "i2v1jrEgwarQ",
        "outputId": "3934a24d-7956-470b-956a-47567b3fecef"
      },
      "execution_count": null,
      "outputs": [
        {
          "output_type": "stream",
          "name": "stdout",
          "text": [
            "Reading package lists... Done\n",
            "Building dependency tree       \n",
            "Reading state information... Done\n",
            "The following packages were automatically installed and are no longer required:\n",
            "  libnvidia-common-460 nsight-compute-2020.2.0\n",
            "Use 'sudo apt autoremove' to remove them.\n",
            "The following NEW packages will be installed:\n",
            "  fonts-nanum\n",
            "0 upgraded, 1 newly installed, 0 to remove and 42 not upgraded.\n",
            "Need to get 9,604 kB of archives.\n",
            "After this operation, 29.5 MB of additional disk space will be used.\n",
            "Get:1 http://archive.ubuntu.com/ubuntu bionic/universe amd64 fonts-nanum all 20170925-1 [9,604 kB]\n",
            "Fetched 9,604 kB in 1s (9,857 kB/s)\n",
            "debconf: unable to initialize frontend: Dialog\n",
            "debconf: (No usable dialog-like program is installed, so the dialog based frontend cannot be used. at /usr/share/perl5/Debconf/FrontEnd/Dialog.pm line 76, <> line 1.)\n",
            "debconf: falling back to frontend: Readline\n",
            "debconf: unable to initialize frontend: Readline\n",
            "debconf: (This frontend requires a controlling tty.)\n",
            "debconf: falling back to frontend: Teletype\n",
            "dpkg-preconfigure: unable to re-open stdin: \n",
            "Selecting previously unselected package fonts-nanum.\n",
            "(Reading database ... 155203 files and directories currently installed.)\n",
            "Preparing to unpack .../fonts-nanum_20170925-1_all.deb ...\n",
            "Unpacking fonts-nanum (20170925-1) ...\n",
            "Setting up fonts-nanum (20170925-1) ...\n",
            "Processing triggers for fontconfig (2.12.6-0ubuntu2) ...\n",
            "/usr/share/fonts: caching, new cache contents: 0 fonts, 1 dirs\n",
            "/usr/share/fonts/truetype: caching, new cache contents: 0 fonts, 3 dirs\n",
            "/usr/share/fonts/truetype/humor-sans: caching, new cache contents: 1 fonts, 0 dirs\n",
            "/usr/share/fonts/truetype/liberation: caching, new cache contents: 16 fonts, 0 dirs\n",
            "/usr/share/fonts/truetype/nanum: caching, new cache contents: 10 fonts, 0 dirs\n",
            "/usr/local/share/fonts: caching, new cache contents: 0 fonts, 0 dirs\n",
            "/root/.local/share/fonts: skipping, no such directory\n",
            "/root/.fonts: skipping, no such directory\n",
            "/var/cache/fontconfig: cleaning cache directory\n",
            "/root/.cache/fontconfig: not cleaning non-existent cache directory\n",
            "/root/.fontconfig: not cleaning non-existent cache directory\n",
            "fc-cache: succeeded\n"
          ]
        }
      ]
    },
    {
      "cell_type": "code",
      "source": [
        "plt.rc('font',family='NanumBarunGothic')\n",
        "plt.title('테스트')\n",
        "plt.show()"
      ],
      "metadata": {
        "colab": {
          "base_uri": "https://localhost:8080/",
          "height": 558
        },
        "id": "oIUCkJraxQW3",
        "outputId": "82aaac6d-909b-446e-b728-22ab3bfa1b47"
      },
      "execution_count": null,
      "outputs": [
        {
          "output_type": "stream",
          "name": "stderr",
          "text": [
            "findfont: Font family ['NanumBarunGothic'] not found. Falling back to DejaVu Sans.\n",
            "/usr/local/lib/python3.7/dist-packages/matplotlib/backends/backend_agg.py:214: RuntimeWarning: Glyph 53580 missing from current font.\n",
            "  font.set_text(s, 0.0, flags=flags)\n",
            "/usr/local/lib/python3.7/dist-packages/matplotlib/backends/backend_agg.py:214: RuntimeWarning: Glyph 49828 missing from current font.\n",
            "  font.set_text(s, 0.0, flags=flags)\n",
            "/usr/local/lib/python3.7/dist-packages/matplotlib/backends/backend_agg.py:214: RuntimeWarning: Glyph 53944 missing from current font.\n",
            "  font.set_text(s, 0.0, flags=flags)\n",
            "findfont: Font family ['NanumBarunGothic'] not found. Falling back to DejaVu Sans.\n",
            "/usr/local/lib/python3.7/dist-packages/matplotlib/backends/backend_agg.py:183: RuntimeWarning: Glyph 53580 missing from current font.\n",
            "  font.set_text(s, 0, flags=flags)\n",
            "/usr/local/lib/python3.7/dist-packages/matplotlib/backends/backend_agg.py:183: RuntimeWarning: Glyph 49828 missing from current font.\n",
            "  font.set_text(s, 0, flags=flags)\n",
            "/usr/local/lib/python3.7/dist-packages/matplotlib/backends/backend_agg.py:183: RuntimeWarning: Glyph 53944 missing from current font.\n",
            "  font.set_text(s, 0, flags=flags)\n"
          ]
        },
        {
          "output_type": "display_data",
          "data": {
            "text/plain": [
              "<Figure size 432x288 with 1 Axes>"
            ],
            "image/png": "[encoded data removed]"
          },
          "metadata": {
            "needs_background": "light"
          }
        }
      ]
    },
    {
      "cell_type": "code",
      "source": [
        "plt.figure(figsize=(7,5))\n",
        "city =['Seoul','Incheon','Daejeon','Daegu','Ulsan','Busan','Gwangju']\n",
        "lat = [37.56, 37.45, 36.35, 35.87, 35.53, 35.18, 35.16]\n",
        "lon = [126.97, 126.70, 127.38,128.60,129.31,129.07,126.85]\n",
        "pop_den = [16154,2751,2839,2790,1099,4454,2995]\n",
        "plt.bar(city,pop_den)\n",
        "plt.show()"
      ],
      "metadata": {
        "colab": {
          "base_uri": "https://localhost:8080/",
          "height": 320
        },
        "id": "54L6cKdpvXW5",
        "outputId": "266064de-a046-4fdb-f354-6d4c97a93e08"
      },
      "execution_count": null,
      "outputs": [
        {
          "output_type": "display_data",
          "data": {
            "text/plain": [
              "<Figure size 504x360 with 1 Axes>"
            ],
            "image/png": "[encoded data removed]"
          },
          "metadata": {
            "needs_background": "light"
          }
        }
      ]
    },
    {
      "cell_type": "code",
      "source": [
        "ids = ['m01','m02','m03','m04']\n",
        "ex=[27,35,40,33]\n",
        "plt.bar(ids,ex)\n",
        "plt.grid(True)\n",
        "plt.show()"
      ],
      "metadata": {
        "id": "UWuFkKgpv5zs",
        "colab": {
          "base_uri": "https://localhost:8080/",
          "height": 265
        },
        "outputId": "2ad40ebf-fbca-4987-9f49-5be8ef0d594c"
      },
      "execution_count": null,
      "outputs": [
        {
          "output_type": "display_data",
          "data": {
            "text/plain": [
              "<Figure size 432x288 with 1 Axes>"
            ],
            "image/png": "[encoded data removed]"
          },
          "metadata": {
            "needs_background": "light"
          }
        }
      ]
    },
    {
      "cell_type": "code",
      "source": [
        "import numpy as np\n",
        "ids = ['m01','m02','m03','m04']\n",
        "ex=[27,35,40,33]\n",
        "nids = np.array([1,2,3,4])\n",
        "cids = nids.astype(str) #x 항목을 문자열로 캐스팅하여 사용하세요.\n",
        "plt.bar(cids,ex,color=['r','g','b','m'],linewidth=2,edgecolor=['b','m','r','y']) #x 값의 항목이 숫자형식일 때\n",
        "#plt.grid(True)\n",
        "plt.show()"
      ],
      "metadata": {
        "colab": {
          "base_uri": "https://localhost:8080/",
          "height": 265
        },
        "id": "oMsSlFc13x2V",
        "outputId": "4d75dee2-c33d-4e8e-eec9-7c5e2679d98b"
      },
      "execution_count": null,
      "outputs": [
        {
          "output_type": "display_data",
          "data": {
            "text/plain": [
              "<Figure size 432x288 with 1 Axes>"
            ],
            "image/png": "[encoded data removed]"
          },
          "metadata": {
            "needs_background": "light"
          }
        }
      ]
    },
    {
      "cell_type": "code",
      "source": [
        "import numpy as np\n",
        "ids = ['m01','m02','m03','m04']\n",
        "ex=[27,35,40,33]\n",
        "nids = np.array([1,2,3,4])\n",
        "cids = nids.astype(str) #x 항목을 문자열로 캐스팅하여 사용하세요.\n",
        "plt.bar(cids,ex,color=['r','g','b','m'],width=0.5) #x 값의 항목이 숫자형식일 때\n",
        "#plt.grid(True)\n",
        "plt.show()"
      ],
      "metadata": {
        "colab": {
          "base_uri": "https://localhost:8080/",
          "height": 265
        },
        "id": "DTVh09tw4RUB",
        "outputId": "cbd28a10-6b6b-44d7-d85d-9aed208c6ce8"
      },
      "execution_count": null,
      "outputs": [
        {
          "output_type": "display_data",
          "data": {
            "text/plain": [
              "<Figure size 432x288 with 1 Axes>"
            ],
            "image/png": "[encoded data removed]"
          },
          "metadata": {
            "needs_background": "light"
          }
        }
      ]
    },
    {
      "cell_type": "code",
      "source": [
        "import numpy as np\n",
        "ids = ['m01','m02','m03','m04']\n",
        "ex=[27,35,40,33] #운동 전\n",
        "af=[35,40,45,38] #운동 후\n",
        "bw=0.4\n",
        "nids = np.array([1,2,3,4])\n",
        "cids = nids.astype(str) #x 항목을 문자열로 캐스팅하여 사용하세요.\n",
        "plt.bar(nids,ex,color='m',width=bw,align='edge',label = 'before') #x 값의 항목이 숫자형식일 때\n",
        "plt.bar(nids+bw,af,color='b',width=bw,align='edge',label = 'after')\n",
        "plt.xticks(nids+bw,nids)\n",
        "plt.legend()\n",
        "plt.show()"
      ],
      "metadata": {
        "colab": {
          "base_uri": "https://localhost:8080/",
          "height": 265
        },
        "id": "jhQLL0_25nvK",
        "outputId": "374a7e1e-a7f3-4cb6-c4e5-a077db2727e9"
      },
      "execution_count": null,
      "outputs": [
        {
          "output_type": "display_data",
          "data": {
            "text/plain": [
              "<Figure size 432x288 with 1 Axes>"
            ],
            "image/png": "[encoded data removed]"
          },
          "metadata": {
            "needs_background": "light"
          }
        }
      ]
    },
    {
      "cell_type": "code",
      "source": [
        "plt.barh([1,2,3],[10,20,25])"
      ],
      "metadata": {
        "colab": {
          "base_uri": "https://localhost:8080/",
          "height": 285
        },
        "id": "2KBCp1qT5_M8",
        "outputId": "e4f89696-af46-4351-e860-f3b32762b8ce"
      },
      "execution_count": null,
      "outputs": [
        {
          "output_type": "execute_result",
          "data": {
            "text/plain": [
              "<BarContainer object of 3 artists>"
            ]
          },
          "metadata": {},
          "execution_count": 30
        },
        {
          "output_type": "display_data",
          "data": {
            "text/plain": [
              "<Figure size 432x288 with 1 Axes>"
            ],
            "image/png": "[encoded data removed]"
          },
          "metadata": {
            "needs_background": "light"
          }
        }
      ]
    },
    {
      "cell_type": "code",
      "source": [
        "ids = ['m01','m02','m03','m04']\n",
        "ex=[27,35,40,33]\n",
        "nids = np.array([1,2,3,4])\n",
        "cids = nids.astype(str) #x 항목을 문자열로 캐스팅하여 사용하세요.\n",
        "plt.bar(cids,ex,color=['r','g','b','m'],linewidth=2,edgecolor=['b','m','r','y'],yerr=[1,2,3,2]) #x 값의 항목이 숫자형식일 때\n",
        "#plt.grid(True)\n",
        "plt.show()"
      ],
      "metadata": {
        "colab": {
          "base_uri": "https://localhost:8080/",
          "height": 265
        },
        "id": "Iu_q1lrC9Dnc",
        "outputId": "4671a6fd-8763-4557-90a1-286293b6495b"
      },
      "execution_count": null,
      "outputs": [
        {
          "output_type": "display_data",
          "data": {
            "text/plain": [
              "<Figure size 432x288 with 1 Axes>"
            ],
            "image/png": "[encoded data removed]"
          },
          "metadata": {
            "needs_background": "light"
          }
        }
      ]
    },
    {
      "cell_type": "code",
      "source": [
        "ex_xs = [[2],[4],[7],[1],[9],[6]]\n",
        "ex_ys = [8,11,24,5,30,20]\n",
        "plt.figure(figsize=(4,4))\n",
        "plt.plot(ex_xs[:],ex_ys,'o',label='example data')\n",
        "plt.legend()\n",
        "plt.xlim(0,30)\n",
        "plt.ylim(0,30)\n",
        "plt.show()"
      ],
      "metadata": {
        "colab": {
          "base_uri": "https://localhost:8080/",
          "height": 269
        },
        "id": "rshDlV-B9_mg",
        "outputId": "b9b027cd-14b3-4694-90c5-a6e471eb5be2"
      },
      "execution_count": null,
      "outputs": [
        {
          "output_type": "display_data",
          "data": {
            "text/plain": [
              "<Figure size 288x288 with 1 Axes>"
            ],
            "image/png": "[encoded data removed]"
          },
          "metadata": {
            "needs_background": "light"
          }
        }
      ]
    },
    {
      "cell_type": "code",
      "source": [
        "ex_xs = [[2],[4],[7],[1],[9],[6]]\n",
        "ex_ys = [8,11,24,5,30,20]\n",
        "plt.figure(figsize=(4,4))\n",
        "plt.plot(ex_xs[:],ex_ys,'o',label='example data')\n",
        "plt.plot([0,30],[2*0+2,2*30+2],label='y = 2x+3')\n",
        "plt.plot([0,30],[3*0+2,3*30+2],label='y = 3x+3')\n",
        "plt.plot([0,30],[4*0+2,4*30+2],label='y = 4x+3')\n",
        "plt.legend()\n",
        "plt.xlim(0,30)\n",
        "plt.ylim(0,30)\n",
        "plt.show()"
      ],
      "metadata": {
        "colab": {
          "base_uri": "https://localhost:8080/",
          "height": 269
        },
        "id": "SZlkOsBaTgue",
        "outputId": "8240404f-fdd7-47e3-e64a-b2f96a94da86"
      },
      "execution_count": null,
      "outputs": [
        {
          "output_type": "display_data",
          "data": {
            "text/plain": [
              "<Figure size 288x288 with 1 Axes>"
            ],
            "image/png": "[encoded data removed]"
          },
          "metadata": {
            "needs_background": "light"
          }
        }
      ]
    },
    {
      "cell_type": "code",
      "source": [
        "ex_xs = [[2],[4],[7],[1],[9],[6]]\n",
        "ex_ys = [8,11,24,5,30,20]\n",
        "plt.figure(figsize=(4,4))\n",
        "plt.plot(ex_xs[:],ex_ys,'o',label='example data')\n",
        "plt.plot([0,30],[2*0+2,2*30+2],label='y = 2x+3')\n",
        "plt.plot([0,30],[3*0+2,3*30+2],label='y = 3x+3')\n",
        "plt.plot([0,30],[4*0+2,4*30+2],label='y = 4x+3')\n",
        "plt.legend()\n",
        "plt.xlim(0,30)\n",
        "plt.ylim(0,30)\n",
        "plt.show()"
      ],
      "metadata": {
        "id": "G7UW1HWaUUpB"
      },
      "execution_count": null,
      "outputs": []
    },
    {
      "cell_type": "code",
      "source": [
        "import numpy as np"
      ],
      "metadata": {
        "id": "CPrqdl7oXKEE"
      },
      "execution_count": null,
      "outputs": []
    },
    {
      "cell_type": "code",
      "source": [
        "def mse(yp,y):\n",
        "  return np.mean(sum(yp-y)**2)"
      ],
      "metadata": {
        "id": "OQvUkFPdVuee"
      },
      "execution_count": null,
      "outputs": []
    },
    {
      "cell_type": "code",
      "source": [
        "b = 2\n",
        "mses = [] #mse를 보관할 컬렉션\n",
        "wpl = np.arange(-10,10,0.5) #조사할 기울기(-10에서 10까지 step:0.5)\n",
        "for wp in wpl: #기울기마다\n",
        "  yp = wp*np.array(ex_xs)+b\n",
        "  mses.append(mse(yp,ex_ys)) #해당 기울기에서 mse를 보관\n"
      ],
      "metadata": {
        "id": "iYK0YQ_HWAyd"
      },
      "execution_count": null,
      "outputs": []
    },
    {
      "cell_type": "code",
      "source": [
        "mi = np.array(mses).argmin()\n",
        "plt.plot(wpl,mses,'.')\n",
        "plt.plot(wpl[mi],mses[mi],'or')\n",
        "plt.show()"
      ],
      "metadata": {
        "colab": {
          "base_uri": "https://localhost:8080/",
          "height": 265
        },
        "id": "kpw2BcreXRdH",
        "outputId": "d1d9ed28-5860-408e-e98a-ceef649d17f9"
      },
      "execution_count": null,
      "outputs": [
        {
          "output_type": "display_data",
          "data": {
            "text/plain": [
              "<Figure size 432x288 with 1 Axes>"
            ],
            "image/png": "[encoded data removed]"
          },
          "metadata": {
            "needs_background": "light"
          }
        }
      ]
    },
    {
      "cell_type": "code",
      "source": [
        ""
      ],
      "metadata": {
        "id": "ef41CHHHXRT-"
      },
      "execution_count": null,
      "outputs": []
    },
    {
      "cell_type": "code",
      "source": [
        ""
      ],
      "metadata": {
        "id": "8L7Xa2lqXRQc"
      },
      "execution_count": null,
      "outputs": []
    },
    {
      "cell_type": "markdown",
      "source": [
        "# PIE"
      ],
      "metadata": {
        "id": "CJIEuTtlTCfC"
      }
    },
    {
      "cell_type": "code",
      "source": [
        "plt.pie([19,20,90,7],colors=['r','g','y','m'],startangle=90,counterclock=False)\n",
        "plt.show()"
      ],
      "metadata": {
        "colab": {
          "base_uri": "https://localhost:8080/",
          "height": 248
        },
        "id": "517C2nUBV22b",
        "outputId": "65ef58e0-51d3-45f3-c667-8e944343ee2e"
      },
      "execution_count": null,
      "outputs": [
        {
          "output_type": "display_data",
          "data": {
            "text/plain": [
              "<Figure size 432x288 with 1 Axes>"
            ],
            "image/png": "[encoded data removed]"
          },
          "metadata": {}
        }
      ]
    },
    {
      "cell_type": "markdown",
      "source": [
        "# hist\n",
        "matplotlib.pyplot.hist matplotlib.pyplot.hist(x, bins=None, range=None, density=False, weights=None, cumulative=False, bottom=None, histtype='bar', align='mid', orientation='vertical', rwidth=None, log=False, color=None, label=None, st..."
      ],
      "metadata": {
        "id": "tEedA3K8h3yB"
      }
    },
    {
      "cell_type": "code",
      "source": [
        "xs = [np.random.randint(1,7)for _ in range(1000)]\n",
        "b= plt.hist(xs,bins=[1,2,3,4,5,6,7])\n",
        "plt.show()\n",
        "b"
      ],
      "metadata": {
        "colab": {
          "base_uri": "https://localhost:8080/",
          "height": 320
        },
        "id": "RE-99GZNhHRc",
        "outputId": "e0621d39-8ade-40dd-dc5c-9b963c4bc2be"
      },
      "execution_count": null,
      "outputs": [
        {
          "output_type": "display_data",
          "data": {
            "text/plain": [
              "<Figure size 432x288 with 1 Axes>"
            ],
            "image/png": "[encoded data removed]"
          },
          "metadata": {
            "needs_background": "light"
          }
        },
        {
          "output_type": "execute_result",
          "data": {
            "text/plain": [
              "(array([154., 163., 164., 163., 166., 190.]),\n",
              " array([1, 2, 3, 4, 5, 6, 7]),\n",
              " <a list of 6 Patch objects>)"
            ]
          },
          "metadata": {},
          "execution_count": 69
        }
      ]
    },
    {
      "cell_type": "code",
      "source": [
        ""
      ],
      "metadata": {
        "id": "pUqQRzaYiQSp"
      },
      "execution_count": null,
      "outputs": []
    },
    {
      "cell_type": "markdown",
      "source": [
        ""
      ],
      "metadata": {
        "id": "q_g4V63Djd4j"
      }
    },
    {
      "cell_type": "markdown",
      "source": [
        "# 타이타닉csv 가져와서 시각화"
      ],
      "metadata": {
        "id": "gpWLmAVOjkiH"
      }
    },
    {
      "cell_type": "code",
      "source": [
        "import pandas as pd\n",
        "data = pd.read_csv('/train_titanic.csv')\n",
        "data"
      ],
      "metadata": {
        "colab": {
          "base_uri": "https://localhost:8080/",
          "height": 991
        },
        "id": "4-GhK9oBjm1X",
        "outputId": "83015b61-133e-4299-9de4-e28df2bc4405"
      },
      "execution_count": null,
      "outputs": [
        {
          "output_type": "execute_result",
          "data": {
            "text/plain": [
              "     PassengerId  Survived  Pclass  \\\n",
              "0              1         0       3   \n",
              "1              2         1       1   \n",
              "2              3         1       3   \n",
              "3              4         1       1   \n",
              "4              5         0       3   \n",
              "..           ...       ...     ...   \n",
              "886          887         0       2   \n",
              "887          888         1       1   \n",
              "888          889         0       3   \n",
              "889          890         1       1   \n",
              "890          891         0       3   \n",
              "\n",
              "                                                  Name     Sex   Age  SibSp  \\\n",
              "0                              Braund, Mr. Owen Harris    male  22.0      1   \n",
              "1    Cumings, Mrs. John Bradley (Florence Briggs Th...  female  38.0      1   \n",
              "2                               Heikkinen, Miss. Laina  female  26.0      0   \n",
              "3         Futrelle, Mrs. Jacques Heath (Lily May Peel)  female  35.0      1   \n",
              "4                             Allen, Mr. William Henry    male  35.0      0   \n",
              "..                                                 ...     ...   ...    ...   \n",
              "886                              Montvila, Rev. Juozas    male  27.0      0   \n",
              "887                       Graham, Miss. Margaret Edith  female  19.0      0   \n",
              "888           Johnston, Miss. Catherine Helen \"Carrie\"  female   NaN      1   \n",
              "889                              Behr, Mr. Karl Howell    male  26.0      0   \n",
              "890                                Dooley, Mr. Patrick    male  32.0      0   \n",
              "\n",
              "     Parch            Ticket     Fare Cabin Embarked  \n",
              "0        0         A/5 21171   7.2500   NaN        S  \n",
              "1        0          PC 17599  71.2833   C85        C  \n",
              "2        0  STON/O2. 3101282   7.9250   NaN        S  \n",
              "3        0            113803  53.1000  C123        S  \n",
              "4        0            373450   8.0500   NaN        S  \n",
              "..     ...               ...      ...   ...      ...  \n",
              "886      0            211536  13.0000   NaN        S  \n",
              "887      0            112053  30.0000   B42        S  \n",
              "888      2        W./C. 6607  23.4500   NaN        S  \n",
              "889      0            111369  30.0000  C148        C  \n",
              "890      0            370376   7.7500   NaN        Q  \n",
              "\n",
              "[891 rows x 12 columns]"
            ],
            "text/html": [
              "\n",
              "  <div id=\"df-f4ea7e83-9b5e-4323-a9fe-cdba7277418c\">\n",
              "    <div class=\"colab-df-container\">\n",
              "      <div>\n",
              "<style scoped>\n",
              "    .dataframe tbody tr th:only-of-type {\n",
              "        vertical-align: middle;\n",
              "    }\n",
              "\n",
              "    .dataframe tbody tr th {\n",
              "        vertical-align: top;\n",
              "    }\n",
              "\n",
              "    .dataframe thead th {\n",
              "        text-align: right;\n",
              "    }\n",
              "</style>\n",
              "<table border=\"1\" class=\"dataframe\">\n",
              "  <thead>\n",
              "    <tr style=\"text-align: right;\">\n",
              "      <th></th>\n",
              "      <th>PassengerId</th>\n",
              "      <th>Survived</th>\n",
              "      <th>Pclass</th>\n",
              "      <th>Name</th>\n",
              "      <th>Sex</th>\n",
              "      <th>Age</th>\n",
              "      <th>SibSp</th>\n",
              "      <th>Parch</th>\n",
              "      <th>Ticket</th>\n",
              "      <th>Fare</th>\n",
              "      <th>Cabin</th>\n",
              "      <th>Embarked</th>\n",
              "    </tr>\n",
              "  </thead>\n",
              "  <tbody>\n",
              "    <tr>\n",
              "      <th>0</th>\n",
              "      <td>1</td>\n",
              "      <td>0</td>\n",
              "      <td>3</td>\n",
              "      <td>Braund, Mr. Owen Harris</td>\n",
              "      <td>male</td>\n",
              "      <td>22.0</td>\n",
              "      <td>1</td>\n",
              "      <td>0</td>\n",
              "      <td>A/5 21171</td>\n",
              "      <td>7.2500</td>\n",
              "      <td>NaN</td>\n",
              "      <td>S</td>\n",
              "    </tr>\n",
              "    <tr>\n",
              "      <th>1</th>\n",
              "      <td>2</td>\n",
              "      <td>1</td>\n",
              "      <td>1</td>\n",
              "      <td>Cumings, Mrs. John Bradley (Florence Briggs Th...</td>\n",
              "      <td>female</td>\n",
              "      <td>38.0</td>\n",
              "      <td>1</td>\n",
              "      <td>0</td>\n",
              "      <td>PC 17599</td>\n",
              "      <td>71.2833</td>\n",
              "      <td>C85</td>\n",
              "      <td>C</td>\n",
              "    </tr>\n",
              "    <tr>\n",
              "      <th>2</th>\n",
              "      <td>3</td>\n",
              "      <td>1</td>\n",
              "      <td>3</td>\n",
              "      <td>Heikkinen, Miss. Laina</td>\n",
              "      <td>female</td>\n",
              "      <td>26.0</td>\n",
              "      <td>0</td>\n",
              "      <td>0</td>\n",
              "      <td>STON/O2. 3101282</td>\n",
              "      <td>7.9250</td>\n",
              "      <td>NaN</td>\n",
              "      <td>S</td>\n",
              "    </tr>\n",
              "    <tr>\n",
              "      <th>3</th>\n",
              "      <td>4</td>\n",
              "      <td>1</td>\n",
              "      <td>1</td>\n",
              "      <td>Futrelle, Mrs. Jacques Heath (Lily May Peel)</td>\n",
              "      <td>female</td>\n",
              "      <td>35.0</td>\n",
              "      <td>1</td>\n",
              "      <td>0</td>\n",
              "      <td>113803</td>\n",
              "      <td>53.1000</td>\n",
              "      <td>C123</td>\n",
              "      <td>S</td>\n",
              "    </tr>\n",
              "    <tr>\n",
              "      <th>4</th>\n",
              "      <td>5</td>\n",
              "      <td>0</td>\n",
              "      <td>3</td>\n",
              "      <td>Allen, Mr. William Henry</td>\n",
              "      <td>male</td>\n",
              "      <td>35.0</td>\n",
              "      <td>0</td>\n",
              "      <td>0</td>\n",
              "      <td>373450</td>\n",
              "      <td>8.0500</td>\n",
              "      <td>NaN</td>\n",
              "      <td>S</td>\n",
              "    </tr>\n",
              "    <tr>\n",
              "      <th>...</th>\n",
              "      <td>...</td>\n",
              "      <td>...</td>\n",
              "      <td>...</td>\n",
              "      <td>...</td>\n",
              "      <td>...</td>\n",
              "      <td>...</td>\n",
              "      <td>...</td>\n",
              "      <td>...</td>\n",
              "      <td>...</td>\n",
              "      <td>...</td>\n",
              "      <td>...</td>\n",
              "      <td>...</td>\n",
              "    </tr>\n",
              "    <tr>\n",
              "      <th>886</th>\n",
              "      <td>887</td>\n",
              "      <td>0</td>\n",
              "      <td>2</td>\n",
              "      <td>Montvila, Rev. Juozas</td>\n",
              "      <td>male</td>\n",
              "      <td>27.0</td>\n",
              "      <td>0</td>\n",
              "      <td>0</td>\n",
              "      <td>211536</td>\n",
              "      <td>13.0000</td>\n",
              "      <td>NaN</td>\n",
              "      <td>S</td>\n",
              "    </tr>\n",
              "    <tr>\n",
              "      <th>887</th>\n",
              "      <td>888</td>\n",
              "      <td>1</td>\n",
              "      <td>1</td>\n",
              "      <td>Graham, Miss. Margaret Edith</td>\n",
              "      <td>female</td>\n",
              "      <td>19.0</td>\n",
              "      <td>0</td>\n",
              "      <td>0</td>\n",
              "      <td>112053</td>\n",
              "      <td>30.0000</td>\n",
              "      <td>B42</td>\n",
              "      <td>S</td>\n",
              "    </tr>\n",
              "    <tr>\n",
              "      <th>888</th>\n",
              "      <td>889</td>\n",
              "      <td>0</td>\n",
              "      <td>3</td>\n",
              "      <td>Johnston, Miss. Catherine Helen \"Carrie\"</td>\n",
              "      <td>female</td>\n",
              "      <td>NaN</td>\n",
              "      <td>1</td>\n",
              "      <td>2</td>\n",
              "      <td>W./C. 6607</td>\n",
              "      <td>23.4500</td>\n",
              "      <td>NaN</td>\n",
              "      <td>S</td>\n",
              "    </tr>\n",
              "    <tr>\n",
              "      <th>889</th>\n",
              "      <td>890</td>\n",
              "      <td>1</td>\n",
              "      <td>1</td>\n",
              "      <td>Behr, Mr. Karl Howell</td>\n",
              "      <td>male</td>\n",
              "      <td>26.0</td>\n",
              "      <td>0</td>\n",
              "      <td>0</td>\n",
              "      <td>111369</td>\n",
              "      <td>30.0000</td>\n",
              "      <td>C148</td>\n",
              "      <td>C</td>\n",
              "    </tr>\n",
              "    <tr>\n",
              "      <th>890</th>\n",
              "      <td>891</td>\n",
              "      <td>0</td>\n",
              "      <td>3</td>\n",
              "      <td>Dooley, Mr. Patrick</td>\n",
              "      <td>male</td>\n",
              "      <td>32.0</td>\n",
              "      <td>0</td>\n",
              "      <td>0</td>\n",
              "      <td>370376</td>\n",
              "      <td>7.7500</td>\n",
              "      <td>NaN</td>\n",
              "      <td>Q</td>\n",
              "    </tr>\n",
              "  </tbody>\n",
              "</table>\n",
              "<p>891 rows × 12 columns</p>\n",
              "</div>\n",
              "      <button class=\"colab-df-convert\" onclick=\"convertToInteractive('df-f4ea7e83-9b5e-4323-a9fe-cdba7277418c')\"\n",
              "              title=\"Convert this dataframe to an interactive table.\"\n",
              "              style=\"display:none;\">\n",
              "        \n",
              "  <svg xmlns=\"http://www.w3.org/2000/svg\" height=\"24px\"viewBox=\"0 0 24 24\"\n",
              "       width=\"24px\">\n",
              "    <path d=\"M0 0h24v24H0V0z\" fill=\"none\"/>\n",
              "    <path d=\"M18.56 5.44l.94 2.06.94-2.06 2.06-.94-2.06-.94-.94-2.06-.94 2.06-2.06.94zm-11 1L8.5 8.5l.94-2.06 2.06-.94-2.06-.94L8.5 2.5l-.94 2.06-2.06.94zm10 10l.94 2.06.94-2.06 2.06-.94-2.06-.94-.94-2.06-.94 2.06-2.06.94z\"/><path d=\"M17.41 7.96l-1.37-1.37c-.4-.4-.92-.59-1.43-.59-.52 0-1.04.2-1.43.59L10.3 9.45l-7.72 7.72c-.78.78-.78 2.05 0 2.83L4 21.41c.39.39.9.59 1.41.59.51 0 1.02-.2 1.41-.59l7.78-7.78 2.81-2.81c.8-.78.8-2.07 0-2.86zM5.41 20L4 18.59l7.72-7.72 1.47 1.35L5.41 20z\"/>\n",
              "  </svg>\n",
              "      </button>\n",
              "      \n",
              "  <style>\n",
              "    .colab-df-container {\n",
              "      display:flex;\n",
              "      flex-wrap:wrap;\n",
              "      gap: 12px;\n",
              "    }\n",
              "\n",
              "    .colab-df-convert {\n",
              "      background-color: #E8F0FE;\n",
              "      border: none;\n",
              "      border-radius: 50%;\n",
              "      cursor: pointer;\n",
              "      display: none;\n",
              "      fill: #1967D2;\n",
              "      height: 32px;\n",
              "      padding: 0 0 0 0;\n",
              "      width: 32px;\n",
              "    }\n",
              "\n",
              "    .colab-df-convert:hover {\n",
              "      background-color: #E2EBFA;\n",
              "      box-shadow: 0px 1px 2px rgba(60, 64, 67, 0.3), 0px 1px 3px 1px rgba(60, 64, 67, 0.15);\n",
              "      fill: #174EA6;\n",
              "    }\n",
              "\n",
              "    [theme=dark] .colab-df-convert {\n",
              "      background-color: #3B4455;\n",
              "      fill: #D2E3FC;\n",
              "    }\n",
              "\n",
              "    [theme=dark] .colab-df-convert:hover {\n",
              "      background-color: #434B5C;\n",
              "      box-shadow: 0px 1px 3px 1px rgba(0, 0, 0, 0.15);\n",
              "      filter: drop-shadow(0px 1px 2px rgba(0, 0, 0, 0.3));\n",
              "      fill: #FFFFFF;\n",
              "    }\n",
              "  </style>\n",
              "\n",
              "      <script>\n",
              "        const buttonEl =\n",
              "          document.querySelector('#df-f4ea7e83-9b5e-4323-a9fe-cdba7277418c button.colab-df-convert');\n",
              "        buttonEl.style.display =\n",
              "          google.colab.kernel.accessAllowed ? 'block' : 'none';\n",
              "\n",
              "        async function convertToInteractive(key) {\n",
              "          const element = document.querySelector('#df-f4ea7e83-9b5e-4323-a9fe-cdba7277418c');\n",
              "          const dataTable =\n",
              "            await google.colab.kernel.invokeFunction('convertToInteractive',\n",
              "                                                     [key], {});\n",
              "          if (!dataTable) return;\n",
              "\n",
              "          const docLinkHtml = 'Like what you see? Visit the ' +\n",
              "            '<a target=\"_blank\" href=https://colab.research.google.com/notebooks/data_table.ipynb>data table notebook</a>'\n",
              "            + ' to learn more about interactive tables.';\n",
              "          element.innerHTML = '';\n",
              "          dataTable['output_type'] = 'display_data';\n",
              "          await google.colab.output.renderOutput(dataTable, element);\n",
              "          const docLink = document.createElement('div');\n",
              "          docLink.innerHTML = docLinkHtml;\n",
              "          element.appendChild(docLink);\n",
              "        }\n",
              "      </script>\n",
              "    </div>\n",
              "  </div>\n",
              "  "
            ]
          },
          "metadata": {},
          "execution_count": 74
        }
      ]
    },
    {
      "cell_type": "markdown",
      "source": [
        "1. 총 인원수, 생존자 수, 사망자 수는 몇 명인가?"
      ],
      "metadata": {
        "id": "zkyX3U8Ym3Uu"
      }
    },
    {
      "cell_type": "code",
      "source": [
        "s_data = data['Survived']\n",
        "s_data.value_counts()"
      ],
      "metadata": {
        "colab": {
          "base_uri": "https://localhost:8080/"
        },
        "id": "f2BR2jf9mphe",
        "outputId": "97aa84a5-2f4a-436d-a6be-cb7b0ef3f3c2"
      },
      "execution_count": null,
      "outputs": [
        {
          "output_type": "execute_result",
          "data": {
            "text/plain": [
              "0    549\n",
              "1    342\n",
              "Name: Survived, dtype: int64"
            ]
          },
          "metadata": {},
          "execution_count": 75
        }
      ]
    },
    {
      "cell_type": "code",
      "source": [
        "vc = s_data.value_counts()\n",
        "plt.pie(vc.values,labels=[f\"dead: {vc[0]}\",f\"alive: {vc[1]}\"],autopct=\"%.2f%%\")\n",
        "plt.show()"
      ],
      "metadata": {
        "colab": {
          "base_uri": "https://localhost:8080/",
          "height": 248
        },
        "id": "0vQNmQoAj0zD",
        "outputId": "e7d752a1-fbc7-49d8-ac2b-b8d21f4a7d3e"
      },
      "execution_count": null,
      "outputs": [
        {
          "output_type": "display_data",
          "data": {
            "text/plain": [
              "<Figure size 432x288 with 1 Axes>"
            ],
            "image/png": "[encoded data removed]"
          },
          "metadata": {}
        }
      ]
    },
    {
      "cell_type": "markdown",
      "source": [
        "2. 결측 데이터가 있는 컬럼들을 조사하시오."
      ],
      "metadata": {
        "id": "bIhpNZEooJW_"
      }
    },
    {
      "cell_type": "code",
      "source": [
        "data.info()"
      ],
      "metadata": {
        "colab": {
          "base_uri": "https://localhost:8080/"
        },
        "id": "2j-6yyUjneWj",
        "outputId": "762771ee-9546-4de7-e4c4-eb773d595d76"
      },
      "execution_count": null,
      "outputs": [
        {
          "output_type": "stream",
          "name": "stdout",
          "text": [
            "<class 'pandas.core.frame.DataFrame'>\n",
            "RangeIndex: 891 entries, 0 to 890\n",
            "Data columns (total 12 columns):\n",
            " #   Column       Non-Null Count  Dtype  \n",
            "---  ------       --------------  -----  \n",
            " 0   PassengerId  891 non-null    int64  \n",
            " 1   Survived     891 non-null    int64  \n",
            " 2   Pclass       891 non-null    int64  \n",
            " 3   Name         891 non-null    object \n",
            " 4   Sex          891 non-null    object \n",
            " 5   Age          714 non-null    float64\n",
            " 6   SibSp        891 non-null    int64  \n",
            " 7   Parch        891 non-null    int64  \n",
            " 8   Ticket       891 non-null    object \n",
            " 9   Fare         891 non-null    float64\n",
            " 10  Cabin        204 non-null    object \n",
            " 11  Embarked     889 non-null    object \n",
            "dtypes: float64(2), int64(5), object(5)\n",
            "memory usage: 83.7+ KB\n"
          ]
        }
      ]
    },
    {
      "cell_type": "markdown",
      "source": [
        "3. Pclass의 종류에 따른 분포를 나타내시오.\n",
        "Pclass 종류에 따른 생존 유무를 비교하시오."
      ],
      "metadata": {
        "id": "frETl71WpBQ8"
      }
    },
    {
      "cell_type": "code",
      "source": [
        "p_data = data['Pclass']\n",
        "pvc = p_data.value_counts().sort_index()\n",
        "plt.pie(pvc.values,labels = pvc.index, autopct=\"%.2f%%\")\n",
        "plt.title(\"Pclass\")\n",
        "plt.show()"
      ],
      "metadata": {
        "colab": {
          "base_uri": "https://localhost:8080/",
          "height": 264
        },
        "id": "-4ynyvC6oPUq",
        "outputId": "5c7755c0-ed9d-439c-c9c4-1268b72d689d"
      },
      "execution_count": null,
      "outputs": [
        {
          "output_type": "display_data",
          "data": {
            "text/plain": [
              "<Figure size 432x288 with 1 Axes>"
            ],
            "image/png": "[encoded data removed]"
          },
          "metadata": {}
        }
      ]
    },
    {
      "cell_type": "code",
      "source": [
        "pvc = p_data.value_counts().sort_index()\n",
        "# len(p_data.unique()) - 소프트 코딩\n",
        "pc_alive_arr=np.zeros(3)\n",
        "pc_dead_arr = np.zeros(3)\n",
        "for index in range(len(p_data)):\n",
        "  pi = p_data[index]-1 #클래스 번호 - 1을 배열의 인덱스로 사용\n",
        "  if s_data[index] == 0:\n",
        "    pc_dead_arr[pi] += 1\n",
        "  else :\n",
        "    pc_alive_arr[pi] += 1\n",
        "pc_alive_arr, pc_dead_arr\n"
      ],
      "metadata": {
        "colab": {
          "base_uri": "https://localhost:8080/"
        },
        "id": "C4csVLjypABw",
        "outputId": "94c7f720-068c-4b4d-8860-27bbba000592"
      },
      "execution_count": null,
      "outputs": [
        {
          "output_type": "execute_result",
          "data": {
            "text/plain": [
              "(array([136.,  87., 119.]), array([ 80.,  97., 372.]))"
            ]
          },
          "metadata": {},
          "execution_count": 99
        }
      ]
    },
    {
      "cell_type": "code",
      "source": [
        "plt.bar(['1','2','3'],pc_alive_arr)\n",
        "plt.bar(['1','2','3'],pc_dead_arr,bottom=pc_alive_arr) #밑에 pc_alive_arr를 얹혀놓고 띄워줘.\n",
        "for i in range(3):\n",
        "  plt.annotate(str(pc_alive_arr[i]),(i-0.12,40))\n",
        "  plt.annotate(str(pc_dead_arr[i]),(i-0.12,pc_alive_arr[i]+40))\n",
        "plt.show()"
      ],
      "metadata": {
        "colab": {
          "base_uri": "https://localhost:8080/",
          "height": 265
        },
        "id": "4D00KznerGRK",
        "outputId": "4dd3703d-a8b5-42fa-9cca-3cf9b2409f04"
      },
      "execution_count": null,
      "outputs": [
        {
          "output_type": "display_data",
          "data": {
            "text/plain": [
              "<Figure size 432x288 with 1 Axes>"
            ],
            "image/png": "[encoded data removed]"
          },
          "metadata": {
            "needs_background": "light"
          }
        }
      ]
    },
    {
      "cell_type": "code",
      "source": [
        " n_data = data['Name']\n",
        "names_values = [\"Mr\", \"Mrs\", \"Miss\", \"Master\", \"Dr\", \"ETC\"]\n",
        "def get_name_index(name):\n",
        "    _,s=name.split(',')\n",
        "    sarr  = s.split('.')\n",
        "    lfrag= sarr[0].replace(' ','')\n",
        "    for index in range(5):\n",
        "        if lfrag == names_values[index]:\n",
        "            return index\n",
        "    return 5\n",
        "for n in n_data:\n",
        "    print(get_name_index(n),n)"
      ],
      "metadata": {
        "colab": {
          "base_uri": "https://localhost:8080/"
        },
        "id": "7eWx00Kkrbe5",
        "outputId": "858e6e01-38e3-437a-bc1b-b46545e417eb"
      },
      "execution_count": null,
      "outputs": [
        {
          "output_type": "stream",
          "name": "stdout",
          "text": [
            "0 Braund, Mr. Owen Harris\n",
            "1 Cumings, Mrs. John Bradley (Florence Briggs Thayer)\n",
            "2 Heikkinen, Miss. Laina\n",
            "1 Futrelle, Mrs. Jacques Heath (Lily May Peel)\n",
            "0 Allen, Mr. William Henry\n",
            "0 Moran, Mr. James\n",
            "0 McCarthy, Mr. Timothy J\n",
            "3 Palsson, Master. Gosta Leonard\n",
            "1 Johnson, Mrs. Oscar W (Elisabeth Vilhelmina Berg)\n",
            "1 Nasser, Mrs. Nicholas (Adele Achem)\n",
            "2 Sandstrom, Miss. Marguerite Rut\n",
            "2 Bonnell, Miss. Elizabeth\n",
            "0 Saundercock, Mr. William Henry\n",
            "0 Andersson, Mr. Anders Johan\n",
            "2 Vestrom, Miss. Hulda Amanda Adolfina\n",
            "1 Hewlett, Mrs. (Mary D Kingcome) \n",
            "3 Rice, Master. Eugene\n",
            "0 Williams, Mr. Charles Eugene\n",
            "1 Vander Planke, Mrs. Julius (Emelia Maria Vandemoortele)\n",
            "1 Masselmani, Mrs. Fatima\n",
            "0 Fynney, Mr. Joseph J\n",
            "0 Beesley, Mr. Lawrence\n",
            "2 McGowan, Miss. Anna \"Annie\"\n",
            "0 Sloper, Mr. William Thompson\n",
            "2 Palsson, Miss. Torborg Danira\n",
            "1 Asplund, Mrs. Carl Oscar (Selma Augusta Emilia Johansson)\n",
            "0 Emir, Mr. Farred Chehab\n",
            "0 Fortune, Mr. Charles Alexander\n",
            "2 O'Dwyer, Miss. Ellen \"Nellie\"\n",
            "0 Todoroff, Mr. Lalio\n",
            "5 Uruchurtu, Don. Manuel E\n",
            "1 Spencer, Mrs. William Augustus (Marie Eugenie)\n",
            "2 Glynn, Miss. Mary Agatha\n",
            "0 Wheadon, Mr. Edward H\n",
            "0 Meyer, Mr. Edgar Joseph\n",
            "0 Holverson, Mr. Alexander Oskar\n",
            "0 Mamee, Mr. Hanna\n",
            "0 Cann, Mr. Ernest Charles\n",
            "2 Vander Planke, Miss. Augusta Maria\n",
            "2 Nicola-Yarred, Miss. Jamila\n",
            "1 Ahlin, Mrs. Johan (Johanna Persdotter Larsson)\n",
            "1 Turpin, Mrs. William John Robert (Dorothy Ann Wonnacott)\n",
            "0 Kraeff, Mr. Theodor\n",
            "2 Laroche, Miss. Simonne Marie Anne Andree\n",
            "2 Devaney, Miss. Margaret Delia\n",
            "0 Rogers, Mr. William John\n",
            "0 Lennon, Mr. Denis\n",
            "2 O'Driscoll, Miss. Bridget\n",
            "0 Samaan, Mr. Youssef\n",
            "1 Arnold-Franchi, Mrs. Josef (Josefine Franchi)\n",
            "3 Panula, Master. Juha Niilo\n",
            "0 Nosworthy, Mr. Richard Cater\n",
            "1 Harper, Mrs. Henry Sleeper (Myna Haxtun)\n",
            "1 Faunthorpe, Mrs. Lizzie (Elizabeth Anne Wilkinson)\n",
            "0 Ostby, Mr. Engelhart Cornelius\n",
            "0 Woolner, Mr. Hugh\n",
            "2 Rugg, Miss. Emily\n",
            "0 Novel, Mr. Mansouer\n",
            "2 West, Miss. Constance Mirium\n",
            "3 Goodwin, Master. William Frederick\n",
            "0 Sirayanian, Mr. Orsen\n",
            "2 Icard, Miss. Amelie\n",
            "0 Harris, Mr. Henry Birkhardt\n",
            "3 Skoog, Master. Harald\n",
            "0 Stewart, Mr. Albert A\n",
            "3 Moubarek, Master. Gerios\n",
            "1 Nye, Mrs. (Elizabeth Ramell)\n",
            "0 Crease, Mr. Ernest James\n",
            "2 Andersson, Miss. Erna Alexandra\n",
            "0 Kink, Mr. Vincenz\n",
            "0 Jenkin, Mr. Stephen Curnow\n",
            "2 Goodwin, Miss. Lillian Amy\n",
            "0 Hood, Mr. Ambrose Jr\n",
            "0 Chronopoulos, Mr. Apostolos\n",
            "0 Bing, Mr. Lee\n",
            "0 Moen, Mr. Sigurd Hansen\n",
            "0 Staneff, Mr. Ivan\n",
            "0 Moutal, Mr. Rahamin Haim\n",
            "3 Caldwell, Master. Alden Gates\n",
            "2 Dowdell, Miss. Elizabeth\n",
            "0 Waelens, Mr. Achille\n",
            "0 Sheerlinck, Mr. Jan Baptist\n",
            "2 McDermott, Miss. Brigdet Delia\n",
            "0 Carrau, Mr. Francisco M\n",
            "2 Ilett, Miss. Bertha\n",
            "1 Backstrom, Mrs. Karl Alfred (Maria Mathilda Gustafsson)\n",
            "0 Ford, Mr. William Neal\n",
            "0 Slocovski, Mr. Selman Francis\n",
            "2 Fortune, Miss. Mabel Helen\n",
            "0 Celotti, Mr. Francesco\n",
            "0 Christmann, Mr. Emil\n",
            "0 Andreasson, Mr. Paul Edvin\n",
            "0 Chaffee, Mr. Herbert Fuller\n",
            "0 Dean, Mr. Bertram Frank\n",
            "0 Coxon, Mr. Daniel\n",
            "0 Shorney, Mr. Charles Joseph\n",
            "0 Goldschmidt, Mr. George B\n",
            "0 Greenfield, Mr. William Bertram\n",
            "1 Doling, Mrs. John T (Ada Julia Bone)\n",
            "0 Kantor, Mr. Sinai\n",
            "2 Petranec, Miss. Matilda\n",
            "0 Petroff, Mr. Pastcho (\"Pentcho\")\n",
            "0 White, Mr. Richard Frasar\n",
            "0 Johansson, Mr. Gustaf Joel\n",
            "0 Gustafsson, Mr. Anders Vilhelm\n",
            "0 Mionoff, Mr. Stoytcho\n",
            "2 Salkjelsvik, Miss. Anna Kristine\n",
            "0 Moss, Mr. Albert Johan\n",
            "0 Rekic, Mr. Tido\n",
            "2 Moran, Miss. Bertha\n",
            "0 Porter, Mr. Walter Chamberlain\n",
            "2 Zabour, Miss. Hileni\n",
            "0 Barton, Mr. David John\n",
            "2 Jussila, Miss. Katriina\n",
            "2 Attalah, Miss. Malake\n",
            "0 Pekoniemi, Mr. Edvard\n",
            "0 Connors, Mr. Patrick\n",
            "0 Turpin, Mr. William John Robert\n",
            "0 Baxter, Mr. Quigg Edmond\n",
            "2 Andersson, Miss. Ellis Anna Maria\n",
            "0 Hickman, Mr. Stanley George\n",
            "0 Moore, Mr. Leonard Charles\n",
            "0 Nasser, Mr. Nicholas\n",
            "2 Webber, Miss. Susan\n",
            "0 White, Mr. Percival Wayland\n",
            "3 Nicola-Yarred, Master. Elias\n",
            "0 McMahon, Mr. Martin\n",
            "0 Madsen, Mr. Fridtjof Arne\n",
            "2 Peter, Miss. Anna\n",
            "0 Ekstrom, Mr. Johan\n",
            "0 Drazenoic, Mr. Jozef\n",
            "0 Coelho, Mr. Domingos Fernandeo\n",
            "1 Robins, Mrs. Alexander A (Grace Charity Laury)\n",
            "1 Weisz, Mrs. Leopold (Mathilde Francoise Pede)\n",
            "0 Sobey, Mr. Samuel James Hayden\n",
            "0 Richard, Mr. Emile\n",
            "2 Newsom, Miss. Helen Monypeny\n",
            "0 Futrelle, Mr. Jacques Heath\n",
            "0 Osen, Mr. Olaf Elon\n",
            "0 Giglio, Mr. Victor\n",
            "1 Boulos, Mrs. Joseph (Sultana)\n",
            "2 Nysten, Miss. Anna Sofia\n",
            "1 Hakkarainen, Mrs. Pekka Pietari (Elin Matilda Dolck)\n",
            "0 Burke, Mr. Jeremiah\n",
            "0 Andrew, Mr. Edgardo Samuel\n",
            "0 Nicholls, Mr. Joseph Charles\n",
            "0 Andersson, Mr. August Edvard (\"Wennerstrom\")\n",
            "2 Ford, Miss. Robina Maggie \"Ruby\"\n",
            "0 Navratil, Mr. Michel (\"Louis M Hoffman\")\n",
            "5 Byles, Rev. Thomas Roussel Davids\n",
            "5 Bateman, Rev. Robert James\n",
            "1 Pears, Mrs. Thomas (Edith Wearne)\n",
            "0 Meo, Mr. Alfonzo\n",
            "0 van Billiard, Mr. Austin Blyler\n",
            "0 Olsen, Mr. Ole Martin\n",
            "0 Williams, Mr. Charles Duane\n",
            "2 Gilnagh, Miss. Katherine \"Katie\"\n",
            "0 Corn, Mr. Harry\n",
            "0 Smiljanic, Mr. Mile\n",
            "3 Sage, Master. Thomas Henry\n",
            "0 Cribb, Mr. John Hatfield\n",
            "1 Watt, Mrs. James (Elizabeth \"Bessie\" Inglis Milne)\n",
            "0 Bengtsson, Mr. John Viktor\n",
            "0 Calic, Mr. Jovo\n",
            "3 Panula, Master. Eino Viljami\n",
            "3 Goldsmith, Master. Frank John William \"Frankie\"\n",
            "1 Chibnall, Mrs. (Edith Martha Bowerman)\n",
            "1 Skoog, Mrs. William (Anna Bernhardina Karlsson)\n",
            "0 Baumann, Mr. John D\n",
            "0 Ling, Mr. Lee\n",
            "0 Van der hoef, Mr. Wyckoff\n",
            "3 Rice, Master. Arthur\n",
            "2 Johnson, Miss. Eleanor Ileen\n",
            "0 Sivola, Mr. Antti Wilhelm\n",
            "0 Smith, Mr. James Clinch\n",
            "0 Klasen, Mr. Klas Albin\n",
            "3 Lefebre, Master. Henry Forbes\n",
            "2 Isham, Miss. Ann Elizabeth\n",
            "0 Hale, Mr. Reginald\n",
            "0 Leonard, Mr. Lionel\n",
            "2 Sage, Miss. Constance Gladys\n",
            "0 Pernot, Mr. Rene\n",
            "3 Asplund, Master. Clarence Gustaf Hugo\n",
            "3 Becker, Master. Richard F\n",
            "2 Kink-Heilmann, Miss. Luise Gretchen\n",
            "0 Rood, Mr. Hugh Roscoe\n",
            "1 O'Brien, Mrs. Thomas (Johanna \"Hannah\" Godfrey)\n",
            "0 Romaine, Mr. Charles Hallace (\"Mr C Rolmane\")\n",
            "0 Bourke, Mr. John\n",
            "0 Turcin, Mr. Stjepan\n",
            "1 Pinsky, Mrs. (Rosa)\n",
            "0 Carbines, Mr. William\n",
            "2 Andersen-Jensen, Miss. Carla Christine Nielsine\n",
            "3 Navratil, Master. Michel M\n",
            "1 Brown, Mrs. James Joseph (Margaret Tobin)\n",
            "2 Lurette, Miss. Elise\n",
            "0 Mernagh, Mr. Robert\n",
            "0 Olsen, Mr. Karl Siegwart Andreas\n",
            "2 Madigan, Miss. Margaret \"Maggie\"\n",
            "2 Yrois, Miss. Henriette (\"Mrs Harbeck\")\n",
            "0 Vande Walle, Mr. Nestor Cyriel\n",
            "0 Sage, Mr. Frederick\n",
            "0 Johanson, Mr. Jakob Alfred\n",
            "0 Youseff, Mr. Gerious\n",
            "0 Cohen, Mr. Gurshon \"Gus\"\n",
            "2 Strom, Miss. Telma Matilda\n",
            "0 Backstrom, Mr. Karl Alfred\n",
            "0 Albimona, Mr. Nassef Cassem\n",
            "2 Carr, Miss. Helen \"Ellen\"\n",
            "0 Blank, Mr. Henry\n",
            "0 Ali, Mr. Ahmed\n",
            "2 Cameron, Miss. Clear Annie\n",
            "0 Perkin, Mr. John Henry\n",
            "0 Givard, Mr. Hans Kristensen\n",
            "0 Kiernan, Mr. Philip\n",
            "2 Newell, Miss. Madeleine\n",
            "2 Honkanen, Miss. Eliina\n",
            "0 Jacobsohn, Mr. Sidney Samuel\n",
            "2 Bazzani, Miss. Albina\n",
            "0 Harris, Mr. Walter\n",
            "0 Sunderland, Mr. Victor Francis\n",
            "0 Bracken, Mr. James H\n",
            "0 Green, Mr. George Henry\n",
            "0 Nenkoff, Mr. Christo\n",
            "0 Hoyt, Mr. Frederick Maxfield\n",
            "0 Berglund, Mr. Karl Ivar Sven\n",
            "0 Mellors, Mr. William John\n",
            "0 Lovell, Mr. John Hall (\"Henry\")\n",
            "0 Fahlstrom, Mr. Arne Jonas\n",
            "2 Lefebre, Miss. Mathilde\n",
            "1 Harris, Mrs. Henry Birkhardt (Irene Wallach)\n",
            "0 Larsson, Mr. Bengt Edvin\n",
            "0 Sjostedt, Mr. Ernst Adolf\n",
            "2 Asplund, Miss. Lillian Gertrud\n",
            "0 Leyson, Mr. Robert William Norman\n",
            "2 Harknett, Miss. Alice Phoebe\n",
            "0 Hold, Mr. Stephen\n",
            "2 Collyer, Miss. Marjorie \"Lottie\"\n",
            "0 Pengelly, Mr. Frederick William\n",
            "0 Hunt, Mr. George Henry\n",
            "2 Zabour, Miss. Thamine\n",
            "2 Murphy, Miss. Katherine \"Kate\"\n",
            "0 Coleridge, Mr. Reginald Charles\n",
            "0 Maenpaa, Mr. Matti Alexanteri\n",
            "0 Attalah, Mr. Sleiman\n",
            "4 Minahan, Dr. William Edward\n",
            "2 Lindahl, Miss. Agda Thorilda Viktoria\n",
            "1 Hamalainen, Mrs. William (Anna)\n",
            "0 Beckwith, Mr. Richard Leonard\n",
            "5 Carter, Rev. Ernest Courtenay\n",
            "0 Reed, Mr. James George\n",
            "1 Strom, Mrs. Wilhelm (Elna Matilda Persson)\n",
            "0 Stead, Mr. William Thomas\n",
            "0 Lobb, Mr. William Arthur\n",
            "1 Rosblom, Mrs. Viktor (Helena Wilhelmina)\n",
            "1 Touma, Mrs. Darwis (Hanne Youssef Razi)\n",
            "1 Thorne, Mrs. Gertrude Maybelle\n",
            "2 Cherry, Miss. Gladys\n",
            "2 Ward, Miss. Anna\n",
            "1 Parrish, Mrs. (Lutie Davis)\n",
            "0 Smith, Mr. Thomas\n",
            "3 Asplund, Master. Edvin Rojj Felix\n",
            "0 Taussig, Mr. Emil\n",
            "0 Harrison, Mr. William\n",
            "2 Henry, Miss. Delia\n",
            "0 Reeves, Mr. David\n",
            "0 Panula, Mr. Ernesti Arvid\n",
            "0 Persson, Mr. Ernst Ulrik\n",
            "1 Graham, Mrs. William Thompson (Edith Junkins)\n",
            "2 Bissette, Miss. Amelia\n",
            "0 Cairns, Mr. Alexander\n",
            "0 Tornquist, Mr. William Henry\n",
            "1 Mellinger, Mrs. (Elizabeth Anne Maidment)\n",
            "0 Natsch, Mr. Charles H\n",
            "2 Healy, Miss. Hanora \"Nora\"\n",
            "2 Andrews, Miss. Kornelia Theodosia\n",
            "2 Lindblom, Miss. Augusta Charlotta\n",
            "0 Parkes, Mr. Francis \"Frank\"\n",
            "3 Rice, Master. Eric\n",
            "1 Abbott, Mrs. Stanton (Rosa Hunt)\n",
            "0 Duane, Mr. Frank\n",
            "0 Olsson, Mr. Nils Johan Goransson\n",
            "0 de Pelsmaeker, Mr. Alfons\n",
            "0 Dorking, Mr. Edward Arthur\n",
            "0 Smith, Mr. Richard William\n",
            "0 Stankovic, Mr. Ivan\n",
            "0 de Mulder, Mr. Theodore\n",
            "0 Naidenoff, Mr. Penko\n",
            "0 Hosono, Mr. Masabumi\n",
            "2 Connolly, Miss. Kate\n",
            "2 Barber, Miss. Ellen \"Nellie\"\n",
            "1 Bishop, Mrs. Dickinson H (Helen Walton)\n",
            "0 Levy, Mr. Rene Jacques\n",
            "2 Haas, Miss. Aloisia\n",
            "0 Mineff, Mr. Ivan\n",
            "0 Lewy, Mr. Ervin G\n",
            "0 Hanna, Mr. Mansour\n",
            "2 Allison, Miss. Helen Loraine\n",
            "0 Saalfeld, Mr. Adolphe\n",
            "1 Baxter, Mrs. James (Helene DeLaudeniere Chaput)\n",
            "2 Kelly, Miss. Anna Katherine \"Annie Kate\"\n",
            "0 McCoy, Mr. Bernard\n",
            "0 Johnson, Mr. William Cahoone Jr\n",
            "2 Keane, Miss. Nora A\n",
            "0 Williams, Mr. Howard Hugh \"Harry\"\n",
            "3 Allison, Master. Hudson Trevor\n",
            "2 Fleming, Miss. Margaret\n",
            "1 Penasco y Castellana, Mrs. Victor de Satode (Maria Josefa Perez de Soto y Vallejo)\n",
            "0 Abelson, Mr. Samuel\n",
            "2 Francatelli, Miss. Laura Mabel\n",
            "2 Hays, Miss. Margaret Bechstein\n",
            "2 Ryerson, Miss. Emily Borie\n",
            "1 Lahtinen, Mrs. William (Anna Sylfven)\n",
            "0 Hendekovic, Mr. Ignjac\n",
            "0 Hart, Mr. Benjamin\n",
            "2 Nilsson, Miss. Helmina Josefina\n",
            "1 Kantor, Mrs. Sinai (Miriam Sternin)\n",
            "4 Moraweck, Dr. Ernest\n",
            "2 Wick, Miss. Mary Natalie\n",
            "1 Spedden, Mrs. Frederic Oakley (Margaretta Corning Stone)\n",
            "0 Dennis, Mr. Samuel\n",
            "0 Danoff, Mr. Yoto\n",
            "2 Slayter, Miss. Hilda Mary\n",
            "1 Caldwell, Mrs. Albert Francis (Sylvia Mae Harbaugh)\n",
            "0 Sage, Mr. George John Jr\n",
            "2 Young, Miss. Marie Grice\n",
            "0 Nysveen, Mr. Johan Hansen\n",
            "1 Ball, Mrs. (Ada E Hall)\n",
            "1 Goldsmith, Mrs. Frank John (Emily Alice Brown)\n",
            "2 Hippach, Miss. Jean Gertrude\n",
            "2 McCoy, Miss. Agnes\n",
            "0 Partner, Mr. Austen\n",
            "0 Graham, Mr. George Edward\n",
            "0 Vander Planke, Mr. Leo Edmondus\n",
            "1 Frauenthal, Mrs. Henry William (Clara Heinsheimer)\n",
            "0 Denkoff, Mr. Mitto\n",
            "0 Pears, Mr. Thomas Clinton\n",
            "2 Burns, Miss. Elizabeth Margaret\n",
            "0 Dahl, Mr. Karl Edwart\n",
            "0 Blackwell, Mr. Stephen Weart\n",
            "3 Navratil, Master. Edmond Roger\n",
            "2 Fortune, Miss. Alice Elizabeth\n",
            "0 Collander, Mr. Erik Gustaf\n",
            "0 Sedgwick, Mr. Charles Frederick Waddington\n",
            "0 Fox, Mr. Stanley Hubert\n",
            "2 Brown, Miss. Amelia \"Mildred\"\n",
            "2 Smith, Miss. Marion Elsie\n",
            "1 Davison, Mrs. Thomas Henry (Mary E Finck)\n",
            "3 Coutts, Master. William Loch \"William\"\n",
            "0 Dimic, Mr. Jovan\n",
            "0 Odahl, Mr. Nils Martin\n",
            "0 Williams-Lambert, Mr. Fletcher Fellows\n",
            "0 Elias, Mr. Tannous\n",
            "0 Arnold-Franchi, Mr. Josef\n",
            "0 Yousif, Mr. Wazli\n",
            "0 Vanden Steen, Mr. Leo Peter\n",
            "2 Bowerman, Miss. Elsie Edith\n",
            "2 Funk, Miss. Annie Clemmer\n",
            "2 McGovern, Miss. Mary\n",
            "2 Mockler, Miss. Helen Mary \"Ellie\"\n",
            "0 Skoog, Mr. Wilhelm\n",
            "0 del Carlo, Mr. Sebastiano\n",
            "1 Barbara, Mrs. (Catherine David)\n",
            "0 Asim, Mr. Adola\n",
            "0 O'Brien, Mr. Thomas\n",
            "0 Adahl, Mr. Mauritz Nils Martin\n",
            "1 Warren, Mrs. Frank Manley (Anna Sophia Atkinson)\n",
            "1 Moussa, Mrs. (Mantoura Boulos)\n",
            "2 Jermyn, Miss. Annie\n",
            "5 Aubart, Mme. Leontine Pauline\n",
            "0 Harder, Mr. George Achilles\n",
            "0 Wiklund, Mr. Jakob Alfred\n",
            "0 Beavan, Mr. William Thomas\n",
            "0 Ringhini, Mr. Sante\n",
            "2 Palsson, Miss. Stina Viola\n",
            "1 Meyer, Mrs. Edgar Joseph (Leila Saks)\n",
            "2 Landergren, Miss. Aurora Adelia\n",
            "0 Widener, Mr. Harry Elkins\n",
            "0 Betros, Mr. Tannous\n",
            "0 Gustafsson, Mr. Karl Gideon\n",
            "2 Bidois, Miss. Rosalie\n",
            "2 Nakid, Miss. Maria (\"Mary\")\n",
            "0 Tikkanen, Mr. Juho\n",
            "1 Holverson, Mrs. Alexander Oskar (Mary Aline Towner)\n",
            "0 Plotcharsky, Mr. Vasil\n",
            "0 Davies, Mr. Charles Henry\n",
            "3 Goodwin, Master. Sidney Leonard\n",
            "2 Buss, Miss. Kate\n",
            "0 Sadlier, Mr. Matthew\n",
            "2 Lehmann, Miss. Bertha\n",
            "0 Carter, Mr. William Ernest\n",
            "0 Jansson, Mr. Carl Olof\n",
            "0 Gustafsson, Mr. Johan Birger\n",
            "2 Newell, Miss. Marjorie\n",
            "1 Sandstrom, Mrs. Hjalmar (Agnes Charlotta Bengtsson)\n",
            "0 Johansson, Mr. Erik\n",
            "2 Olsson, Miss. Elina\n",
            "0 McKane, Mr. Peter David\n",
            "4 Pain, Dr. Alfred\n",
            "1 Trout, Mrs. William H (Jessie L)\n",
            "0 Niskanen, Mr. Juha\n",
            "0 Adams, Mr. John\n",
            "2 Jussila, Miss. Mari Aina\n",
            "0 Hakkarainen, Mr. Pekka Pietari\n",
            "2 Oreskovic, Miss. Marija\n",
            "0 Gale, Mr. Shadrach\n",
            "0 Widegren, Mr. Carl/Charles Peter\n",
            "3 Richards, Master. William Rowe\n",
            "0 Birkeland, Mr. Hans Martin Monsen\n",
            "2 Lefebre, Miss. Ida\n",
            "0 Sdycoff, Mr. Todor\n",
            "0 Hart, Mr. Henry\n",
            "2 Minahan, Miss. Daisy E\n",
            "0 Cunningham, Mr. Alfred Fleming\n",
            "0 Sundman, Mr. Johan Julian\n",
            "1 Meek, Mrs. Thomas (Annie Louise Rowley)\n",
            "1 Drew, Mrs. James Vivian (Lulu Thorne Christian)\n",
            "2 Silven, Miss. Lyyli Karoliina\n",
            "0 Matthews, Mr. William John\n",
            "2 Van Impe, Miss. Catharina\n",
            "0 Gheorgheff, Mr. Stanio\n",
            "0 Charters, Mr. David\n",
            "0 Zimmerman, Mr. Leo\n",
            "1 Danbom, Mrs. Ernst Gilbert (Anna Sigrid Maria Brogren)\n",
            "0 Rosblom, Mr. Viktor Richard\n",
            "0 Wiseman, Mr. Phillippe\n",
            "1 Clarke, Mrs. Charles V (Ada Maria Winfield)\n",
            "2 Phillips, Miss. Kate Florence (\"Mrs Kate Louise Phillips Marshall\")\n",
            "0 Flynn, Mr. James\n",
            "0 Pickard, Mr. Berk (Berk Trembisky)\n",
            "0 Bjornstrom-Steffansson, Mr. Mauritz Hakan\n",
            "1 Thorneycroft, Mrs. Percival (Florence Kate White)\n",
            "1 Louch, Mrs. Charles Alexander (Alice Adelaide Slow)\n",
            "0 Kallio, Mr. Nikolai Erland\n",
            "0 Silvey, Mr. William Baird\n",
            "2 Carter, Miss. Lucile Polk\n",
            "2 Ford, Miss. Doolina Margaret \"Daisy\"\n",
            "1 Richards, Mrs. Sidney (Emily Hocking)\n",
            "0 Fortune, Mr. Mark\n",
            "0 Kvillner, Mr. Johan Henrik Johannesson\n",
            "1 Hart, Mrs. Benjamin (Esther Ada Bloomfield)\n",
            "0 Hampe, Mr. Leon\n",
            "0 Petterson, Mr. Johan Emil\n",
            "5 Reynaldo, Ms. Encarnacion\n",
            "0 Johannesen-Bratthammer, Mr. Bernt\n",
            "3 Dodge, Master. Washington\n",
            "2 Mellinger, Miss. Madeleine Violet\n",
            "0 Seward, Mr. Frederic Kimber\n",
            "2 Baclini, Miss. Marie Catherine\n",
            "5 Peuchen, Major. Arthur Godfrey\n",
            "0 West, Mr. Edwy Arthur\n",
            "0 Hagland, Mr. Ingvald Olai Olsen\n",
            "0 Foreman, Mr. Benjamin Laventall\n",
            "0 Goldenberg, Mr. Samuel L\n",
            "0 Peduzzi, Mr. Joseph\n",
            "0 Jalsevac, Mr. Ivan\n",
            "0 Millet, Mr. Francis Davis\n",
            "1 Kenyon, Mrs. Frederick R (Marion)\n",
            "2 Toomey, Miss. Ellen\n",
            "0 O'Connor, Mr. Maurice\n",
            "0 Anderson, Mr. Harry\n",
            "0 Morley, Mr. William\n",
            "0 Gee, Mr. Arthur H\n",
            "0 Milling, Mr. Jacob Christian\n",
            "0 Maisner, Mr. Simon\n",
            "0 Goncalves, Mr. Manuel Estanslas\n",
            "0 Campbell, Mr. William\n",
            "0 Smart, Mr. John Montgomery\n",
            "0 Scanlan, Mr. James\n",
            "2 Baclini, Miss. Helene Barbara\n",
            "0 Keefe, Mr. Arthur\n",
            "0 Cacic, Mr. Luka\n",
            "1 West, Mrs. Edwy Arthur (Ada Mary Worth)\n",
            "1 Jerwan, Mrs. Amin S (Marie Marthe Thuillard)\n",
            "2 Strandberg, Miss. Ida Sofia\n",
            "0 Clifford, Mr. George Quincy\n",
            "0 Renouf, Mr. Peter Henry\n",
            "0 Braund, Mr. Lewis Richard\n",
            "0 Karlsson, Mr. Nils August\n",
            "2 Hirvonen, Miss. Hildur E\n",
            "3 Goodwin, Master. Harold Victor\n",
            "0 Frost, Mr. Anthony Wood \"Archie\"\n",
            "0 Rouse, Mr. Richard Henry\n",
            "1 Turkula, Mrs. (Hedwig)\n",
            "0 Bishop, Mr. Dickinson H\n",
            "2 Lefebre, Miss. Jeannie\n",
            "1 Hoyt, Mrs. Frederick Maxfield (Jane Anne Forby)\n",
            "0 Kent, Mr. Edward Austin\n",
            "0 Somerton, Mr. Francis William\n",
            "3 Coutts, Master. Eden Leslie \"Neville\"\n",
            "0 Hagland, Mr. Konrad Mathias Reiersen\n",
            "0 Windelov, Mr. Einar\n",
            "0 Molson, Mr. Harry Markland\n",
            "0 Artagaveytia, Mr. Ramon\n",
            "0 Stanley, Mr. Edward Roland\n",
            "0 Yousseff, Mr. Gerious\n",
            "2 Eustis, Miss. Elizabeth Mussey\n",
            "0 Shellard, Mr. Frederick William\n",
            "1 Allison, Mrs. Hudson J C (Bessie Waldo Daniels)\n",
            "0 Svensson, Mr. Olof\n",
            "0 Calic, Mr. Petar\n",
            "2 Canavan, Miss. Mary\n",
            "2 O'Sullivan, Miss. Bridget Mary\n",
            "2 Laitinen, Miss. Kristina Sofia\n",
            "2 Maioni, Miss. Roberta\n",
            "0 Penasco y Castellana, Mr. Victor de Satode\n",
            "1 Quick, Mrs. Frederick Charles (Jane Richards)\n",
            "0 Bradley, Mr. George (\"George Arthur Brayton\")\n",
            "0 Olsen, Mr. Henry Margido\n",
            "0 Lang, Mr. Fang\n",
            "0 Daly, Mr. Eugene Patrick\n",
            "0 Webber, Mr. James\n",
            "0 McGough, Mr. James Robert\n",
            "1 Rothschild, Mrs. Martin (Elizabeth L. Barrett)\n",
            "0 Coleff, Mr. Satio\n",
            "0 Walker, Mr. William Anderson\n",
            "1 Lemore, Mrs. (Amelia Milley)\n",
            "0 Ryan, Mr. Patrick\n",
            "1 Angle, Mrs. William A (Florence \"Mary\" Agnes Hughes)\n",
            "0 Pavlovic, Mr. Stefo\n",
            "2 Perreault, Miss. Anne\n",
            "0 Vovk, Mr. Janko\n",
            "0 Lahoud, Mr. Sarkis\n",
            "1 Hippach, Mrs. Louis Albert (Ida Sophia Fischer)\n",
            "0 Kassem, Mr. Fared\n",
            "0 Farrell, Mr. James\n",
            "2 Ridsdale, Miss. Lucy\n",
            "0 Farthing, Mr. John\n",
            "0 Salonen, Mr. Johan Werner\n",
            "0 Hocking, Mr. Richard George\n",
            "2 Quick, Miss. Phyllis May\n",
            "0 Toufik, Mr. Nakli\n",
            "0 Elias, Mr. Joseph Jr\n",
            "1 Peter, Mrs. Catherine (Catherine Rizk)\n",
            "2 Cacic, Miss. Marija\n",
            "2 Hart, Miss. Eva Miriam\n",
            "5 Butt, Major. Archibald Willingham\n",
            "2 LeRoy, Miss. Bertha\n",
            "0 Risien, Mr. Samuel Beard\n",
            "2 Frolicher, Miss. Hedwig Margaritha\n",
            "2 Crosby, Miss. Harriet R\n",
            "2 Andersson, Miss. Ingeborg Constanzia\n",
            "2 Andersson, Miss. Sigrid Elisabeth\n",
            "0 Beane, Mr. Edward\n",
            "0 Douglas, Mr. Walter Donald\n",
            "0 Nicholson, Mr. Arthur Ernest\n",
            "1 Beane, Mrs. Edward (Ethel Clarke)\n",
            "0 Padro y Manent, Mr. Julian\n",
            "0 Goldsmith, Mr. Frank John\n",
            "3 Davies, Master. John Morgan Jr\n",
            "0 Thayer, Mr. John Borland Jr\n",
            "0 Sharp, Mr. Percival James R\n",
            "0 O'Brien, Mr. Timothy\n",
            "0 Leeni, Mr. Fahim (\"Philip Zenni\")\n",
            "2 Ohman, Miss. Velin\n",
            "0 Wright, Mr. George\n",
            "5 Duff Gordon, Lady. (Lucille Christiana Sutherland) (\"Mrs Morgan\")\n",
            "0 Robbins, Mr. Victor\n",
            "1 Taussig, Mrs. Emil (Tillie Mandelbaum)\n",
            "1 de Messemaeker, Mrs. Guillaume Joseph (Emma)\n",
            "0 Morrow, Mr. Thomas Rowan\n",
            "0 Sivic, Mr. Husein\n",
            "0 Norman, Mr. Robert Douglas\n",
            "0 Simmons, Mr. John\n",
            "2 Meanwell, Miss. (Marion Ogden)\n",
            "0 Davies, Mr. Alfred J\n",
            "0 Stoytcheff, Mr. Ilia\n",
            "1 Palsson, Mrs. Nils (Alma Cornelia Berglund)\n",
            "0 Doharr, Mr. Tannous\n",
            "0 Jonsson, Mr. Carl\n",
            "0 Harris, Mr. George\n",
            "1 Appleton, Mrs. Edward Dale (Charlotte Lamson)\n",
            "0 Flynn, Mr. John Irwin (\"Irving\")\n",
            "2 Kelly, Miss. Mary\n",
            "0 Rush, Mr. Alfred George John\n",
            "0 Patchett, Mr. George\n",
            "2 Garside, Miss. Ethel\n",
            "1 Silvey, Mrs. William Baird (Alice Munger)\n",
            "1 Caram, Mrs. Joseph (Maria Elias)\n",
            "0 Jussila, Mr. Eiriik\n",
            "2 Christy, Miss. Julie Rachel\n",
            "1 Thayer, Mrs. John Borland (Marian Longstreth Morris)\n",
            "0 Downton, Mr. William James\n",
            "0 Ross, Mr. John Hugo\n",
            "0 Paulner, Mr. Uscher\n",
            "2 Taussig, Miss. Ruth\n",
            "0 Jarvis, Mr. John Denzil\n",
            "0 Frolicher-Stehli, Mr. Maxmillian\n",
            "0 Gilinski, Mr. Eliezer\n",
            "0 Murdlin, Mr. Joseph\n",
            "0 Rintamaki, Mr. Matti\n",
            "1 Stephenson, Mrs. Walter Bertram (Martha Eustis)\n",
            "0 Elsbury, Mr. William James\n",
            "2 Bourke, Miss. Mary\n",
            "0 Chapman, Mr. John Henry\n",
            "0 Van Impe, Mr. Jean Baptiste\n",
            "2 Leitch, Miss. Jessie Wills\n",
            "0 Johnson, Mr. Alfred\n",
            "0 Boulos, Mr. Hanna\n",
            "5 Duff Gordon, Sir. Cosmo Edmund (\"Mr Morgan\")\n",
            "1 Jacobsohn, Mrs. Sidney Samuel (Amy Frances Christy)\n",
            "0 Slabenoff, Mr. Petco\n",
            "0 Harrington, Mr. Charles H\n",
            "0 Torber, Mr. Ernst William\n",
            "0 Homer, Mr. Harry (\"Mr E Haven\")\n",
            "0 Lindell, Mr. Edvard Bengtsson\n",
            "0 Karaic, Mr. Milan\n",
            "0 Daniel, Mr. Robert Williams\n",
            "1 Laroche, Mrs. Joseph (Juliette Marie Louise Lafargue)\n",
            "2 Shutes, Miss. Elizabeth W\n",
            "1 Andersson, Mrs. Anders Johan (Alfrida Konstantia Brogren)\n",
            "0 Jardin, Mr. Jose Neto\n",
            "2 Murphy, Miss. Margaret Jane\n",
            "0 Horgan, Mr. John\n",
            "0 Brocklebank, Mr. William Alfred\n",
            "2 Herman, Miss. Alice\n",
            "0 Danbom, Mr. Ernst Gilbert\n",
            "1 Lobb, Mrs. William Arthur (Cordelia K Stanlick)\n",
            "2 Becker, Miss. Marion Louise\n",
            "0 Gavey, Mr. Lawrence\n",
            "0 Yasbeck, Mr. Antoni\n",
            "0 Kimball, Mr. Edwin Nelson Jr\n",
            "0 Nakid, Mr. Sahid\n",
            "0 Hansen, Mr. Henry Damsgaard\n",
            "0 Bowen, Mr. David John \"Dai\"\n",
            "0 Sutton, Mr. Frederick\n",
            "5 Kirkland, Rev. Charles Leonard\n",
            "2 Longley, Miss. Gretchen Fiske\n",
            "0 Bostandyeff, Mr. Guentcho\n",
            "0 O'Connell, Mr. Patrick D\n",
            "0 Barkworth, Mr. Algernon Henry Wilson\n",
            "0 Lundahl, Mr. Johan Svensson\n",
            "4 Stahelin-Maeglin, Dr. Max\n",
            "0 Parr, Mr. William Henry Marsh\n",
            "2 Skoog, Miss. Mabel\n",
            "2 Davis, Miss. Mary\n",
            "0 Leinonen, Mr. Antti Gustaf\n",
            "0 Collyer, Mr. Harvey\n",
            "1 Panula, Mrs. Juha (Maria Emilia Ojala)\n",
            "0 Thorneycroft, Mr. Percival\n",
            "0 Jensen, Mr. Hans Peder\n",
            "5 Sagesser, Mlle. Emma\n",
            "2 Skoog, Miss. Margit Elizabeth\n",
            "0 Foo, Mr. Choong\n",
            "2 Baclini, Miss. Eugenie\n",
            "0 Harper, Mr. Henry Sleeper\n",
            "0 Cor, Mr. Liudevit\n",
            "5 Simonius-Blumer, Col. Oberst Alfons\n",
            "0 Willey, Mr. Edward\n",
            "2 Stanley, Miss. Amy Zillah Elsie\n",
            "0 Mitkoff, Mr. Mito\n",
            "2 Doling, Miss. Elsie\n",
            "0 Kalvik, Mr. Johannes Halvorsen\n",
            "2 O'Leary, Miss. Hanora \"Norah\"\n",
            "2 Hegarty, Miss. Hanora \"Nora\"\n",
            "0 Hickman, Mr. Leonard Mark\n",
            "0 Radeff, Mr. Alexander\n",
            "1 Bourke, Mrs. John (Catherine)\n",
            "0 Eitemiller, Mr. George Floyd\n",
            "0 Newell, Mr. Arthur Webster\n",
            "4 Frauenthal, Dr. Henry William\n",
            "0 Badt, Mr. Mohamed\n",
            "0 Colley, Mr. Edward Pomeroy\n",
            "0 Coleff, Mr. Peju\n",
            "0 Lindqvist, Mr. Eino William\n",
            "0 Hickman, Mr. Lewis\n",
            "0 Butler, Mr. Reginald Fenton\n",
            "0 Rommetvedt, Mr. Knud Paust\n",
            "0 Cook, Mr. Jacob\n",
            "1 Taylor, Mrs. Elmer Zebley (Juliet Cummins Wright)\n",
            "1 Brown, Mrs. Thomas William Solomon (Elizabeth Catherine Ford)\n",
            "0 Davidson, Mr. Thornton\n",
            "0 Mitchell, Mr. Henry Michael\n",
            "0 Wilhelms, Mr. Charles\n",
            "0 Watson, Mr. Ennis Hastings\n",
            "0 Edvardsson, Mr. Gustaf Hjalmar\n",
            "0 Sawyer, Mr. Frederick Charles\n",
            "2 Turja, Miss. Anna Sofia\n",
            "1 Goodwin, Mrs. Frederick (Augusta Tyler)\n",
            "0 Cardeza, Mr. Thomas Drake Martinez\n",
            "2 Peters, Miss. Katie\n",
            "0 Hassab, Mr. Hammad\n",
            "0 Olsvigen, Mr. Thor Anderson\n",
            "0 Goodwin, Mr. Charles Edward\n",
            "0 Brown, Mr. Thomas William Solomon\n",
            "0 Laroche, Mr. Joseph Philippe Lemercier\n",
            "0 Panula, Mr. Jaako Arnold\n",
            "0 Dakic, Mr. Branko\n",
            "0 Fischer, Mr. Eberhard Thelander\n",
            "2 Madill, Miss. Georgette Alexandra\n",
            "0 Dick, Mr. Albert Adrian\n",
            "2 Karun, Miss. Manca\n",
            "0 Lam, Mr. Ali\n",
            "0 Saad, Mr. Khalil\n",
            "5 Weir, Col. John\n",
            "0 Chapman, Mr. Charles Henry\n",
            "0 Kelly, Mr. James\n",
            "2 Mullens, Miss. Katherine \"Katie\"\n",
            "0 Thayer, Mr. John Borland\n",
            "0 Humblen, Mr. Adolf Mathias Nicolai Olsen\n",
            "1 Astor, Mrs. John Jacob (Madeleine Talmadge Force)\n",
            "0 Silverthorne, Mr. Spencer Victor\n",
            "2 Barbara, Miss. Saiide\n",
            "0 Gallagher, Mr. Martin\n",
            "0 Hansen, Mr. Henrik Juul\n",
            "0 Morley, Mr. Henry Samuel (\"Mr Henry Marshall\")\n",
            "1 Kelly, Mrs. Florence \"Fannie\"\n",
            "0 Calderhead, Mr. Edward Pennington\n",
            "2 Cleaver, Miss. Alice\n",
            "3 Moubarek, Master. Halim Gonios (\"William George\")\n",
            "5 Mayne, Mlle. Berthe Antonine (\"Mrs de Villiers\")\n",
            "0 Klaber, Mr. Herman\n",
            "0 Taylor, Mr. Elmer Zebley\n",
            "0 Larsson, Mr. August Viktor\n",
            "0 Greenberg, Mr. Samuel\n",
            "0 Soholt, Mr. Peter Andreas Lauritz Andersen\n",
            "2 Endres, Miss. Caroline Louise\n",
            "2 Troutt, Miss. Edwina Celia \"Winnie\"\n",
            "0 McEvoy, Mr. Michael\n",
            "0 Johnson, Mr. Malkolm Joackim\n",
            "2 Harper, Miss. Annie Jessie \"Nina\"\n",
            "0 Jensen, Mr. Svend Lauritz\n",
            "0 Gillespie, Mr. William Henry\n",
            "0 Hodges, Mr. Henry Price\n",
            "0 Chambers, Mr. Norman Campbell\n",
            "0 Oreskovic, Mr. Luka\n",
            "1 Renouf, Mrs. Peter Henry (Lillian Jefferys)\n",
            "2 Mannion, Miss. Margareth\n",
            "0 Bryhl, Mr. Kurt Arnold Gottfrid\n",
            "2 Ilmakangas, Miss. Pieta Sofia\n",
            "2 Allen, Miss. Elisabeth Walton\n",
            "0 Hassan, Mr. Houssein G N\n",
            "0 Knight, Mr. Robert J\n",
            "0 Berriman, Mr. William John\n",
            "0 Troupiansky, Mr. Moses Aaron\n",
            "0 Williams, Mr. Leslie\n",
            "1 Ford, Mrs. Edward (Margaret Ann Watson)\n",
            "0 Lesurer, Mr. Gustave J\n",
            "0 Ivanoff, Mr. Kanio\n",
            "0 Nankoff, Mr. Minko\n",
            "0 Hawksford, Mr. Walter James\n",
            "0 Cavendish, Mr. Tyrell William\n",
            "2 Ryerson, Miss. Susan Parker \"Suzette\"\n",
            "0 McNamee, Mr. Neal\n",
            "0 Stranden, Mr. Juho\n",
            "5 Crosby, Capt. Edward Gifford\n",
            "0 Abbott, Mr. Rossmore Edward\n",
            "2 Sinkkonen, Miss. Anna\n",
            "0 Marvin, Mr. Daniel Warner\n",
            "0 Connaghton, Mr. Michael\n",
            "2 Wells, Miss. Joan\n",
            "3 Moor, Master. Meier\n",
            "0 Vande Velde, Mr. Johannes Joseph\n",
            "0 Jonkoff, Mr. Lalio\n",
            "1 Herman, Mrs. Samuel (Jane Laver)\n",
            "3 Hamalainen, Master. Viljo\n",
            "0 Carlsson, Mr. August Sigfrid\n",
            "0 Bailey, Mr. Percy Andrew\n",
            "0 Theobald, Mr. Thomas Leonard\n",
            "5 Rothes, the Countess. of (Lucy Noel Martha Dyer-Edwards)\n",
            "0 Garfirth, Mr. John\n",
            "0 Nirva, Mr. Iisakki Antino Aijo\n",
            "0 Barah, Mr. Hanna Assi\n",
            "1 Carter, Mrs. William Ernest (Lucile Polk)\n",
            "0 Eklund, Mr. Hans Linus\n",
            "1 Hogeboom, Mrs. John C (Anna Andrews)\n",
            "4 Brewe, Dr. Arthur Jackson\n",
            "2 Mangan, Miss. Mary\n",
            "0 Moran, Mr. Daniel J\n",
            "0 Gronnestad, Mr. Daniel Danielsen\n",
            "0 Lievens, Mr. Rene Aime\n",
            "0 Jensen, Mr. Niels Peder\n",
            "1 Mack, Mrs. (Mary)\n",
            "0 Elias, Mr. Dibo\n",
            "1 Hocking, Mrs. Elizabeth (Eliza Needs)\n",
            "0 Myhrman, Mr. Pehr Fabian Oliver Malkolm\n",
            "0 Tobin, Mr. Roger\n",
            "2 Emanuel, Miss. Virginia Ethel\n",
            "0 Kilgannon, Mr. Thomas J\n",
            "1 Robert, Mrs. Edward Scott (Elisabeth Walton McMillan)\n",
            "2 Ayoub, Miss. Banoura\n",
            "1 Dick, Mrs. Albert Adrian (Vera Gillespie)\n",
            "0 Long, Mr. Milton Clyde\n",
            "0 Johnston, Mr. Andrew G\n",
            "0 Ali, Mr. William\n",
            "0 Harmer, Mr. Abraham (David Lishin)\n",
            "2 Sjoblom, Miss. Anna Sofia\n",
            "3 Rice, Master. George Hugh\n",
            "3 Dean, Master. Bertram Vere\n",
            "0 Guggenheim, Mr. Benjamin\n",
            "0 Keane, Mr. Andrew \"Andy\"\n",
            "0 Gaskell, Mr. Alfred\n",
            "2 Sage, Miss. Stella Anna\n",
            "0 Hoyt, Mr. William Fisher\n",
            "0 Dantcheff, Mr. Ristiu\n",
            "0 Otter, Mr. Richard\n",
            "4 Leader, Dr. Alice (Farnham)\n",
            "1 Osman, Mrs. Mara\n",
            "0 Ibrahim Shawah, Mr. Yousseff\n",
            "1 Van Impe, Mrs. Jean Baptiste (Rosalie Paula Govaert)\n",
            "0 Ponesell, Mr. Martin\n",
            "1 Collyer, Mrs. Harvey (Charlotte Annie Tate)\n",
            "3 Carter, Master. William Thornton II\n",
            "3 Thomas, Master. Assad Alexander\n",
            "0 Hedman, Mr. Oskar Arvid\n",
            "0 Johansson, Mr. Karl Johan\n",
            "0 Andrews, Mr. Thomas Jr\n",
            "2 Pettersson, Miss. Ellen Natalia\n",
            "0 Meyer, Mr. August\n",
            "1 Chambers, Mrs. Norman Campbell (Bertha Griggs)\n",
            "0 Alexander, Mr. William\n",
            "0 Lester, Mr. James\n",
            "0 Slemen, Mr. Richard James\n",
            "2 Andersson, Miss. Ebba Iris Alfrida\n",
            "0 Tomlin, Mr. Ernest Portage\n",
            "0 Fry, Mr. Richard\n",
            "2 Heininen, Miss. Wendla Maria\n",
            "0 Mallet, Mr. Albert\n",
            "0 Holm, Mr. John Fredrik Alexander\n",
            "3 Skoog, Master. Karl Thorsten\n",
            "1 Hays, Mrs. Charles Melville (Clara Jennings Gregg)\n",
            "0 Lulic, Mr. Nikola\n",
            "5 Reuchlin, Jonkheer. John George\n",
            "1 Moor, Mrs. (Beila)\n",
            "3 Panula, Master. Urho Abraham\n",
            "0 Flynn, Mr. John\n",
            "0 Lam, Mr. Len\n",
            "3 Mallet, Master. Andre\n",
            "0 McCormack, Mr. Thomas Joseph\n",
            "1 Stone, Mrs. George Nelson (Martha Evelyn)\n",
            "1 Yasbeck, Mrs. Antoni (Selini Alexander)\n",
            "3 Richards, Master. George Sibley\n",
            "0 Saad, Mr. Amin\n",
            "0 Augustsson, Mr. Albert\n",
            "0 Allum, Mr. Owen George\n",
            "2 Compton, Miss. Sara Rebecca\n",
            "0 Pasic, Mr. Jakob\n",
            "0 Sirota, Mr. Maurice\n",
            "0 Chip, Mr. Chang\n",
            "0 Marechal, Mr. Pierre\n",
            "0 Alhomaki, Mr. Ilmari Rudolf\n",
            "0 Mudd, Mr. Thomas Charles\n",
            "2 Serepeca, Miss. Augusta\n",
            "0 Lemberopolous, Mr. Peter L\n",
            "0 Culumovic, Mr. Jeso\n",
            "0 Abbing, Mr. Anthony\n",
            "0 Sage, Mr. Douglas Bullen\n",
            "0 Markoff, Mr. Marin\n",
            "5 Harper, Rev. John\n",
            "1 Goldenberg, Mrs. Samuel L (Edwiga Grabowska)\n",
            "3 Andersson, Master. Sigvard Harald Elias\n",
            "0 Svensson, Mr. Johan\n",
            "2 Boulos, Miss. Nourelain\n",
            "2 Lines, Miss. Mary Conover\n",
            "1 Carter, Mrs. Ernest Courtenay (Lilian Hughes)\n",
            "1 Aks, Mrs. Sam (Leah Rosen)\n",
            "1 Wick, Mrs. George Dennick (Mary Hitchcock)\n",
            "0 Daly, Mr. Peter Denis \n",
            "1 Baclini, Mrs. Solomon (Latifa Qurban)\n",
            "0 Razi, Mr. Raihed\n",
            "0 Hansen, Mr. Claus Peter\n",
            "0 Giles, Mr. Frederick Edward\n",
            "1 Swift, Mrs. Frederick Joel (Margaret Welles Barron)\n",
            "2 Sage, Miss. Dorothy Edith \"Dolly\"\n",
            "0 Gill, Mr. John William\n",
            "1 Bystrom, Mrs. (Karolina)\n",
            "2 Duran y More, Miss. Asuncion\n",
            "0 Roebling, Mr. Washington Augustus II\n",
            "0 van Melkebeke, Mr. Philemon\n",
            "3 Johnson, Master. Harold Theodor\n",
            "0 Balkic, Mr. Cerin\n",
            "1 Beckwith, Mrs. Richard Leonard (Sallie Monypeny)\n",
            "0 Carlsson, Mr. Frans Olof\n",
            "0 Vander Cruyssen, Mr. Victor\n",
            "1 Abelson, Mrs. Samuel (Hannah Wizosky)\n",
            "2 Najib, Miss. Adele Kiamie \"Jane\"\n",
            "0 Gustafsson, Mr. Alfred Ossian\n",
            "0 Petroff, Mr. Nedelio\n",
            "0 Laleff, Mr. Kristo\n",
            "1 Potter, Mrs. Thomas Jr (Lily Alexenia Wilson)\n",
            "1 Shelley, Mrs. William (Imanita Parrish Hall)\n",
            "0 Markun, Mr. Johann\n",
            "2 Dahlberg, Miss. Gerda Ulrika\n",
            "0 Banfield, Mr. Frederick James\n",
            "0 Sutehall, Mr. Henry Jr\n",
            "1 Rice, Mrs. William (Margaret Norton)\n",
            "5 Montvila, Rev. Juozas\n",
            "2 Graham, Miss. Margaret Edith\n",
            "2 Johnston, Miss. Catherine Helen \"Carrie\"\n",
            "0 Behr, Mr. Karl Howell\n",
            "0 Dooley, Mr. Patrick\n"
          ]
        }
      ]
    },
    {
      "cell_type": "code",
      "source": [
        "pn_alive_arr = np.zeros(6)\n",
        "pn_dead_arr = np.zeros(6)    \n",
        "cnts=np.zeros(6)\n",
        "for index in range(len(n_data)):\n",
        "    ni = get_name_index(n_data[index]) #호칭 인덱스를 구함\n",
        "    if s_data[index] == 0:\n",
        "        pn_dead_arr[ni] +=1\n",
        "    else:\n",
        "        pn_alive_arr[ni] +=1\n",
        "    cnts[ni] +=1\n",
        "pn_alive_arr, pn_dead_arr,cnts\n"
      ],
      "metadata": {
        "colab": {
          "base_uri": "https://localhost:8080/"
        },
        "id": "rXUhK7qMz9wH",
        "outputId": "97013ec9-6721-405c-d7d6-ea147ae3d2b8"
      },
      "execution_count": null,
      "outputs": [
        {
          "output_type": "execute_result",
          "data": {
            "text/plain": [
              "(array([ 81.,  99., 127.,  23.,   3.,   9.]),\n",
              " array([436.,  26.,  55.,  17.,   4.,  11.]),\n",
              " array([517., 125., 182.,  40.,   7.,  20.]))"
            ]
          },
          "metadata": {},
          "execution_count": 109
        }
      ]
    },
    {
      "cell_type": "code",
      "source": [
        "plt.pie(cnts, labels=names_values,autopct=\"%.2f%%\")\n",
        "plt.show()"
      ],
      "metadata": {
        "colab": {
          "base_uri": "https://localhost:8080/",
          "height": 248
        },
        "id": "kc604zcW0AJC",
        "outputId": "9fd27e98-1edd-4251-fb11-4dfb50c2de79"
      },
      "execution_count": null,
      "outputs": [
        {
          "output_type": "display_data",
          "data": {
            "text/plain": [
              "<Figure size 432x288 with 1 Axes>"
            ],
            "image/png": "[encoded data removed]"
          },
          "metadata": {}
        }
      ]
    },
    {
      "cell_type": "code",
      "source": [
        "plt.bar(names_values,pn_alive_arr)\n",
        "plt.bar(names_values,pn_dead_arr,bottom=pn_alive_arr)\n",
        "for i in range(6):\n",
        "  plt.annotate(str(pn_alive_arr[i]),(i-0.12,40))\n",
        "  if pn_alive_arr[i]<40:\n",
        "    plt.annotate(str(pn_dead_arr[i]),(i-0.12,80))\n",
        "  else:\n",
        "    plt.annotate(str(pn_dead_arr[i]),(i-0.12,pn_alive_arr[i]+40))\n",
        "plt.show()"
      ],
      "metadata": {
        "colab": {
          "base_uri": "https://localhost:8080/",
          "height": 265
        },
        "id": "vOfuU38V0I5_",
        "outputId": "c17e735a-89fa-4b7f-b7c8-2a5d1847a404"
      },
      "execution_count": null,
      "outputs": [
        {
          "output_type": "display_data",
          "data": {
            "text/plain": [
              "<Figure size 432x288 with 1 Axes>"
            ],
            "image/png": "[encoded data removed]"
          },
          "metadata": {
            "needs_background": "light"
          }
        }
      ]
    },
    {
      "cell_type": "markdown",
      "source": [
        "# 오늘의 연습"
      ],
      "metadata": {
        "id": "T9XnkOh_ANAz"
      }
    },
    {
      "cell_type": "markdown",
      "source": [
        "1. 타이타닉 자료의 Age를 기준으로 child / adult 나누기"
      ],
      "metadata": {
        "id": "bwM6aiU3IGUv"
      }
    },
    {
      "cell_type": "code",
      "source": [
        "data = pd.read_csv('/train_titanic.csv')\n",
        "data"
      ],
      "metadata": {
        "colab": {
          "base_uri": "https://localhost:8080/",
          "height": 991
        },
        "id": "aUS5Ss9Y0eU5",
        "outputId": "5b95eebd-71ef-4691-d9ab-3247aa85312d"
      },
      "execution_count": null,
      "outputs": [
        {
          "output_type": "execute_result",
          "data": {
            "text/plain": [
              "     PassengerId  Survived  Pclass  \\\n",
              "0              1         0       3   \n",
              "1              2         1       1   \n",
              "2              3         1       3   \n",
              "3              4         1       1   \n",
              "4              5         0       3   \n",
              "..           ...       ...     ...   \n",
              "886          887         0       2   \n",
              "887          888         1       1   \n",
              "888          889         0       3   \n",
              "889          890         1       1   \n",
              "890          891         0       3   \n",
              "\n",
              "                                                  Name     Sex   Age  SibSp  \\\n",
              "0                              Braund, Mr. Owen Harris    male  22.0      1   \n",
              "1    Cumings, Mrs. John Bradley (Florence Briggs Th...  female  38.0      1   \n",
              "2                               Heikkinen, Miss. Laina  female  26.0      0   \n",
              "3         Futrelle, Mrs. Jacques Heath (Lily May Peel)  female  35.0      1   \n",
              "4                             Allen, Mr. William Henry    male  35.0      0   \n",
              "..                                                 ...     ...   ...    ...   \n",
              "886                              Montvila, Rev. Juozas    male  27.0      0   \n",
              "887                       Graham, Miss. Margaret Edith  female  19.0      0   \n",
              "888           Johnston, Miss. Catherine Helen \"Carrie\"  female   NaN      1   \n",
              "889                              Behr, Mr. Karl Howell    male  26.0      0   \n",
              "890                                Dooley, Mr. Patrick    male  32.0      0   \n",
              "\n",
              "     Parch            Ticket     Fare Cabin Embarked  \n",
              "0        0         A/5 21171   7.2500   NaN        S  \n",
              "1        0          PC 17599  71.2833   C85        C  \n",
              "2        0  STON/O2. 3101282   7.9250   NaN        S  \n",
              "3        0            113803  53.1000  C123        S  \n",
              "4        0            373450   8.0500   NaN        S  \n",
              "..     ...               ...      ...   ...      ...  \n",
              "886      0            211536  13.0000   NaN        S  \n",
              "887      0            112053  30.0000   B42        S  \n",
              "888      2        W./C. 6607  23.4500   NaN        S  \n",
              "889      0            111369  30.0000  C148        C  \n",
              "890      0            370376   7.7500   NaN        Q  \n",
              "\n",
              "[891 rows x 12 columns]"
            ],
            "text/html": [
              "\n",
              "  <div id=\"df-52fd04d3-47f3-49fe-98cd-ab9ff53a576f\">\n",
              "    <div class=\"colab-df-container\">\n",
              "      <div>\n",
              "<style scoped>\n",
              "    .dataframe tbody tr th:only-of-type {\n",
              "        vertical-align: middle;\n",
              "    }\n",
              "\n",
              "    .dataframe tbody tr th {\n",
              "        vertical-align: top;\n",
              "    }\n",
              "\n",
              "    .dataframe thead th {\n",
              "        text-align: right;\n",
              "    }\n",
              "</style>\n",
              "<table border=\"1\" class=\"dataframe\">\n",
              "  <thead>\n",
              "    <tr style=\"text-align: right;\">\n",
              "      <th></th>\n",
              "      <th>PassengerId</th>\n",
              "      <th>Survived</th>\n",
              "      <th>Pclass</th>\n",
              "      <th>Name</th>\n",
              "      <th>Sex</th>\n",
              "      <th>Age</th>\n",
              "      <th>SibSp</th>\n",
              "      <th>Parch</th>\n",
              "      <th>Ticket</th>\n",
              "      <th>Fare</th>\n",
              "      <th>Cabin</th>\n",
              "      <th>Embarked</th>\n",
              "    </tr>\n",
              "  </thead>\n",
              "  <tbody>\n",
              "    <tr>\n",
              "      <th>0</th>\n",
              "      <td>1</td>\n",
              "      <td>0</td>\n",
              "      <td>3</td>\n",
              "      <td>Braund, Mr. Owen Harris</td>\n",
              "      <td>male</td>\n",
              "      <td>22.0</td>\n",
              "      <td>1</td>\n",
              "      <td>0</td>\n",
              "      <td>A/5 21171</td>\n",
              "      <td>7.2500</td>\n",
              "      <td>NaN</td>\n",
              "      <td>S</td>\n",
              "    </tr>\n",
              "    <tr>\n",
              "      <th>1</th>\n",
              "      <td>2</td>\n",
              "      <td>1</td>\n",
              "      <td>1</td>\n",
              "      <td>Cumings, Mrs. John Bradley (Florence Briggs Th...</td>\n",
              "      <td>female</td>\n",
              "      <td>38.0</td>\n",
              "      <td>1</td>\n",
              "      <td>0</td>\n",
              "      <td>PC 17599</td>\n",
              "      <td>71.2833</td>\n",
              "      <td>C85</td>\n",
              "      <td>C</td>\n",
              "    </tr>\n",
              "    <tr>\n",
              "      <th>2</th>\n",
              "      <td>3</td>\n",
              "      <td>1</td>\n",
              "      <td>3</td>\n",
              "      <td>Heikkinen, Miss. Laina</td>\n",
              "      <td>female</td>\n",
              "      <td>26.0</td>\n",
              "      <td>0</td>\n",
              "      <td>0</td>\n",
              "      <td>STON/O2. 3101282</td>\n",
              "      <td>7.9250</td>\n",
              "      <td>NaN</td>\n",
              "      <td>S</td>\n",
              "    </tr>\n",
              "    <tr>\n",
              "      <th>3</th>\n",
              "      <td>4</td>\n",
              "      <td>1</td>\n",
              "      <td>1</td>\n",
              "      <td>Futrelle, Mrs. Jacques Heath (Lily May Peel)</td>\n",
              "      <td>female</td>\n",
              "      <td>35.0</td>\n",
              "      <td>1</td>\n",
              "      <td>0</td>\n",
              "      <td>113803</td>\n",
              "      <td>53.1000</td>\n",
              "      <td>C123</td>\n",
              "      <td>S</td>\n",
              "    </tr>\n",
              "    <tr>\n",
              "      <th>4</th>\n",
              "      <td>5</td>\n",
              "      <td>0</td>\n",
              "      <td>3</td>\n",
              "      <td>Allen, Mr. William Henry</td>\n",
              "      <td>male</td>\n",
              "      <td>35.0</td>\n",
              "      <td>0</td>\n",
              "      <td>0</td>\n",
              "      <td>373450</td>\n",
              "      <td>8.0500</td>\n",
              "      <td>NaN</td>\n",
              "      <td>S</td>\n",
              "    </tr>\n",
              "    <tr>\n",
              "      <th>...</th>\n",
              "      <td>...</td>\n",
              "      <td>...</td>\n",
              "      <td>...</td>\n",
              "      <td>...</td>\n",
              "      <td>...</td>\n",
              "      <td>...</td>\n",
              "      <td>...</td>\n",
              "      <td>...</td>\n",
              "      <td>...</td>\n",
              "      <td>...</td>\n",
              "      <td>...</td>\n",
              "      <td>...</td>\n",
              "    </tr>\n",
              "    <tr>\n",
              "      <th>886</th>\n",
              "      <td>887</td>\n",
              "      <td>0</td>\n",
              "      <td>2</td>\n",
              "      <td>Montvila, Rev. Juozas</td>\n",
              "      <td>male</td>\n",
              "      <td>27.0</td>\n",
              "      <td>0</td>\n",
              "      <td>0</td>\n",
              "      <td>211536</td>\n",
              "      <td>13.0000</td>\n",
              "      <td>NaN</td>\n",
              "      <td>S</td>\n",
              "    </tr>\n",
              "    <tr>\n",
              "      <th>887</th>\n",
              "      <td>888</td>\n",
              "      <td>1</td>\n",
              "      <td>1</td>\n",
              "      <td>Graham, Miss. Margaret Edith</td>\n",
              "      <td>female</td>\n",
              "      <td>19.0</td>\n",
              "      <td>0</td>\n",
              "      <td>0</td>\n",
              "      <td>112053</td>\n",
              "      <td>30.0000</td>\n",
              "      <td>B42</td>\n",
              "      <td>S</td>\n",
              "    </tr>\n",
              "    <tr>\n",
              "      <th>888</th>\n",
              "      <td>889</td>\n",
              "      <td>0</td>\n",
              "      <td>3</td>\n",
              "      <td>Johnston, Miss. Catherine Helen \"Carrie\"</td>\n",
              "      <td>female</td>\n",
              "      <td>NaN</td>\n",
              "      <td>1</td>\n",
              "      <td>2</td>\n",
              "      <td>W./C. 6607</td>\n",
              "      <td>23.4500</td>\n",
              "      <td>NaN</td>\n",
              "      <td>S</td>\n",
              "    </tr>\n",
              "    <tr>\n",
              "      <th>889</th>\n",
              "      <td>890</td>\n",
              "      <td>1</td>\n",
              "      <td>1</td>\n",
              "      <td>Behr, Mr. Karl Howell</td>\n",
              "      <td>male</td>\n",
              "      <td>26.0</td>\n",
              "      <td>0</td>\n",
              "      <td>0</td>\n",
              "      <td>111369</td>\n",
              "      <td>30.0000</td>\n",
              "      <td>C148</td>\n",
              "      <td>C</td>\n",
              "    </tr>\n",
              "    <tr>\n",
              "      <th>890</th>\n",
              "      <td>891</td>\n",
              "      <td>0</td>\n",
              "      <td>3</td>\n",
              "      <td>Dooley, Mr. Patrick</td>\n",
              "      <td>male</td>\n",
              "      <td>32.0</td>\n",
              "      <td>0</td>\n",
              "      <td>0</td>\n",
              "      <td>370376</td>\n",
              "      <td>7.7500</td>\n",
              "      <td>NaN</td>\n",
              "      <td>Q</td>\n",
              "    </tr>\n",
              "  </tbody>\n",
              "</table>\n",
              "<p>891 rows × 12 columns</p>\n",
              "</div>\n",
              "      <button class=\"colab-df-convert\" onclick=\"convertToInteractive('df-52fd04d3-47f3-49fe-98cd-ab9ff53a576f')\"\n",
              "              title=\"Convert this dataframe to an interactive table.\"\n",
              "              style=\"display:none;\">\n",
              "        \n",
              "  <svg xmlns=\"http://www.w3.org/2000/svg\" height=\"24px\"viewBox=\"0 0 24 24\"\n",
              "       width=\"24px\">\n",
              "    <path d=\"M0 0h24v24H0V0z\" fill=\"none\"/>\n",
              "    <path d=\"M18.56 5.44l.94 2.06.94-2.06 2.06-.94-2.06-.94-.94-2.06-.94 2.06-2.06.94zm-11 1L8.5 8.5l.94-2.06 2.06-.94-2.06-.94L8.5 2.5l-.94 2.06-2.06.94zm10 10l.94 2.06.94-2.06 2.06-.94-2.06-.94-.94-2.06-.94 2.06-2.06.94z\"/><path d=\"M17.41 7.96l-1.37-1.37c-.4-.4-.92-.59-1.43-.59-.52 0-1.04.2-1.43.59L10.3 9.45l-7.72 7.72c-.78.78-.78 2.05 0 2.83L4 21.41c.39.39.9.59 1.41.59.51 0 1.02-.2 1.41-.59l7.78-7.78 2.81-2.81c.8-.78.8-2.07 0-2.86zM5.41 20L4 18.59l7.72-7.72 1.47 1.35L5.41 20z\"/>\n",
              "  </svg>\n",
              "      </button>\n",
              "      \n",
              "  <style>\n",
              "    .colab-df-container {\n",
              "      display:flex;\n",
              "      flex-wrap:wrap;\n",
              "      gap: 12px;\n",
              "    }\n",
              "\n",
              "    .colab-df-convert {\n",
              "      background-color: #E8F0FE;\n",
              "      border: none;\n",
              "      border-radius: 50%;\n",
              "      cursor: pointer;\n",
              "      display: none;\n",
              "      fill: #1967D2;\n",
              "      height: 32px;\n",
              "      padding: 0 0 0 0;\n",
              "      width: 32px;\n",
              "    }\n",
              "\n",
              "    .colab-df-convert:hover {\n",
              "      background-color: #E2EBFA;\n",
              "      box-shadow: 0px 1px 2px rgba(60, 64, 67, 0.3), 0px 1px 3px 1px rgba(60, 64, 67, 0.15);\n",
              "      fill: #174EA6;\n",
              "    }\n",
              "\n",
              "    [theme=dark] .colab-df-convert {\n",
              "      background-color: #3B4455;\n",
              "      fill: #D2E3FC;\n",
              "    }\n",
              "\n",
              "    [theme=dark] .colab-df-convert:hover {\n",
              "      background-color: #434B5C;\n",
              "      box-shadow: 0px 1px 3px 1px rgba(0, 0, 0, 0.15);\n",
              "      filter: drop-shadow(0px 1px 2px rgba(0, 0, 0, 0.3));\n",
              "      fill: #FFFFFF;\n",
              "    }\n",
              "  </style>\n",
              "\n",
              "      <script>\n",
              "        const buttonEl =\n",
              "          document.querySelector('#df-52fd04d3-47f3-49fe-98cd-ab9ff53a576f button.colab-df-convert');\n",
              "        buttonEl.style.display =\n",
              "          google.colab.kernel.accessAllowed ? 'block' : 'none';\n",
              "\n",
              "        async function convertToInteractive(key) {\n",
              "          const element = document.querySelector('#df-52fd04d3-47f3-49fe-98cd-ab9ff53a576f');\n",
              "          const dataTable =\n",
              "            await google.colab.kernel.invokeFunction('convertToInteractive',\n",
              "                                                     [key], {});\n",
              "          if (!dataTable) return;\n",
              "\n",
              "          const docLinkHtml = 'Like what you see? Visit the ' +\n",
              "            '<a target=\"_blank\" href=https://colab.research.google.com/notebooks/data_table.ipynb>data table notebook</a>'\n",
              "            + ' to learn more about interactive tables.';\n",
              "          element.innerHTML = '';\n",
              "          dataTable['output_type'] = 'display_data';\n",
              "          await google.colab.output.renderOutput(dataTable, element);\n",
              "          const docLink = document.createElement('div');\n",
              "          docLink.innerHTML = docLinkHtml;\n",
              "          element.appendChild(docLink);\n",
              "        }\n",
              "      </script>\n",
              "    </div>\n",
              "  </div>\n",
              "  "
            ]
          },
          "metadata": {},
          "execution_count": 123
        }
      ]
    },
    {
      "cell_type": "code",
      "source": [
        "age_data = data['Age']\n",
        "age_data = age_data.dropna()\n",
        "age_data"
      ],
      "metadata": {
        "colab": {
          "base_uri": "https://localhost:8080/"
        },
        "id": "dS5BX-2nAsJ0",
        "outputId": "490b96cc-53ff-475c-e201-d540ba77477c"
      },
      "execution_count": null,
      "outputs": [
        {
          "output_type": "execute_result",
          "data": {
            "text/plain": [
              "0      22.0\n",
              "1      38.0\n",
              "2      26.0\n",
              "3      35.0\n",
              "4      35.0\n",
              "       ... \n",
              "885    39.0\n",
              "886    27.0\n",
              "887    19.0\n",
              "889    26.0\n",
              "890    32.0\n",
              "Name: Age, Length: 714, dtype: float64"
            ]
          },
          "metadata": {},
          "execution_count": 129
        }
      ]
    },
    {
      "cell_type": "code",
      "source": [
        "av = age_data.value_counts()\n",
        "av"
      ],
      "metadata": {
        "colab": {
          "base_uri": "https://localhost:8080/"
        },
        "id": "WvG7lT5qBgx6",
        "outputId": "2ce8fbec-5bea-490c-c52c-6a30c1eadac8"
      },
      "execution_count": null,
      "outputs": [
        {
          "output_type": "execute_result",
          "data": {
            "text/plain": [
              "24.00    30\n",
              "22.00    27\n",
              "18.00    26\n",
              "19.00    25\n",
              "28.00    25\n",
              "         ..\n",
              "36.50     1\n",
              "55.50     1\n",
              "0.92      1\n",
              "23.50     1\n",
              "74.00     1\n",
              "Name: Age, Length: 88, dtype: int64"
            ]
          },
          "metadata": {},
          "execution_count": 142
        }
      ]
    },
    {
      "cell_type": "code",
      "source": [
        "child = 0\n",
        "adult = 0\n",
        "\n",
        "for i in age_data:\n",
        "  if i < 12:\n",
        "    child += 1\n",
        "  else:\n",
        "    adult += 1\n",
        "\n",
        "\n",
        "# av_child= np.zeros(2)\n",
        "# av_adult = np.zeros(2)    \n",
        "# for index in range(len(age_data)):\n",
        "#     if age_data[index] < 12:\n",
        "#         av_child +=1\n",
        "#     else:\n",
        "#         av_adult +=1\n",
        "# av_child,av_adult"
      ],
      "metadata": {
        "id": "GSzARmUzATs3"
      },
      "execution_count": null,
      "outputs": []
    },
    {
      "cell_type": "code",
      "source": [
        "plt.pie([child,adult],labels=[f\"child: {child}\",f\"adult: {adult}\"],autopct=\"%.2f%%\")\n",
        "plt.show()"
      ],
      "metadata": {
        "colab": {
          "base_uri": "https://localhost:8080/",
          "height": 248
        },
        "id": "UJCWISiVCvSV",
        "outputId": "ce2d4c7b-d11e-4200-e85b-34296144f836"
      },
      "execution_count": null,
      "outputs": [
        {
          "output_type": "display_data",
          "data": {
            "text/plain": [
              "<Figure size 432x288 with 1 Axes>"
            ],
            "image/png": "[encoded data removed]"
          },
          "metadata": {}
        }
      ]
    },
    {
      "cell_type": "markdown",
      "source": [
        "iris.csv를 가져와서 데이터 그래프로 시각화"
      ],
      "metadata": {
        "id": "PcV30aY9InXG"
      }
    },
    {
      "cell_type": "code",
      "source": [
        "re = pd.read_csv('/iris.csv')\n",
        "re"
      ],
      "metadata": {
        "colab": {
          "base_uri": "https://localhost:8080/",
          "height": 424
        },
        "id": "bWRb-lISDFJx",
        "outputId": "3ce37264-c2cb-42ed-c398-986f51f69ef6"
      },
      "execution_count": null,
      "outputs": [
        {
          "output_type": "execute_result",
          "data": {
            "text/plain": [
              "     sepal.length  sepal.width  petal.length  petal.width    variety\n",
              "0             5.1          3.5           1.4          0.2     Setosa\n",
              "1             4.9          3.0           1.4          0.2     Setosa\n",
              "2             4.7          3.2           1.3          0.2     Setosa\n",
              "3             4.6          3.1           1.5          0.2     Setosa\n",
              "4             5.0          3.6           1.4          0.2     Setosa\n",
              "..            ...          ...           ...          ...        ...\n",
              "145           6.7          3.0           5.2          2.3  Virginica\n",
              "146           6.3          2.5           5.0          1.9  Virginica\n",
              "147           6.5          3.0           5.2          2.0  Virginica\n",
              "148           6.2          3.4           5.4          2.3  Virginica\n",
              "149           5.9          3.0           5.1          1.8  Virginica\n",
              "\n",
              "[150 rows x 5 columns]"
            ],
            "text/html": [
              "\n",
              "  <div id=\"df-07f483aa-c8e2-44d7-bf19-d273ddc5ed7e\">\n",
              "    <div class=\"colab-df-container\">\n",
              "      <div>\n",
              "<style scoped>\n",
              "    .dataframe tbody tr th:only-of-type {\n",
              "        vertical-align: middle;\n",
              "    }\n",
              "\n",
              "    .dataframe tbody tr th {\n",
              "        vertical-align: top;\n",
              "    }\n",
              "\n",
              "    .dataframe thead th {\n",
              "        text-align: right;\n",
              "    }\n",
              "</style>\n",
              "<table border=\"1\" class=\"dataframe\">\n",
              "  <thead>\n",
              "    <tr style=\"text-align: right;\">\n",
              "      <th></th>\n",
              "      <th>sepal.length</th>\n",
              "      <th>sepal.width</th>\n",
              "      <th>petal.length</th>\n",
              "      <th>petal.width</th>\n",
              "      <th>variety</th>\n",
              "    </tr>\n",
              "  </thead>\n",
              "  <tbody>\n",
              "    <tr>\n",
              "      <th>0</th>\n",
              "      <td>5.1</td>\n",
              "      <td>3.5</td>\n",
              "      <td>1.4</td>\n",
              "      <td>0.2</td>\n",
              "      <td>Setosa</td>\n",
              "    </tr>\n",
              "    <tr>\n",
              "      <th>1</th>\n",
              "      <td>4.9</td>\n",
              "      <td>3.0</td>\n",
              "      <td>1.4</td>\n",
              "      <td>0.2</td>\n",
              "      <td>Setosa</td>\n",
              "    </tr>\n",
              "    <tr>\n",
              "      <th>2</th>\n",
              "      <td>4.7</td>\n",
              "      <td>3.2</td>\n",
              "      <td>1.3</td>\n",
              "      <td>0.2</td>\n",
              "      <td>Setosa</td>\n",
              "    </tr>\n",
              "    <tr>\n",
              "      <th>3</th>\n",
              "      <td>4.6</td>\n",
              "      <td>3.1</td>\n",
              "      <td>1.5</td>\n",
              "      <td>0.2</td>\n",
              "      <td>Setosa</td>\n",
              "    </tr>\n",
              "    <tr>\n",
              "      <th>4</th>\n",
              "      <td>5.0</td>\n",
              "      <td>3.6</td>\n",
              "      <td>1.4</td>\n",
              "      <td>0.2</td>\n",
              "      <td>Setosa</td>\n",
              "    </tr>\n",
              "    <tr>\n",
              "      <th>...</th>\n",
              "      <td>...</td>\n",
              "      <td>...</td>\n",
              "      <td>...</td>\n",
              "      <td>...</td>\n",
              "      <td>...</td>\n",
              "    </tr>\n",
              "    <tr>\n",
              "      <th>145</th>\n",
              "      <td>6.7</td>\n",
              "      <td>3.0</td>\n",
              "      <td>5.2</td>\n",
              "      <td>2.3</td>\n",
              "      <td>Virginica</td>\n",
              "    </tr>\n",
              "    <tr>\n",
              "      <th>146</th>\n",
              "      <td>6.3</td>\n",
              "      <td>2.5</td>\n",
              "      <td>5.0</td>\n",
              "      <td>1.9</td>\n",
              "      <td>Virginica</td>\n",
              "    </tr>\n",
              "    <tr>\n",
              "      <th>147</th>\n",
              "      <td>6.5</td>\n",
              "      <td>3.0</td>\n",
              "      <td>5.2</td>\n",
              "      <td>2.0</td>\n",
              "      <td>Virginica</td>\n",
              "    </tr>\n",
              "    <tr>\n",
              "      <th>148</th>\n",
              "      <td>6.2</td>\n",
              "      <td>3.4</td>\n",
              "      <td>5.4</td>\n",
              "      <td>2.3</td>\n",
              "      <td>Virginica</td>\n",
              "    </tr>\n",
              "    <tr>\n",
              "      <th>149</th>\n",
              "      <td>5.9</td>\n",
              "      <td>3.0</td>\n",
              "      <td>5.1</td>\n",
              "      <td>1.8</td>\n",
              "      <td>Virginica</td>\n",
              "    </tr>\n",
              "  </tbody>\n",
              "</table>\n",
              "<p>150 rows × 5 columns</p>\n",
              "</div>\n",
              "      <button class=\"colab-df-convert\" onclick=\"convertToInteractive('df-07f483aa-c8e2-44d7-bf19-d273ddc5ed7e')\"\n",
              "              title=\"Convert this dataframe to an interactive table.\"\n",
              "              style=\"display:none;\">\n",
              "        \n",
              "  <svg xmlns=\"http://www.w3.org/2000/svg\" height=\"24px\"viewBox=\"0 0 24 24\"\n",
              "       width=\"24px\">\n",
              "    <path d=\"M0 0h24v24H0V0z\" fill=\"none\"/>\n",
              "    <path d=\"M18.56 5.44l.94 2.06.94-2.06 2.06-.94-2.06-.94-.94-2.06-.94 2.06-2.06.94zm-11 1L8.5 8.5l.94-2.06 2.06-.94-2.06-.94L8.5 2.5l-.94 2.06-2.06.94zm10 10l.94 2.06.94-2.06 2.06-.94-2.06-.94-.94-2.06-.94 2.06-2.06.94z\"/><path d=\"M17.41 7.96l-1.37-1.37c-.4-.4-.92-.59-1.43-.59-.52 0-1.04.2-1.43.59L10.3 9.45l-7.72 7.72c-.78.78-.78 2.05 0 2.83L4 21.41c.39.39.9.59 1.41.59.51 0 1.02-.2 1.41-.59l7.78-7.78 2.81-2.81c.8-.78.8-2.07 0-2.86zM5.41 20L4 18.59l7.72-7.72 1.47 1.35L5.41 20z\"/>\n",
              "  </svg>\n",
              "      </button>\n",
              "      \n",
              "  <style>\n",
              "    .colab-df-container {\n",
              "      display:flex;\n",
              "      flex-wrap:wrap;\n",
              "      gap: 12px;\n",
              "    }\n",
              "\n",
              "    .colab-df-convert {\n",
              "      background-color: #E8F0FE;\n",
              "      border: none;\n",
              "      border-radius: 50%;\n",
              "      cursor: pointer;\n",
              "      display: none;\n",
              "      fill: #1967D2;\n",
              "      height: 32px;\n",
              "      padding: 0 0 0 0;\n",
              "      width: 32px;\n",
              "    }\n",
              "\n",
              "    .colab-df-convert:hover {\n",
              "      background-color: #E2EBFA;\n",
              "      box-shadow: 0px 1px 2px rgba(60, 64, 67, 0.3), 0px 1px 3px 1px rgba(60, 64, 67, 0.15);\n",
              "      fill: #174EA6;\n",
              "    }\n",
              "\n",
              "    [theme=dark] .colab-df-convert {\n",
              "      background-color: #3B4455;\n",
              "      fill: #D2E3FC;\n",
              "    }\n",
              "\n",
              "    [theme=dark] .colab-df-convert:hover {\n",
              "      background-color: #434B5C;\n",
              "      box-shadow: 0px 1px 3px 1px rgba(0, 0, 0, 0.15);\n",
              "      filter: drop-shadow(0px 1px 2px rgba(0, 0, 0, 0.3));\n",
              "      fill: #FFFFFF;\n",
              "    }\n",
              "  </style>\n",
              "\n",
              "      <script>\n",
              "        const buttonEl =\n",
              "          document.querySelector('#df-07f483aa-c8e2-44d7-bf19-d273ddc5ed7e button.colab-df-convert');\n",
              "        buttonEl.style.display =\n",
              "          google.colab.kernel.accessAllowed ? 'block' : 'none';\n",
              "\n",
              "        async function convertToInteractive(key) {\n",
              "          const element = document.querySelector('#df-07f483aa-c8e2-44d7-bf19-d273ddc5ed7e');\n",
              "          const dataTable =\n",
              "            await google.colab.kernel.invokeFunction('convertToInteractive',\n",
              "                                                     [key], {});\n",
              "          if (!dataTable) return;\n",
              "\n",
              "          const docLinkHtml = 'Like what you see? Visit the ' +\n",
              "            '<a target=\"_blank\" href=https://colab.research.google.com/notebooks/data_table.ipynb>data table notebook</a>'\n",
              "            + ' to learn more about interactive tables.';\n",
              "          element.innerHTML = '';\n",
              "          dataTable['output_type'] = 'display_data';\n",
              "          await google.colab.output.renderOutput(dataTable, element);\n",
              "          const docLink = document.createElement('div');\n",
              "          docLink.innerHTML = docLinkHtml;\n",
              "          element.appendChild(docLink);\n",
              "        }\n",
              "      </script>\n",
              "    </div>\n",
              "  </div>\n",
              "  "
            ]
          },
          "metadata": {},
          "execution_count": 153
        }
      ]
    },
    {
      "cell_type": "code",
      "source": [
        "rv = re['variety']\n",
        "rv\n",
        "rv_cnt = rv.value_counts()\n",
        "rv_cnt"
      ],
      "metadata": {
        "colab": {
          "base_uri": "https://localhost:8080/"
        },
        "id": "hYI4CTKUIz74",
        "outputId": "95c6bb22-721f-47c9-e549-e903fee909a0"
      },
      "execution_count": null,
      "outputs": [
        {
          "output_type": "execute_result",
          "data": {
            "text/plain": [
              "Setosa        50\n",
              "Versicolor    50\n",
              "Virginica     50\n",
              "Name: variety, dtype: int64"
            ]
          },
          "metadata": {},
          "execution_count": 164
        }
      ]
    },
    {
      "cell_type": "code",
      "source": [
        "plt.hist(rv)\n",
        "plt.figure(3)\n",
        "plt.plot(rv)\n",
        "plt.show()\n",
        "\n",
        "# plt.plot(xs,ys)  #디폴트 figure (figure(1))에 그려줌\n",
        "# plt.figure(2) #이번에 그림을 그릴 figure를 선택\n",
        "# plt.plot(xs,ys2)\n",
        "# plt.figure(3)\n",
        "# plt.plot(xs,ys3)\n",
        "# plt.show()"
      ],
      "metadata": {
        "colab": {
          "base_uri": "https://localhost:8080/",
          "height": 513
        },
        "id": "w2JfecF5I71D",
        "outputId": "fc5a65b2-f09e-429b-dec6-91ab14c8aa60"
      },
      "execution_count": null,
      "outputs": [
        {
          "output_type": "display_data",
          "data": {
            "text/plain": [
              "<Figure size 432x288 with 1 Axes>"
            ],
            "image/png": "[encoded data removed]"
          },
          "metadata": {
            "needs_background": "light"
          }
        },
        {
          "output_type": "display_data",
          "data": {
            "text/plain": [
              "<Figure size 432x288 with 1 Axes>"
            ],
            "image/png": "[encoded data removed]"
          },
          "metadata": {
            "needs_background": "light"
          }
        }
      ]
    },
    {
      "cell_type": "markdown",
      "source": [
        "2번 공공 데이터를 가져와서 그래프로 나타내기"
      ],
      "metadata": {
        "id": "FkCmmsvDrna-"
      }
    },
    {
      "cell_type": "code",
      "source": [
        "import urllib.request\n",
        "from bs4 import BeautifulSoup"
      ],
      "metadata": {
        "id": "lwArZV4c1caZ"
      },
      "execution_count": 16,
      "outputs": []
    },
    {
      "cell_type": "code",
      "source": [
        "client_id = 'ICJJx6x7ygogtezSfUgx'\n",
        "client_secret = 'Saaw1DiedV'\n",
        "cid='X-Naver-Client-Id'\n",
        "csec = 'X-Naver-Client-Secret'"
      ],
      "metadata": {
        "id": "8HqSqaRNJDP_"
      },
      "execution_count": 34,
      "outputs": []
    },
    {
      "cell_type": "code",
      "source": [
        "site_url = 'https://openapi.naver.com/v1/search/book.xml'"
      ],
      "metadata": {
        "id": "ed1Rre9uvARX"
      },
      "execution_count": 35,
      "outputs": []
    },
    {
      "cell_type": "code",
      "source": [
        "query = input(\"검색어:\")"
      ],
      "metadata": {
        "colab": {
          "base_uri": "https://localhost:8080/"
        },
        "id": "4DfQ_kL72GMq",
        "outputId": "fe91839d-1491-4e14-dc89-4a7ed6a491d4"
      },
      "execution_count": 36,
      "outputs": [
        {
          "name": "stdout",
          "output_type": "stream",
          "text": [
            "검색어:하늘\n"
          ]
        }
      ]
    },
    {
      "cell_type": "code",
      "source": [
        "q_param = \"query=\"+urllib.parse.quote(query)\n",
        "print(q_param)"
      ],
      "metadata": {
        "colab": {
          "base_uri": "https://localhost:8080/"
        },
        "id": "qgD8CNGV2pfp",
        "outputId": "ecb662ed-79c6-4fd8-c50c-97f5f336208a"
      },
      "execution_count": 37,
      "outputs": [
        {
          "output_type": "stream",
          "name": "stdout",
          "text": [
            "query=%ED%95%98%EB%8A%98\n"
          ]
        }
      ]
    },
    {
      "cell_type": "code",
      "source": [
        "query_str = site_url+'?'+q_param\n",
        "print(query_str)"
      ],
      "metadata": {
        "colab": {
          "base_uri": "https://localhost:8080/"
        },
        "id": "yoz5yvVx59gv",
        "outputId": "b27454ee-de59-4f2e-ac93-2a59b92e9b4d"
      },
      "execution_count": 38,
      "outputs": [
        {
          "output_type": "stream",
          "name": "stdout",
          "text": [
            "https://openapi.naver.com/v1/search/book.xml?query=%ED%95%98%EB%8A%98\n"
          ]
        }
      ]
    },
    {
      "cell_type": "code",
      "source": [
        "request = urllib.request.Request(query_str) #요청 가능한 개체 생성\n",
        "request.add_header(cid,client_id) # 헤더에 client id 추가\n",
        "request.add_header(csec,client_secret) # 헤더 client secret 추가"
      ],
      "metadata": {
        "id": "F_oaqIb559ez"
      },
      "execution_count": 39,
      "outputs": []
    },
    {
      "cell_type": "code",
      "source": [
        "response = urllib.request.urlopen(request) #웹 서버에 요청\n",
        "if response.getcode() != 200:\n",
        "  print(\"요청실패!!\")\n",
        "else : \n",
        "  print(\"성공!!\")"
      ],
      "metadata": {
        "colab": {
          "base_uri": "https://localhost:8080/"
        },
        "id": "FBczVKa_59bJ",
        "outputId": "c690943d-5a05-4880-caf9-2a80235c54f3"
      },
      "execution_count": 40,
      "outputs": [
        {
          "output_type": "stream",
          "name": "stdout",
          "text": [
            "성공!!\n"
          ]
        }
      ]
    },
    {
      "cell_type": "code",
      "source": [
        "data = response.read().decode('utf-8')\n",
        "print(data)"
      ],
      "metadata": {
        "colab": {
          "base_uri": "https://localhost:8080/"
        },
        "id": "R3VpwVJK6CIx",
        "outputId": "c5709b67-dc0e-4edf-e7e7-c40da6cb1811"
      },
      "execution_count": 41,
      "outputs": [
        {
          "output_type": "stream",
          "name": "stdout",
          "text": [
            "<?xml version=\"1.0\" encoding=\"UTF-8\"?><rss version=\"2.0\"><channel><title>Naver Open API - book ::'하늘'</title><link>https://search.naver.com</link><description>Naver Search Result</description><lastBuildDate>Wed, 11 May 2022 20:37:00 +0900</lastBuildDate><total>100012</total><start>1</start><display>10</display><item><title>아기 동요 세상(&lt;b&gt;하늘&lt;/b&gt;)(튤립 사운드북)</title><link>http://book.naver.com/bookdb/book_detail.php?bid=22432585</link><image>https://bookthumb-phinf.pstatic.net/cover/224/325/22432585.jpg?type=m1&amp;udate=20220505</image><author>김혜진</author><price>18500</price><discount>16650</discount><publisher>스마트베어</publisher><pubdate>20220415</pubdate><isbn>0000113700 2090000113709</isbn><description>신나는 노래와 함께 행복한 아기 세상!200만 육아맘의 선택을 받은 튤립 사운드북 시리즈가 새롭게 업그레이드되었습니다. 튤립 사운드북의 첫 번째 캣 버전인 〈아기 동요 세상〉은 버튼 한 번만 누르면 동요가 연속적으로 반복 재생되는 오토리버스 기능이 있어 버튼을 다시 눌러야 하는 번거로움이 없고... </description></item><item><title>너의 &lt;b&gt;하늘&lt;/b&gt;을 보아(양장본 HardCover) (박노해 시집)</title><link>http://book.naver.com/bookdb/book_detail.php?bid=22445987</link><image>https://bookthumb-phinf.pstatic.net/cover/224/459/22445987.jpg?type=m1&amp;udate=20220505</image><author>박노해</author><price>19500</price><discount>17550</discount><publisher>느린걸음</publisher><pubdate>20220503</pubdate><isbn>8991418333 9788991418332</isbn><description>『그러니 그대 사라지지 말아라』 이후 박노해 시인의 12년만의 신작시집“아무것도 없다고 생각되는 순간조차우리 모두에게는 자신만의 &lt;b&gt;하늘&lt;/b&gt;이 있다”... 담겼습니다.&lt;b&gt;하늘&lt;/b&gt;같은 마음의 그대에게 박노해 시인이 건네는 별빛같은 시집, 『너의 &lt;b&gt;하늘&lt;/b&gt;을 보아』“힘들고 앞이 안 보일 때는 / 너의 &lt;b&gt;하늘&lt;/b&gt;을 보아 // 네가... </description></item><item><title>&lt;b&gt;하늘&lt;/b&gt;과 바람과 별과 시 (윤동주 전 시집, 서거 77주년, 탄생 105주년 기념 &apos;&lt;b&gt;하늘&lt;/b&gt;과 바람과 별과 시&apos;)</title><link>http://book.naver.com/bookdb/book_detail.php?bid=21982801</link><image>https://bookthumb-phinf.pstatic.net/cover/219/828/21982801.jpg?type=m1&amp;udate=20220217</image><author>윤동주</author><price>13000</price><discount>11700</discount><publisher>스타북스</publisher><pubdate>20220216</pubdate><isbn>1157956351 9791157956357</isbn><description>서거 77주년 탄생 105주년 기념 ‘&lt;b&gt;하늘&lt;/b&gt;과 바람과 별과 시’스테디셀러 『윤동주 전 시집』의 고급양장 뉴 에디션“3국을 아우르며 나날이 인기를... 시집 ‘&lt;b&gt;하늘&lt;/b&gt;과 바람과 별과 시’』는 윤동주 시인의 작품 전체를 비롯해 발문 및 후기까지를 모두 발굴하여 한 권에 담은 유일한 시집이다. 이 시집은 2017년... </description></item><item><title>한국 시집 초간본 100주년 기념판 &lt;b&gt;하늘&lt;/b&gt; 세트</title><link>http://book.naver.com/bookdb/book_detail.php?bid=22317807</link><image>https://bookthumb-phinf.pstatic.net/cover/223/178/22317807.jpg?type=m1&amp;udate=20220406</image><author>김억|김소월|한용운|정지용|김영랑</author><price>38000</price><discount>34200</discount><publisher>열린책들</publisher><pubdate>20220325</pubdate><isbn>8932922098 9788932922096</isbn><description>그렇게 최초의 창작시집 『해파리의 노래』(1923)부터 윤동주 시인의 『&lt;b&gt;하늘&lt;/b&gt;과 바람과 별과 시』(1948)까지 사반세기를 아우르는 스무 권의 시집이... &lt;b&gt;하늘&lt;/b&gt; 세트에는 주로 이상적인 세계(자연, 종교, 고향, 유년 시절 등)에 대한 향수를 서정적이고 차분하게 노래한 시집을 모았으며, 바람 세트에는 새로운 세계에... </description></item><item><title>&lt;b&gt;하늘&lt;/b&gt;양식 (2022 가정예배서)</title><link>http://book.naver.com/bookdb/book_detail.php?bid=21292836</link><image>https://bookthumb-phinf.pstatic.net/cover/212/928/21292836.jpg?type=m1&amp;udate=20211124</image><author>KMC 편집부</author><price>16000</price><discount>14400</discount><publisher>kmc</publisher><pubdate>20211115</pubdate><isbn>8984308625 9788984308626</isbn><description>가정예배는 ‘영혼의 밥상’이자 ‘숨겨진 &lt;b&gt;하늘&lt;/b&gt;의 보화’입니다.한상에 둘러앉아 먹고 마시듯 영적인 자양분을 섭취하는 밥상입니다.가정예배로 성령 충만하면 상처가 치유됩니다.위기가 닥쳐와도 이겨낼 수 있습니다.우리를 위해 준비된 &lt;b&gt;하늘&lt;/b&gt;의 보화입니다.올해 『&lt;b&gt;하늘&lt;/b&gt;양식』 은  - 연륜 있는 180여 명의... </description></item><item><title>파란&lt;b&gt;하늘&lt;/b&gt; 빨간지구 (기후변화와 인류세, 지구시스템에 관한 통합적 논의)</title><link>http://book.naver.com/bookdb/book_detail.php?bid=14648716</link><image>https://bookthumb-phinf.pstatic.net/cover/146/487/14648716.jpg?type=m1&amp;udate=20220112</image><author>조천호</author><price>16000</price><discount>14400</discount><publisher>동아시아</publisher><pubdate>20190329</pubdate><isbn>8962622718 9788962622713</isbn><description>먼 미래가 아닌 바로 지금 이 순간 직면한 위험, 기후변화를 말하다!조천호 전 국립기상과학원 원장은 일반인의 눈높이에서 기후변화 시대의 본질을 설명하는 『파란&lt;b&gt;하늘&lt;/b&gt; 빨간지구』. 우리가 누리고 있는 문명은 인간의 능력으로 이룩한 것 같지만, 사실 특정한 기후 조건에서 가능했던 우연의 산물이다. 현대... </description></item><item><title>&lt;b&gt;하늘&lt;/b&gt; 100층짜리 집</title><link>http://book.naver.com/bookdb/book_detail.php?bid=12753269</link><image>https://bookthumb-phinf.pstatic.net/cover/127/532/12753269.jpg?type=m1&amp;udate=20220302</image><author>이와이 도시오</author><price>12000</price><discount>10800</discount><publisher>북뱅크</publisher><pubdate>20171225</pubdate><isbn>8966350755 9788966350759</isbn><description>&lt;b&gt;하늘&lt;/b&gt; 100층짜리 집에는 누가누가 살고 있을까요?\n",
            "\n",
            "기발한 상상력이 돋보이는 색다른 감각의 숫자 그림책 「100층짜리 집」시리즈 제4탄 『&lt;b&gt;하늘&lt;/b&gt; 100층짜리 집』. 지상, 지하, 바다에 이어 &lt;b&gt;하늘&lt;/b&gt;에도 100층짜리 집이 있습니다. 어린 박새 추피가 &lt;b&gt;하늘&lt;/b&gt; 100층짜리 집을 10층, 20층, 30층… 이렇게 10층씩 올라가는 사이... </description></item><item><title>&lt;b&gt;하늘&lt;/b&gt;과 바람과 별과 시 (윤동주 유고시집, 1955년 10주기 기념)</title><link>http://book.naver.com/bookdb/book_detail.php?bid=9991568</link><image>https://bookthumb-phinf.pstatic.net/cover/099/915/09991568.jpg?type=m1&amp;udate=20201225</image><author>윤동주</author><price>9800</price><discount>8820</discount><publisher>소와다리</publisher><pubdate>20160209</pubdate><isbn>8998046687 9788998046682</isbn><description>별이 된 유고시집 [&lt;b&gt;하늘&lt;/b&gt;과 바람과 별과 詩] &amp;#x0D;1955년 10주기 기념 증보판&amp;#x0D;&amp;#x0D;“죽는 날까지 &lt;b&gt;하늘&lt;/b&gt;을 우르러 한 점 부끄럼이 없기를...”&amp;#x0D;&amp;#x0D;... 도움으로 [&lt;b&gt;하늘&lt;/b&gt;과 바람과 별과 詩]은 마침내 출간되었다. 해방을 불과 반 년 앞둔 1945년 늦겨울, 차디찬 형무소 바닥에 누워 외마디 고함을 끝으로... </description></item><item><title>&lt;b&gt;하늘&lt;/b&gt;에서 돌이 쿵!</title><link>http://book.naver.com/bookdb/book_detail.php?bid=20917286</link><image>https://bookthumb-phinf.pstatic.net/cover/209/172/20917286.jpg?type=m1&amp;udate=20211120</image><author>존 클라센</author><price>15000</price><discount>13500</discount><publisher>시공주니어</publisher><pubdate>20210905</pubdate><isbn>1165795833 9791165795832</isbn><description>칼데콧 상 수상자 존 클라센의 최신작  모자 3부작을 뛰어넘는 놀랍고도 경이로운 이야기!존 클라센의 이 놀라운 역작을 읽고 또 읽는 동안,독자는 웃음을 머금고 자신의 미래를 그리게 될 것이다.- 스쿨 라이브러리▶ 작품의 줄거리1장. 돌마음에 쏙 드는 자리를 찾은 거북이는 그 자리에 한참 서 있다. 그런... </description></item><item><title>나무가 있던 &lt;b&gt;하늘&lt;/b&gt; (최성각 산문집)</title><link>http://book.naver.com/bookdb/book_detail.php?bid=22363454</link><image>https://bookthumb-phinf.pstatic.net/cover/223/634/22363454.jpg?type=m1&amp;udate=20220427</image><author>최성각</author><price>18500</price><discount>16650</discount><publisher>오월의봄</publisher><pubdate>20220427</pubdate><isbn>1168730112 9791168730113</isbn><description>“소나무를 쓰러뜨린 사람은 &lt;b&gt;하늘&lt;/b&gt;도 파괴했다.”우리는 나무가 있던 &lt;b&gt;하늘&lt;/b&gt;을 무엇으로 채울 수 있을까?생태주의 작가 최성각의 삶과 문학론이 담긴... 있던 &lt;b&gt;하늘&lt;/b&gt;》이 나왔다. 이 산문집이 특별한 것은 최성각의 삶과 문학론이 온전히 실려 있다는 점이다. 이 세상의 거대한 폭력에 에세이로서 대응해온 작가의... </description></item></channel></rss>\n"
          ]
        }
      ]
    },
    {
      "cell_type": "code",
      "source": [
        "hdbc = BeautifulSoup(data,'html.parser')\n",
        "print(hdbc)"
      ],
      "metadata": {
        "colab": {
          "base_uri": "https://localhost:8080/"
        },
        "id": "JSmtxW4f6Ik-",
        "outputId": "f9905933-a983-41e0-b521-dde8fc46e129"
      },
      "execution_count": 42,
      "outputs": [
        {
          "output_type": "stream",
          "name": "stdout",
          "text": [
            "<?xml version=\"1.0\" encoding=\"UTF-8\"?><rss version=\"2.0\"><channel><title>Naver Open API - book ::'하늘'</title><link/>https://search.naver.com<description>Naver Search Result</description><lastbuilddate>Wed, 11 May 2022 20:37:00 +0900</lastbuilddate><total>100012</total><start>1</start><display>10</display><item><title>아기 동요 세상(&lt;b&gt;하늘&lt;/b&gt;)(튤립 사운드북)</title><link/>http://book.naver.com/bookdb/book_detail.php?bid=22432585<image/>https://bookthumb-phinf.pstatic.net/cover/224/325/22432585.jpg?type=m1&amp;udate=20220505<author>김혜진</author><price>18500</price><discount>16650</discount><publisher>스마트베어</publisher><pubdate>20220415</pubdate><isbn>0000113700 2090000113709</isbn><description>신나는 노래와 함께 행복한 아기 세상!200만 육아맘의 선택을 받은 튤립 사운드북 시리즈가 새롭게 업그레이드되었습니다. 튤립 사운드북의 첫 번째 캣 버전인 〈아기 동요 세상〉은 버튼 한 번만 누르면 동요가 연속적으로 반복 재생되는 오토리버스 기능이 있어 버튼을 다시 눌러야 하는 번거로움이 없고... </description></item><item><title>너의 &lt;b&gt;하늘&lt;/b&gt;을 보아(양장본 HardCover) (박노해 시집)</title><link/>http://book.naver.com/bookdb/book_detail.php?bid=22445987<image/>https://bookthumb-phinf.pstatic.net/cover/224/459/22445987.jpg?type=m1&amp;udate=20220505<author>박노해</author><price>19500</price><discount>17550</discount><publisher>느린걸음</publisher><pubdate>20220503</pubdate><isbn>8991418333 9788991418332</isbn><description>『그러니 그대 사라지지 말아라』 이후 박노해 시인의 12년만의 신작시집“아무것도 없다고 생각되는 순간조차우리 모두에게는 자신만의 &lt;b&gt;하늘&lt;/b&gt;이 있다”... 담겼습니다.&lt;b&gt;하늘&lt;/b&gt;같은 마음의 그대에게 박노해 시인이 건네는 별빛같은 시집, 『너의 &lt;b&gt;하늘&lt;/b&gt;을 보아』“힘들고 앞이 안 보일 때는 / 너의 &lt;b&gt;하늘&lt;/b&gt;을 보아 // 네가... </description></item><item><title>&lt;b&gt;하늘&lt;/b&gt;과 바람과 별과 시 (윤동주 전 시집, 서거 77주년, 탄생 105주년 기념 &amp;apos&lt;b&gt;하늘&lt;/b&gt;과 바람과 별과 시&amp;apos)</title><link/>http://book.naver.com/bookdb/book_detail.php?bid=21982801<image/>https://bookthumb-phinf.pstatic.net/cover/219/828/21982801.jpg?type=m1&amp;udate=20220217<author>윤동주</author><price>13000</price><discount>11700</discount><publisher>스타북스</publisher><pubdate>20220216</pubdate><isbn>1157956351 9791157956357</isbn><description>서거 77주년 탄생 105주년 기념 ‘&lt;b&gt;하늘&lt;/b&gt;과 바람과 별과 시’스테디셀러 『윤동주 전 시집』의 고급양장 뉴 에디션“3국을 아우르며 나날이 인기를... 시집 ‘&lt;b&gt;하늘&lt;/b&gt;과 바람과 별과 시’』는 윤동주 시인의 작품 전체를 비롯해 발문 및 후기까지를 모두 발굴하여 한 권에 담은 유일한 시집이다. 이 시집은 2017년... </description></item><item><title>한국 시집 초간본 100주년 기념판 &lt;b&gt;하늘&lt;/b&gt; 세트</title><link/>http://book.naver.com/bookdb/book_detail.php?bid=22317807<image/>https://bookthumb-phinf.pstatic.net/cover/223/178/22317807.jpg?type=m1&amp;udate=20220406<author>김억|김소월|한용운|정지용|김영랑</author><price>38000</price><discount>34200</discount><publisher>열린책들</publisher><pubdate>20220325</pubdate><isbn>8932922098 9788932922096</isbn><description>그렇게 최초의 창작시집 『해파리의 노래』(1923)부터 윤동주 시인의 『&lt;b&gt;하늘&lt;/b&gt;과 바람과 별과 시』(1948)까지 사반세기를 아우르는 스무 권의 시집이... &lt;b&gt;하늘&lt;/b&gt; 세트에는 주로 이상적인 세계(자연, 종교, 고향, 유년 시절 등)에 대한 향수를 서정적이고 차분하게 노래한 시집을 모았으며, 바람 세트에는 새로운 세계에... </description></item><item><title>&lt;b&gt;하늘&lt;/b&gt;양식 (2022 가정예배서)</title><link/>http://book.naver.com/bookdb/book_detail.php?bid=21292836<image/>https://bookthumb-phinf.pstatic.net/cover/212/928/21292836.jpg?type=m1&amp;udate=20211124<author>KMC 편집부</author><price>16000</price><discount>14400</discount><publisher>kmc</publisher><pubdate>20211115</pubdate><isbn>8984308625 9788984308626</isbn><description>가정예배는 ‘영혼의 밥상’이자 ‘숨겨진 &lt;b&gt;하늘&lt;/b&gt;의 보화’입니다.한상에 둘러앉아 먹고 마시듯 영적인 자양분을 섭취하는 밥상입니다.가정예배로 성령 충만하면 상처가 치유됩니다.위기가 닥쳐와도 이겨낼 수 있습니다.우리를 위해 준비된 &lt;b&gt;하늘&lt;/b&gt;의 보화입니다.올해 『&lt;b&gt;하늘&lt;/b&gt;양식』 은  - 연륜 있는 180여 명의... </description></item><item><title>파란&lt;b&gt;하늘&lt;/b&gt; 빨간지구 (기후변화와 인류세, 지구시스템에 관한 통합적 논의)</title><link/>http://book.naver.com/bookdb/book_detail.php?bid=14648716<image/>https://bookthumb-phinf.pstatic.net/cover/146/487/14648716.jpg?type=m1&amp;udate=20220112<author>조천호</author><price>16000</price><discount>14400</discount><publisher>동아시아</publisher><pubdate>20190329</pubdate><isbn>8962622718 9788962622713</isbn><description>먼 미래가 아닌 바로 지금 이 순간 직면한 위험, 기후변화를 말하다!조천호 전 국립기상과학원 원장은 일반인의 눈높이에서 기후변화 시대의 본질을 설명하는 『파란&lt;b&gt;하늘&lt;/b&gt; 빨간지구』. 우리가 누리고 있는 문명은 인간의 능력으로 이룩한 것 같지만, 사실 특정한 기후 조건에서 가능했던 우연의 산물이다. 현대... </description></item><item><title>&lt;b&gt;하늘&lt;/b&gt; 100층짜리 집</title><link/>http://book.naver.com/bookdb/book_detail.php?bid=12753269<image/>https://bookthumb-phinf.pstatic.net/cover/127/532/12753269.jpg?type=m1&amp;udate=20220302<author>이와이 도시오</author><price>12000</price><discount>10800</discount><publisher>북뱅크</publisher><pubdate>20171225</pubdate><isbn>8966350755 9788966350759</isbn><description>&lt;b&gt;하늘&lt;/b&gt; 100층짜리 집에는 누가누가 살고 있을까요?\n",
            "\n",
            "기발한 상상력이 돋보이는 색다른 감각의 숫자 그림책 「100층짜리 집」시리즈 제4탄 『&lt;b&gt;하늘&lt;/b&gt; 100층짜리 집』. 지상, 지하, 바다에 이어 &lt;b&gt;하늘&lt;/b&gt;에도 100층짜리 집이 있습니다. 어린 박새 추피가 &lt;b&gt;하늘&lt;/b&gt; 100층짜리 집을 10층, 20층, 30층… 이렇게 10층씩 올라가는 사이... </description></item><item><title>&lt;b&gt;하늘&lt;/b&gt;과 바람과 별과 시 (윤동주 유고시집, 1955년 10주기 기념)</title><link/>http://book.naver.com/bookdb/book_detail.php?bid=9991568<image/>https://bookthumb-phinf.pstatic.net/cover/099/915/09991568.jpg?type=m1&amp;udate=20201225<author>윤동주</author><price>9800</price><discount>8820</discount><publisher>소와다리</publisher><pubdate>20160209</pubdate><isbn>8998046687 9788998046682</isbn><description>별이 된 유고시집 [&lt;b&gt;하늘&lt;/b&gt;과 바람과 별과 詩] &amp;#x0D;1955년 10주기 기념 증보판&amp;#x0D;&amp;#x0D;“죽는 날까지 &lt;b&gt;하늘&lt;/b&gt;을 우르러 한 점 부끄럼이 없기를...”&amp;#x0D;&amp;#x0D;... 도움으로 [&lt;b&gt;하늘&lt;/b&gt;과 바람과 별과 詩]은 마침내 출간되었다. 해방을 불과 반 년 앞둔 1945년 늦겨울, 차디찬 형무소 바닥에 누워 외마디 고함을 끝으로... </description></item><item><title>&lt;b&gt;하늘&lt;/b&gt;에서 돌이 쿵!</title><link/>http://book.naver.com/bookdb/book_detail.php?bid=20917286<image/>https://bookthumb-phinf.pstatic.net/cover/209/172/20917286.jpg?type=m1&amp;udate=20211120<author>존 클라센</author><price>15000</price><discount>13500</discount><publisher>시공주니어</publisher><pubdate>20210905</pubdate><isbn>1165795833 9791165795832</isbn><description>칼데콧 상 수상자 존 클라센의 최신작  모자 3부작을 뛰어넘는 놀랍고도 경이로운 이야기!존 클라센의 이 놀라운 역작을 읽고 또 읽는 동안,독자는 웃음을 머금고 자신의 미래를 그리게 될 것이다.- 스쿨 라이브러리▶ 작품의 줄거리1장. 돌마음에 쏙 드는 자리를 찾은 거북이는 그 자리에 한참 서 있다. 그런... </description></item><item><title>나무가 있던 &lt;b&gt;하늘&lt;/b&gt; (최성각 산문집)</title><link/>http://book.naver.com/bookdb/book_detail.php?bid=22363454<image/>https://bookthumb-phinf.pstatic.net/cover/223/634/22363454.jpg?type=m1&amp;udate=20220427<author>최성각</author><price>18500</price><discount>16650</discount><publisher>오월의봄</publisher><pubdate>20220427</pubdate><isbn>1168730112 9791168730113</isbn><description>“소나무를 쓰러뜨린 사람은 &lt;b&gt;하늘&lt;/b&gt;도 파괴했다.”우리는 나무가 있던 &lt;b&gt;하늘&lt;/b&gt;을 무엇으로 채울 수 있을까?생태주의 작가 최성각의 삶과 문학론이 담긴... 있던 &lt;b&gt;하늘&lt;/b&gt;》이 나왔다. 이 산문집이 특별한 것은 최성각의 삶과 문학론이 온전히 실려 있다는 점이다. 이 세상의 거대한 폭력에 에세이로서 대응해온 작가의... </description></item></channel></rss>\n"
          ]
        }
      ]
    },
    {
      "cell_type": "code",
      "source": [
        "items = hdbc.find_all('item')\n",
        "print(len(items),type(items))"
      ],
      "metadata": {
        "colab": {
          "base_uri": "https://localhost:8080/"
        },
        "id": "jZG_KaqN6Jf-",
        "outputId": "1c244895-7ccb-46c9-8758-1bad06f60abd"
      },
      "execution_count": 43,
      "outputs": [
        {
          "output_type": "stream",
          "name": "stdout",
          "text": [
            "10 <class 'bs4.element.ResultSet'>\n"
          ]
        }
      ]
    },
    {
      "cell_type": "code",
      "source": [
        "for item in items:\n",
        "  print('=============')\n",
        "  print('제목:',item.find('title').get_text())\n",
        "  print('저자:',item.find('author').get_text())\n",
        "  print('가격:',item.find('price').get_text())"
      ],
      "metadata": {
        "colab": {
          "base_uri": "https://localhost:8080/"
        },
        "id": "Vost36sn6IiP",
        "outputId": "2450255b-f650-4a8d-b8c4-b4d57b48a147"
      },
      "execution_count": 44,
      "outputs": [
        {
          "output_type": "stream",
          "name": "stdout",
          "text": [
            "=============\n",
            "제목: 아기 동요 세상(<b>하늘</b>)(튤립 사운드북)\n",
            "저자: 김혜진\n",
            "가격: 18500\n",
            "=============\n",
            "제목: 너의 <b>하늘</b>을 보아(양장본 HardCover) (박노해 시집)\n",
            "저자: 박노해\n",
            "가격: 19500\n",
            "=============\n",
            "제목: <b>하늘</b>과 바람과 별과 시 (윤동주 전 시집, 서거 77주년, 탄생 105주년 기념 &apos<b>하늘</b>과 바람과 별과 시&apos)\n",
            "저자: 윤동주\n",
            "가격: 13000\n",
            "=============\n",
            "제목: 한국 시집 초간본 100주년 기념판 <b>하늘</b> 세트\n",
            "저자: 김억|김소월|한용운|정지용|김영랑\n",
            "가격: 38000\n",
            "=============\n",
            "제목: <b>하늘</b>양식 (2022 가정예배서)\n",
            "저자: KMC 편집부\n",
            "가격: 16000\n",
            "=============\n",
            "제목: 파란<b>하늘</b> 빨간지구 (기후변화와 인류세, 지구시스템에 관한 통합적 논의)\n",
            "저자: 조천호\n",
            "가격: 16000\n",
            "=============\n",
            "제목: <b>하늘</b> 100층짜리 집\n",
            "저자: 이와이 도시오\n",
            "가격: 12000\n",
            "=============\n",
            "제목: <b>하늘</b>과 바람과 별과 시 (윤동주 유고시집, 1955년 10주기 기념)\n",
            "저자: 윤동주\n",
            "가격: 9800\n",
            "=============\n",
            "제목: <b>하늘</b>에서 돌이 쿵!\n",
            "저자: 존 클라센\n",
            "가격: 15000\n",
            "=============\n",
            "제목: 나무가 있던 <b>하늘</b> (최성각 산문집)\n",
            "저자: 최성각\n",
            "가격: 18500\n"
          ]
        }
      ]
    },
    {
      "cell_type": "code",
      "source": [
        "search= item.find('price')\n",
        "search"
      ],
      "metadata": {
        "colab": {
          "base_uri": "https://localhost:8080/"
        },
        "id": "58mAduhW6PqP",
        "outputId": "a967cd98-d726-4de6-f870-88e50ffac798"
      },
      "execution_count": 48,
      "outputs": [
        {
          "output_type": "execute_result",
          "data": {
            "text/plain": [
              "<price>18500</price>"
            ]
          },
          "metadata": {},
          "execution_count": 48
        }
      ]
    },
    {
      "cell_type": "code",
      "source": [
        ""
      ],
      "metadata": {
        "id": "wjkP2JuW6ZAC"
      },
      "execution_count": null,
      "outputs": []
    }
  ]
}